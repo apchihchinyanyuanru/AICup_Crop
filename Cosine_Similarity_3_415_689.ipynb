{
 "cells": [
  {
   "cell_type": "code",
   "execution_count": 2,
   "id": "bfe468a6",
   "metadata": {},
   "outputs": [],
   "source": [
    "# load package\n",
    "import pandas as pd\n",
    "import numpy as np\n",
    "import matplotlib.pyplot as plt\n",
    "from sklearn.feature_extraction.text import TfidfVectorizer\n",
    "from sklearn.feature_extraction.text import CountVectorizer\n",
    "from sklearn.feature_extraction.text import TfidfTransformer\n",
    "from sklearn.metrics.pairwise import cosine_similarity"
   ]
  },
  {
   "cell_type": "code",
   "execution_count": 3,
   "id": "fc89bf0e",
   "metadata": {},
   "outputs": [
    {
     "data": {
      "text/html": [
       "<div>\n",
       "<style scoped>\n",
       "    .dataframe tbody tr th:only-of-type {\n",
       "        vertical-align: middle;\n",
       "    }\n",
       "\n",
       "    .dataframe tbody tr th {\n",
       "        vertical-align: top;\n",
       "    }\n",
       "\n",
       "    .dataframe thead th {\n",
       "        text-align: right;\n",
       "    }\n",
       "</style>\n",
       "<table border=\"1\" class=\"dataframe\">\n",
       "  <thead>\n",
       "    <tr style=\"text-align: right;\">\n",
       "      <th></th>\n",
       "      <th>id</th>\n",
       "      <th>article</th>\n",
       "      <th>words</th>\n",
       "    </tr>\n",
       "  </thead>\n",
       "  <tbody>\n",
       "    <tr>\n",
       "      <th>0</th>\n",
       "      <td>3</td>\n",
       "      <td>夏季為斜紋夜盜及甜菜夜蛾發生盛期，請加強注意，及時防治避免損失。 夏日乾燥炎熱的氣候，正是許...</td>\n",
       "      <td>['夏季', '斜紋', '夜盜', '甜菜夜蛾', '發生', '盛期', '請', '加...</td>\n",
       "    </tr>\n",
       "    <tr>\n",
       "      <th>1</th>\n",
       "      <td>415</td>\n",
       "      <td>夜蛾拉警報，白粉等著來，臺南區農改場籲請加強防治。臺南區農改場、防檢局及田邊好幫手關心您。 ...</td>\n",
       "      <td>['夜蛾', '拉', '警報', '白粉', '著來', '臺南_區農_改場_籲請', '...</td>\n",
       "    </tr>\n",
       "    <tr>\n",
       "      <th>2</th>\n",
       "      <td>689</td>\n",
       "      <td>台南區農改場籲請農民注意及時防治斜紋夜盜蟲，提前壓低害蟲密度，以確保作物收成 斜紋夜盜蟲每年...</td>\n",
       "      <td>['台南_區農', '改場_籲請', '農民_注意', '及時', '防治', '斜紋夜盜蟲...</td>\n",
       "    </tr>\n",
       "  </tbody>\n",
       "</table>\n",
       "</div>"
      ],
      "text/plain": [
       "    id                                            article  \\\n",
       "0    3  夏季為斜紋夜盜及甜菜夜蛾發生盛期，請加強注意，及時防治避免損失。 夏日乾燥炎熱的氣候，正是許...   \n",
       "1  415  夜蛾拉警報，白粉等著來，臺南區農改場籲請加強防治。臺南區農改場、防檢局及田邊好幫手關心您。 ...   \n",
       "2  689  台南區農改場籲請農民注意及時防治斜紋夜盜蟲，提前壓低害蟲密度，以確保作物收成 斜紋夜盜蟲每年...   \n",
       "\n",
       "                                               words  \n",
       "0  ['夏季', '斜紋', '夜盜', '甜菜夜蛾', '發生', '盛期', '請', '加...  \n",
       "1  ['夜蛾', '拉', '警報', '白粉', '著來', '臺南_區農_改場_籲請', '...  \n",
       "2  ['台南_區農', '改場_籲請', '農民_注意', '及時', '防治', '斜紋夜盜蟲...  "
      ]
     },
     "execution_count": 3,
     "metadata": {},
     "output_type": "execute_result"
    }
   ],
   "source": [
    "# read article 3 and 415\n",
    "df_all = pd.read_csv('../input/test2.csv', header = 0, names=[\"id\", \"article\", \"words\"])\n",
    "df_article = pd.concat([df_all[df_all[\"id\"] == 3], df_all[df_all[\"id\"] == 415], df_all[df_all[\"id\"] == 689]], ignore_index=True)\n",
    "df_article"
   ]
  },
  {
   "cell_type": "code",
   "execution_count": 4,
   "id": "7c5d598e",
   "metadata": {},
   "outputs": [],
   "source": [
    "# comput tf\n",
    "vectorizer = CountVectorizer() \n",
    "text_count_vector = vectorizer.fit_transform(df_article.words)\n",
    "tf_vector = text_count_vector.toarray()\n",
    "\n",
    "# print('============全部字詞=============')\n",
    "# print(vectorizer.get_feature_names())\n",
    "# print()\n",
    "# print('==========各文件字詞統計==============')\n",
    "# print(text_count_vector.toarray())\n",
    "# print()\n"
   ]
  },
  {
   "cell_type": "code",
   "execution_count": 5,
   "id": "753c1111",
   "metadata": {},
   "outputs": [],
   "source": [
    "tfidf_transfomer = TfidfTransformer()\n",
    "docs_tfidf = tfidf_transfomer.fit_transform(text_count_vector)\n",
    "df = pd.DataFrame(docs_tfidf.T.toarray(), index=vectorizer.get_feature_names())\n",
    "\n",
    "# print('==============IDF============')\n",
    "# print(tfidf_transfomer.idf_)\n",
    "# print()\n",
    "\n",
    "# print('============TFIDF============')\n",
    "# print(df)\n",
    "# print()"
   ]
  },
  {
   "cell_type": "code",
   "execution_count": 6,
   "id": "038e5741",
   "metadata": {},
   "outputs": [],
   "source": [
    "# print('============關鍵字萃取============')\n",
    "# for i, vector in enumerate(docs_tfidf.toarray()):\n",
    "#     doc_tfidf = list(zip(vectorizer.get_feature_names(), vector))\n",
    "#     doc_tfidf = sorted(doc_tfidf, key=lambda x: x[1], reverse=True)\n",
    "#     top3_keywords = [x[0] for x in doc_tfidf[:3]]\n",
    "#     print('doc' + str(i+1) + \": \" + '、'.join(top3_keywords))"
   ]
  },
  {
   "cell_type": "code",
   "execution_count": 7,
   "id": "a7c454c7",
   "metadata": {},
   "outputs": [],
   "source": [
    "# docs = df_article.to_numpy()\n",
    "# docs[0][2]"
   ]
  },
  {
   "cell_type": "markdown",
   "id": "85236849",
   "metadata": {},
   "source": [
    "Actual Results\n",
    "- 3 -> 415\n",
    "- 689 -> 415"
   ]
  },
  {
   "cell_type": "code",
   "execution_count": 8,
   "id": "91b8b410",
   "metadata": {},
   "outputs": [
    {
     "name": "stdout",
     "output_type": "stream",
     "text": [
      "============TF + 餘弦相似度============\n",
      "文本：3, 415   TF + 餘弦相似度： [[0.3380617]]\n",
      "文本：3, 689   TF + 餘弦相似度： [[0.29349018]]\n",
      "文本：415, 689 TF + 餘弦相似度： [[0.57525848]]\n",
      "文本：689, 415 TF + 餘弦相似度： [[0.57525848]]\n"
     ]
    }
   ],
   "source": [
    "print('============TF + 餘弦相似度============')\n",
    "# Results\n",
    "print('文本：3, 415   TF + 餘弦相似度：', cosine_similarity([tf_vector[0]], [tf_vector[1]]))\n",
    "print('文本：3, 689   TF + 餘弦相似度：', cosine_similarity([tf_vector[0]], [tf_vector[2]]))\n",
    "print('文本：415, 689 TF + 餘弦相似度：', cosine_similarity([tf_vector[1]], [tf_vector[2]]))\n",
    "print('文本：689, 415 TF + 餘弦相似度：', cosine_similarity([tf_vector[2]], [tf_vector[1]]))"
   ]
  },
  {
   "cell_type": "code",
   "execution_count": 9,
   "id": "d83a1606",
   "metadata": {},
   "outputs": [
    {
     "data": {
      "text/plain": [
       "array([[1.        , 0.3380617 , 0.29349018],\n",
       "       [0.3380617 , 1.        , 0.57525848],\n",
       "       [0.29349018, 0.57525848, 1.        ]])"
      ]
     },
     "execution_count": 9,
     "metadata": {},
     "output_type": "execute_result"
    }
   ],
   "source": [
    "cosine_similarity(tf_vector, tf_vector)"
   ]
  },
  {
   "cell_type": "code",
   "execution_count": 32,
   "id": "53365a92",
   "metadata": {},
   "outputs": [
    {
     "name": "stdout",
     "output_type": "stream",
     "text": [
      "============TF-IDF + 餘弦相似度============\n",
      "文本：3, 415   TF-IDF + 餘弦相似度： [[0.21108354]]\n",
      "文本：3, 689   TF-IDF + 餘弦相似度： [[0.17296192]]\n",
      "文本：415, 689 TF-IDF + 餘弦相似度： [[0.3971169]]\n",
      "文本：689, 415 TF-IDF + 餘弦相似度： [[0.3971169]]\n"
     ]
    }
   ],
   "source": [
    "print('============TF-IDF + 餘弦相似度============')\n",
    "# Results\n",
    "print('文本：3, 415   TF-IDF + 餘弦相似度：', cosine_similarity([df[0]], [df[1]]))\n",
    "print('文本：3, 689   TF-IDF + 餘弦相似度：', cosine_similarity([df[0]], [df[2]]))\n",
    "print('文本：415, 689 TF-IDF + 餘弦相似度：', cosine_similarity([df[1]], [df[2]]))\n",
    "print('文本：689, 415 TF-IDF + 餘弦相似度：', cosine_similarity([df[2]], [df[1]]))"
   ]
  },
  {
   "cell_type": "code",
   "execution_count": 64,
   "id": "3a85a568",
   "metadata": {},
   "outputs": [],
   "source": [
    "# End of file"
   ]
  }
 ],
 "metadata": {
  "kernelspec": {
   "display_name": "Python 3",
   "language": "python",
   "name": "python3"
  },
  "language_info": {
   "codemirror_mode": {
    "name": "ipython",
    "version": 3
   },
   "file_extension": ".py",
   "mimetype": "text/x-python",
   "name": "python",
   "nbconvert_exporter": "python",
   "pygments_lexer": "ipython3",
   "version": "3.8.8"
  }
 },
 "nbformat": 4,
 "nbformat_minor": 5
}
