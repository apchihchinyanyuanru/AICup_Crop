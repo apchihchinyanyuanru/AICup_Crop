{
 "cells": [
  {
   "cell_type": "markdown",
   "id": "3c9d810e",
   "metadata": {},
   "source": [
    "# LightGBM\n",
    "1. Appearance, Times and Similarities feature data without sample weight\n",
    "2. Appearance and Similarities feature data without sample weight"
   ]
  },
  {
   "cell_type": "code",
   "execution_count": 2,
   "id": "b386eaaf",
   "metadata": {},
   "outputs": [],
   "source": [
    "# load package\n",
    "import pandas as pd\n",
    "import numpy as np"
   ]
  },
  {
   "cell_type": "markdown",
   "id": "a4c203cd",
   "metadata": {},
   "source": [
    "# Appearance, Times and Similarities feature data"
   ]
  },
  {
   "cell_type": "code",
   "execution_count": 3,
   "id": "9d422347",
   "metadata": {},
   "outputs": [],
   "source": [
    "# read similarity feature data\n",
    "X1 = np.load('../../input/model feed/X1_appearance_times.npy')\n",
    "X2 = np.load('../../input/model feed/X2_appearance_times.npy')\n",
    "y1 = np.load('../../input/model feed/Y1.npy')"
   ]
  },
  {
   "cell_type": "code",
   "execution_count": null,
   "id": "7c758a0d",
   "metadata": {},
   "outputs": [],
   "source": [
    "# split data into testing set and training set\n",
    "# 80% of data into the training set, while the rest 20% is used as a testing set.\n",
    "from sklearn.model_selection import train_test_split\n",
    "\n",
    "X_train, X_test, y_train, y_test = train_test_split(X1, y1, test_size=0.2, random_state=345)"
   ]
  },
  {
   "cell_type": "markdown",
   "id": "5dfe0e5b",
   "metadata": {},
   "source": [
    "## No Sample weight"
   ]
  },
  {
   "cell_type": "code",
   "execution_count": null,
   "id": "a9b098b5",
   "metadata": {},
   "outputs": [],
   "source": [
    "# train model\n",
    "from lightgbm import LGBMClassifier\n",
    "from sklearn.utils import class_weight\n",
    "\n",
    "gbm1 = LGBMClassifier(num_leaves=31, learning_rate=0.05, n_estimators=40)\n",
    "gbm1.fit(X_train, y_train, eval_set=[(X_test, y_test)], early_stopping_rounds=5)"
   ]
  },
  {
   "cell_type": "code",
   "execution_count": null,
   "id": "f3d7a719",
   "metadata": {},
   "outputs": [],
   "source": [
    "# predict\n",
    "y_pred = gbm1.predict(X_test, num_iteration=gbm1.best_iteration_)"
   ]
  },
  {
   "cell_type": "code",
   "execution_count": null,
   "id": "f74bdef9",
   "metadata": {},
   "outputs": [],
   "source": [
    "# accuracy score for the result\n",
    "from sklearn.metrics import accuracy_score\n",
    "\n",
    "print('The accuracy of prediction is:', accuracy_score(y_test, y_pred))"
   ]
  },
  {
   "cell_type": "code",
   "execution_count": null,
   "id": "5686f1ea",
   "metadata": {},
   "outputs": [],
   "source": [
    "from sklearn.metrics import classification_report\n",
    "report_app_times_simi_no_sample = classification_report(y_true=y_test, y_pred=y_pred, digits=4)\n",
    "print(report_app_times_simi_no_sample)"
   ]
  },
  {
   "cell_type": "code",
   "execution_count": null,
   "id": "83c7bdc1",
   "metadata": {},
   "outputs": [],
   "source": [
    "# Feature importances\n",
    "print('Feature importances:', list(gbm1.feature_importances_))"
   ]
  },
  {
   "cell_type": "code",
   "execution_count": null,
   "id": "964b44da",
   "metadata": {},
   "outputs": [],
   "source": [
    "# search for better parameter\n",
    "from sklearn.model_selection import GridSearchCV\n",
    "\n",
    "estimator = LGBMClassifier(num_leaves=31)\n",
    "param_grid = {\n",
    "    'learning_rate': [0.01, 0.05, 0.1, 1],\n",
    "    'n_estimators': [20, 40]\n",
    "}\n",
    "gbm_ = GridSearchCV(estimator, param_grid)\n",
    "gbm_.fit(X_train, y_train)\n",
    "print('Best parameters found by grid search are:', gbm_.best_params_)"
   ]
  },
  {
   "cell_type": "markdown",
   "id": "d09f90f3",
   "metadata": {},
   "source": [
    "--- \n",
    "#  Appearance and Similarities features data"
   ]
  },
  {
   "cell_type": "code",
   "execution_count": 3,
   "id": "865c2cdc",
   "metadata": {},
   "outputs": [],
   "source": [
    "# read all feature data\n",
    "X1 = np.load('../../input/model feed/X1_similarity_appearance.npy')\n",
    "X2 = np.load('../../input/model feed/X2_similarity_appearance.npy')\n",
    "y1 = np.load('../../input/model feed/Y1.npy')"
   ]
  },
  {
   "cell_type": "code",
   "execution_count": 4,
   "id": "00f3310c",
   "metadata": {},
   "outputs": [],
   "source": [
    "# split data into testing set and training set\n",
    "# 80% of data into the training set, while the rest 20% is used as a testing set.\n",
    "from sklearn.model_selection import train_test_split\n",
    "\n",
    "X_train, X_test, y_train, y_test = train_test_split(X1, y1, test_size=0.2, random_state=345)"
   ]
  },
  {
   "cell_type": "markdown",
   "id": "633ffc25",
   "metadata": {},
   "source": [
    "## No Sample weight"
   ]
  },
  {
   "cell_type": "code",
   "execution_count": 5,
   "id": "44f10183",
   "metadata": {},
   "outputs": [
    {
     "name": "stderr",
     "output_type": "stream",
     "text": [
      "C:\\Users\\small\\anaconda3\\lib\\site-packages\\lightgbm\\sklearn.py:726: UserWarning: 'early_stopping_rounds' argument is deprecated and will be removed in a future release of LightGBM. Pass 'early_stopping()' callback via 'callbacks' argument instead.\n",
      "  _log_warning(\"'early_stopping_rounds' argument is deprecated and will be removed in a future release of LightGBM. \"\n"
     ]
    },
    {
     "name": "stdout",
     "output_type": "stream",
     "text": [
      "[1]\tvalid_0's binary_logloss: 0.0115361\n",
      "[2]\tvalid_0's binary_logloss: 0.0108652\n",
      "[3]\tvalid_0's binary_logloss: 0.0105108\n",
      "[4]\tvalid_0's binary_logloss: 0.0102118\n",
      "[5]\tvalid_0's binary_logloss: 0.00995292\n",
      "[6]\tvalid_0's binary_logloss: 0.0097036\n",
      "[7]\tvalid_0's binary_logloss: 0.00943077\n",
      "[8]\tvalid_0's binary_logloss: 0.0092062\n",
      "[9]\tvalid_0's binary_logloss: 0.00907082\n",
      "[10]\tvalid_0's binary_logloss: 0.00888261\n",
      "[11]\tvalid_0's binary_logloss: 0.00872438\n",
      "[12]\tvalid_0's binary_logloss: 0.00857246\n",
      "[13]\tvalid_0's binary_logloss: 0.00841599\n",
      "[14]\tvalid_0's binary_logloss: 0.00829041\n",
      "[15]\tvalid_0's binary_logloss: 0.00814493\n",
      "[16]\tvalid_0's binary_logloss: 0.00801554\n",
      "[17]\tvalid_0's binary_logloss: 0.00761835\n",
      "[18]\tvalid_0's binary_logloss: 0.00748999\n",
      "[19]\tvalid_0's binary_logloss: 0.00739824\n",
      "[20]\tvalid_0's binary_logloss: 0.00729192\n",
      "[21]\tvalid_0's binary_logloss: 0.00718136\n",
      "[22]\tvalid_0's binary_logloss: 0.00706169\n",
      "[23]\tvalid_0's binary_logloss: 0.00694365\n",
      "[24]\tvalid_0's binary_logloss: 0.00685517\n",
      "[25]\tvalid_0's binary_logloss: 0.0067407\n",
      "[26]\tvalid_0's binary_logloss: 0.00665772\n",
      "[27]\tvalid_0's binary_logloss: 0.00656669\n",
      "[28]\tvalid_0's binary_logloss: 0.0064735\n",
      "[29]\tvalid_0's binary_logloss: 0.00639668\n",
      "[30]\tvalid_0's binary_logloss: 0.00632328\n",
      "[31]\tvalid_0's binary_logloss: 0.00625031\n",
      "[32]\tvalid_0's binary_logloss: 0.00619766\n",
      "[33]\tvalid_0's binary_logloss: 0.00612717\n",
      "[34]\tvalid_0's binary_logloss: 0.00605253\n",
      "[35]\tvalid_0's binary_logloss: 0.00599542\n",
      "[36]\tvalid_0's binary_logloss: 0.00594781\n",
      "[37]\tvalid_0's binary_logloss: 0.00591309\n",
      "[38]\tvalid_0's binary_logloss: 0.00586438\n",
      "[39]\tvalid_0's binary_logloss: 0.00580677\n",
      "[40]\tvalid_0's binary_logloss: 0.00576508\n"
     ]
    },
    {
     "data": {
      "text/plain": [
       "LGBMClassifier(learning_rate=0.05, n_estimators=40)"
      ]
     },
     "execution_count": 5,
     "metadata": {},
     "output_type": "execute_result"
    }
   ],
   "source": [
    "# train model\n",
    "from lightgbm import LGBMClassifier\n",
    "from sklearn.utils import class_weight\n",
    "\n",
    "gbm3 = LGBMClassifier(num_leaves=31, learning_rate=0.05, n_estimators=40)\n",
    "gbm3.fit(X_train, y_train, eval_set=[(X_test, y_test)], early_stopping_rounds=5)"
   ]
  },
  {
   "cell_type": "code",
   "execution_count": 6,
   "id": "1bf9a544",
   "metadata": {},
   "outputs": [],
   "source": [
    "# predict\n",
    "y_pred = gbm3.predict(X_test, num_iteration=gbm3.best_iteration_)"
   ]
  },
  {
   "cell_type": "code",
   "execution_count": 7,
   "id": "9042ea55",
   "metadata": {},
   "outputs": [
    {
     "name": "stdout",
     "output_type": "stream",
     "text": [
      "The accuracy of prediction is: 0.9985573455157489\n"
     ]
    }
   ],
   "source": [
    "# accuracy score for the result\n",
    "from sklearn.metrics import accuracy_score\n",
    "\n",
    "print('The accuracy of prediction is:', accuracy_score(y_test, y_pred))"
   ]
  },
  {
   "cell_type": "code",
   "execution_count": 8,
   "id": "10381807",
   "metadata": {},
   "outputs": [
    {
     "name": "stdout",
     "output_type": "stream",
     "text": [
      "              precision    recall  f1-score   support\n",
      "\n",
      "         0.0     0.9991    0.9994    0.9993     62097\n",
      "         1.0     0.8694    0.8090    0.8381       288\n",
      "\n",
      "    accuracy                         0.9986     62385\n",
      "   macro avg     0.9343    0.9042    0.9187     62385\n",
      "weighted avg     0.9985    0.9986    0.9985     62385\n",
      "\n"
     ]
    }
   ],
   "source": [
    "from sklearn.metrics import classification_report\n",
    "report_simi_app_no_sample = classification_report(y_true=y_test, y_pred=y_pred, digits=4)\n",
    "print(report_simi_app_no_sample)"
   ]
  },
  {
   "cell_type": "code",
   "execution_count": 9,
   "id": "230fab70",
   "metadata": {},
   "outputs": [
    {
     "name": "stdout",
     "output_type": "stream",
     "text": [
      "Feature importances: [104, 52, 16, 81, 90, 53, 64, 67, 0, 0, 0, 2, 0, 0, 0, 0, 0, 0, 0, 0, 0, 2, 1, 0, 0, 0, 0, 0, 5, 0, 1, 4, 2, 0, 8, 0, 0, 1, 4, 0, 0, 2, 3, 0, 0, 0, 0, 2, 7, 0, 9, 0, 0, 0, 0, 0, 2, 0, 0, 3, 0, 0, 0, 8, 0, 0, 0, 0, 0, 0, 0, 0, 0, 0, 0, 0, 0, 0, 0, 1, 0, 0, 0, 0, 0, 0, 0, 0, 0, 0, 0, 0, 0, 0, 9, 1, 0, 0, 0, 0, 0, 0, 0, 0, 0, 0, 0, 0, 0, 0, 0, 0, 0, 0, 0, 0, 0, 0, 0, 0, 0, 0, 0, 0, 0, 0, 0, 0, 0, 0, 0, 0, 0, 0, 0, 0, 0, 0, 0, 0, 0, 0, 1, 0, 0, 0, 10, 0, 0, 0, 12, 0, 0, 0, 0, 0, 0, 0, 10, 0, 0, 0, 0, 0, 6, 0, 0, 0, 0, 0, 0, 0, 0, 0, 0, 0, 0, 0, 0, 0, 0, 0, 0, 0, 0, 0, 0, 0, 0, 0, 6, 0, 0, 4, 0, 0, 0, 0, 0, 0, 0, 0, 0, 0, 0, 0, 0, 0, 0, 0, 0, 0, 0, 0, 0, 0, 0, 0, 0, 0, 0, 0, 0, 0, 0, 0, 0, 0, 0, 0, 0, 0, 0, 0, 0, 0, 0, 0, 0, 0, 0, 0, 0, 0, 0, 0, 0, 0, 0, 0, 0, 0, 0, 0, 0, 0, 0, 0, 0, 0, 0, 0, 0, 0, 0, 0, 0, 0, 0, 0, 0, 0, 0, 0, 0, 0, 0, 0, 0, 0, 0, 0, 0, 0, 0, 0, 0, 0, 0, 0, 0, 0, 0, 1, 0, 0, 0, 0, 0, 0, 0, 0, 0, 0, 0, 0, 0, 0, 0, 0, 0, 0, 0, 0, 7, 0, 6, 0, 0, 0, 0, 0, 0, 0, 0, 0, 0, 0, 0, 0, 0, 0, 0, 0, 0, 0, 0, 0, 0, 0, 0, 0, 5, 0, 0, 0, 0, 0, 0, 0, 0, 0, 0, 0, 0, 0, 0, 0, 0, 0, 0, 0, 0, 0, 0, 0, 0, 0, 0, 0, 0, 0, 0, 0, 0, 0, 0, 3, 2, 1, 0, 0, 0, 0, 0, 2, 0, 0, 0, 0, 0, 0, 0, 0, 0, 0, 0, 0, 0, 0, 0, 0, 0, 13, 8, 2, 0, 0, 7, 0, 1, 0, 0, 3, 0, 0, 1, 0, 1, 0, 0, 0, 2, 0, 0, 0, 0, 0, 0, 0, 0, 0, 0, 0, 0, 0, 0, 0, 0, 0, 4, 0, 0, 0, 0, 0, 0, 0, 0, 0, 0, 0, 0, 0, 0, 0, 0, 0, 0, 0, 0, 0, 0, 0, 0, 0, 0, 0, 3, 0, 0, 0, 0, 0, 0, 0, 0, 0, 0, 0, 0, 0, 9, 0, 0, 0, 0, 0, 0, 0, 0, 0, 0, 0, 0, 0, 0, 0, 0, 0, 0, 0, 0, 0, 0, 0, 0, 0, 0, 0, 0, 0, 0, 0, 0, 0, 0, 0, 0, 0, 0, 0, 0, 0, 0, 0, 0, 0, 0, 0, 0, 0, 0, 0, 0, 0, 0, 0, 0, 0, 0, 0, 0, 0, 0, 0, 0, 0, 0, 0, 0, 0, 0, 0, 0, 0, 0, 0, 0, 0, 0, 0, 0, 0, 0, 0, 1, 0, 0, 1, 0, 0, 0, 0, 0, 0, 0, 0, 5, 5, 0, 0, 0, 0, 2, 0, 5, 0, 7, 0, 6, 2, 23, 0, 0, 0, 0, 16, 0, 0, 0, 0, 0, 0, 1, 0, 9, 0, 0, 0, 0, 0, 1, 0, 0, 0, 0, 0, 0, 0, 0, 0, 0, 0, 0, 0, 0, 0, 0, 0, 1, 0, 0, 0, 6, 0, 0, 0, 0, 0, 0, 0, 0, 0, 0, 0, 0, 0, 0, 0, 0, 0, 0, 0, 0, 0, 0, 0, 0, 0, 0, 0, 0, 0, 0, 0, 0, 0, 0, 0, 0, 0, 0, 0, 0, 0, 0, 0, 0, 0, 0, 0, 0, 0, 0, 0, 0, 0, 0, 0, 0, 0, 0, 0, 0, 0, 0, 0, 0, 0, 0, 0, 0, 0, 0, 0, 0, 0, 0, 0, 0, 0, 0, 0, 0, 0, 0, 0, 0, 0, 0, 0, 0, 2, 0, 0, 0, 0, 0, 0, 0, 0, 0, 2, 2, 3, 0, 0, 0, 0, 0, 0, 0, 0, 0, 0, 0, 0, 0, 0, 0, 0, 0, 2, 2, 0, 0, 0, 0, 0, 0, 0, 0, 0, 0, 0, 0, 0, 0, 0, 0, 0, 0, 0, 0, 0, 2, 0, 2, 0, 0, 0, 0, 0, 0, 4, 1, 8, 0, 2, 5, 2, 0, 3, 5, 2, 1, 0, 8, 9, 0, 15, 1, 0, 0, 0, 0, 0, 0, 0, 2, 8, 2, 7, 0, 1, 1, 0, 4, 0, 2, 0, 9, 1, 0, 0, 1, 0, 0, 1, 0, 0, 0, 0, 0, 0, 0, 4, 0, 0, 0, 1, 0, 1, 0, 0, 0, 0, 0, 0, 0, 0, 8, 0, 0, 0, 2, 10, 4, 1, 0, 0, 0, 1, 0, 0, 0, 0, 0, 0, 0, 0, 0, 0, 0, 0, 0, 0, 0, 0, 0, 0, 0, 0, 0, 0, 0, 0, 0, 0, 0, 0, 0, 1, 0, 0, 0, 0, 0, 0, 0, 0, 0, 0, 0, 0, 0, 0, 0, 0, 0, 0, 0, 0, 0, 0, 0, 0, 0, 0, 2, 0, 13, 0, 0, 0, 0, 0, 0, 0, 0, 0, 0, 0, 0, 0, 0, 0, 0, 0, 0, 0, 0, 0, 3, 0, 0, 1, 0, 0, 0, 0, 0, 0, 0, 0, 0, 4, 0, 0, 0, 0, 0, 0, 0, 0, 0, 0, 0, 0, 0, 0, 0, 0, 0, 0, 0, 0, 0, 0, 0, 0, 0, 0, 2, 0, 0, 0, 0, 0, 0, 0, 0, 0, 0, 0, 0, 0, 0, 0, 0, 0, 0, 0, 0, 0, 0, 0, 0, 0, 0, 0, 0, 0, 0, 0, 0, 0, 0, 0, 0, 0, 0, 0, 0, 0, 0, 0, 0, 0, 0, 0, 0, 0, 0, 0, 0, 0, 0, 0, 0, 0, 0, 0, 0, 0, 0, 0, 0, 0, 0, 0, 8, 0, 0, 0, 0, 0, 0, 0, 0, 1, 0, 0, 0, 0, 0, 0, 0, 0, 0, 0, 0, 0, 0, 1, 0, 0, 0, 0, 0, 0, 0, 0, 3, 0, 0, 0, 0, 0, 0, 0, 0, 0, 0, 0, 0, 0, 0, 0, 0, 0, 0, 0, 0, 0, 5, 2, 0, 0, 0, 0, 0, 0, 0, 0, 0, 0, 0, 0, 0, 0, 0, 0, 0, 0, 0, 0, 0, 0, 0, 0, 0, 0, 0, 0, 0, 0, 0, 0, 0, 1, 2, 0, 0, 0, 0, 0, 0, 4, 0, 5, 3, 0, 2, 0, 0, 0, 0, 0, 0, 0, 0, 0, 0, 0, 1, 1, 0, 0, 4, 0, 0, 0, 0, 0, 0, 10, 0, 0, 0, 1, 7, 0, 0, 0, 0, 0, 0, 1, 0, 0, 0, 0, 0, 0, 0, 0, 0, 0, 0, 3, 0, 0, 0, 0, 2, 1, 0, 0, 0, 0, 0, 0, 0, 0, 0, 0, 0, 0, 0, 0, 1, 0, 0, 0, 0, 0, 0, 0, 0, 0, 9, 0, 0, 0, 0, 0, 0, 1, 0, 0, 0, 0, 0, 0, 15, 0, 0, 0, 0, 0, 0, 0, 0, 0, 0, 0, 0, 0, 0, 0, 3, 0, 0, 0, 0, 0, 0, 0, 0, 0, 0, 0, 0, 0, 0, 0, 0, 0, 0, 0, 0, 0, 0, 0, 0, 0, 0, 0, 0, 0, 0, 0, 0, 0, 0, 0, 0, 0, 0, 0, 0, 0, 0, 0, 0, 0, 0, 0, 0, 0, 0, 0, 0, 0, 0, 0, 0, 0, 0, 0, 0, 0, 0, 0, 0, 0, 0, 0, 3, 0, 0, 0, 0, 0, 0, 0, 0, 0, 0, 0, 0, 0, 0, 0, 3, 0, 8, 0, 0, 0, 12, 0, 1, 7, 2, 0, 2, 0, 0, 1, 0, 0, 0, 0, 0, 0, 0, 2, 11, 0, 0, 0, 0, 0, 0, 0, 0, 0, 0, 0, 2, 0, 0, 0, 0, 0, 0, 0, 0, 0, 0, 0, 0, 0, 0, 0, 1, 0, 0, 0, 0, 0, 0, 0, 0, 0, 0, 0, 0, 0, 0, 0, 0, 0, 0, 0, 0, 0, 0, 1, 0, 0, 0, 0, 0, 0, 0, 0, 0, 0, 0, 0, 0, 0, 0, 0, 0, 0, 0, 0, 0, 0, 0, 0, 0, 0, 0, 0, 0, 0, 0, 0, 1, 0, 0, 0, 0, 0, 0, 0, 4, 0, 0, 0, 0, 0, 0, 0, 0, 0, 0, 0, 0, 0, 0, 0, 0, 0, 0, 0, 0, 0, 0, 0, 0, 0, 0, 0, 0, 0, 0, 0, 0, 0, 0, 4, 0, 0, 0, 0, 0, 0, 0, 0, 0, 0, 0, 0, 0, 8, 0, 2, 0, 0, 0, 5, 1, 0, 0, 12, 0, 0, 0, 0, 0, 0, 0, 0, 0, 0, 0, 0, 5, 0]\n"
     ]
    }
   ],
   "source": [
    "# Feature importances\n",
    "print('Feature importances:', list(gbm3.feature_importances_))"
   ]
  },
  {
   "cell_type": "code",
   "execution_count": 10,
   "id": "b7cd6db9",
   "metadata": {},
   "outputs": [
    {
     "name": "stdout",
     "output_type": "stream",
     "text": [
      "Best parameters found by grid search are: {'learning_rate': 0.05, 'n_estimators': 40}\n"
     ]
    }
   ],
   "source": [
    "# search for better parameter\n",
    "from sklearn.model_selection import GridSearchCV\n",
    "\n",
    "estimator = LGBMClassifier(num_leaves=31)\n",
    "param_grid = {\n",
    "    'learning_rate': [0.01, 0.05, 0.1, 1],\n",
    "    'n_estimators': [20, 40]\n",
    "}\n",
    "gbm_ = GridSearchCV(estimator, param_grid)\n",
    "gbm_.fit(X_train, y_train)\n",
    "print('Best parameters found by grid search are:', gbm_.best_params_)"
   ]
  },
  {
   "cell_type": "markdown",
   "id": "7f5ff0f9",
   "metadata": {},
   "source": [
    "---\n",
    "# Final Report"
   ]
  },
  {
   "cell_type": "code",
   "execution_count": 12,
   "id": "98bb1960",
   "metadata": {},
   "outputs": [
    {
     "name": "stdout",
     "output_type": "stream",
     "text": [
      "\n",
      "\n",
      "appearance and similarity without sample weight\n",
      "               precision    recall  f1-score   support\n",
      "\n",
      "         0.0     0.9991    0.9994    0.9993     62097\n",
      "         1.0     0.8694    0.8090    0.8381       288\n",
      "\n",
      "    accuracy                         0.9986     62385\n",
      "   macro avg     0.9343    0.9042    0.9187     62385\n",
      "weighted avg     0.9985    0.9986    0.9985     62385\n",
      "\n"
     ]
    }
   ],
   "source": [
    "# print('appearance, times and similarity feature without sample weight\\n', report_app_times_simi_no_sample)\n",
    "print('\\n\\nappearance and similarity without sample weight\\n', report_simi_app_no_sample)"
   ]
  },
  {
   "cell_type": "markdown",
   "id": "ff6aed73",
   "metadata": {},
   "source": [
    "---\n",
    "# Predict stage 2"
   ]
  },
  {
   "cell_type": "code",
   "execution_count": 13,
   "id": "514e811a",
   "metadata": {},
   "outputs": [],
   "source": [
    "# predict stage 2\n",
    "# NOTICE X2 in different feature data are different\n",
    "Y2 = gbm3.predict(X2)"
   ]
  },
  {
   "cell_type": "code",
   "execution_count": 14,
   "id": "b48e2cc4",
   "metadata": {},
   "outputs": [
    {
     "data": {
      "text/html": [
       "<div>\n",
       "<style scoped>\n",
       "    .dataframe tbody tr th:only-of-type {\n",
       "        vertical-align: middle;\n",
       "    }\n",
       "\n",
       "    .dataframe tbody tr th {\n",
       "        vertical-align: top;\n",
       "    }\n",
       "\n",
       "    .dataframe thead th {\n",
       "        text-align: right;\n",
       "    }\n",
       "</style>\n",
       "<table border=\"1\" class=\"dataframe\">\n",
       "  <thead>\n",
       "    <tr style=\"text-align: right;\">\n",
       "      <th></th>\n",
       "      <th>Test</th>\n",
       "      <th>Reference</th>\n",
       "      <th>Similarity</th>\n",
       "      <th>Result</th>\n",
       "    </tr>\n",
       "  </thead>\n",
       "  <tbody>\n",
       "    <tr>\n",
       "      <th>155</th>\n",
       "      <td>1001</td>\n",
       "      <td>19</td>\n",
       "      <td>1.00</td>\n",
       "      <td>1.0</td>\n",
       "    </tr>\n",
       "    <tr>\n",
       "      <th>382</th>\n",
       "      <td>1001</td>\n",
       "      <td>889</td>\n",
       "      <td>1.00</td>\n",
       "      <td>1.0</td>\n",
       "    </tr>\n",
       "    <tr>\n",
       "      <th>1545</th>\n",
       "      <td>1008</td>\n",
       "      <td>573</td>\n",
       "      <td>1.00</td>\n",
       "      <td>1.0</td>\n",
       "    </tr>\n",
       "    <tr>\n",
       "      <th>5142</th>\n",
       "      <td>1028</td>\n",
       "      <td>13</td>\n",
       "      <td>1.00</td>\n",
       "      <td>1.0</td>\n",
       "    </tr>\n",
       "    <tr>\n",
       "      <th>5157</th>\n",
       "      <td>1028</td>\n",
       "      <td>134</td>\n",
       "      <td>1.00</td>\n",
       "      <td>1.0</td>\n",
       "    </tr>\n",
       "    <tr>\n",
       "      <th>...</th>\n",
       "      <td>...</td>\n",
       "      <td>...</td>\n",
       "      <td>...</td>\n",
       "      <td>...</td>\n",
       "    </tr>\n",
       "    <tr>\n",
       "      <th>169659</th>\n",
       "      <td>939</td>\n",
       "      <td>930</td>\n",
       "      <td>1.00</td>\n",
       "      <td>1.0</td>\n",
       "    </tr>\n",
       "    <tr>\n",
       "      <th>170898</th>\n",
       "      <td>96</td>\n",
       "      <td>87</td>\n",
       "      <td>1.00</td>\n",
       "      <td>1.0</td>\n",
       "    </tr>\n",
       "    <tr>\n",
       "      <th>170940</th>\n",
       "      <td>960</td>\n",
       "      <td>1001</td>\n",
       "      <td>0.75</td>\n",
       "      <td>1.0</td>\n",
       "    </tr>\n",
       "    <tr>\n",
       "      <th>171129</th>\n",
       "      <td>960</td>\n",
       "      <td>288</td>\n",
       "      <td>0.75</td>\n",
       "      <td>1.0</td>\n",
       "    </tr>\n",
       "    <tr>\n",
       "      <th>171323</th>\n",
       "      <td>960</td>\n",
       "      <td>889</td>\n",
       "      <td>1.00</td>\n",
       "      <td>1.0</td>\n",
       "    </tr>\n",
       "  </tbody>\n",
       "</table>\n",
       "<p>576 rows × 4 columns</p>\n",
       "</div>"
      ],
      "text/plain": [
       "        Test  Reference  Similarity  Result\n",
       "155     1001         19        1.00     1.0\n",
       "382     1001        889        1.00     1.0\n",
       "1545    1008        573        1.00     1.0\n",
       "5142    1028         13        1.00     1.0\n",
       "5157    1028        134        1.00     1.0\n",
       "...      ...        ...         ...     ...\n",
       "169659   939        930        1.00     1.0\n",
       "170898    96         87        1.00     1.0\n",
       "170940   960       1001        0.75     1.0\n",
       "171129   960        288        0.75     1.0\n",
       "171323   960        889        1.00     1.0\n",
       "\n",
       "[576 rows x 4 columns]"
      ]
     },
     "execution_count": 14,
     "metadata": {},
     "output_type": "execute_result"
    }
   ],
   "source": [
    "# read in stage 2 labels for final double check\n",
    "\n",
    "stage2_res_df =  pd.read_csv(\"../../output/results_simi_stage2.csv\")\n",
    "stage2_results = pd.Series(Y2)\n",
    "stage2_res_df['Result'] = stage2_results\n",
    "stage2_res_df = stage2_res_df.loc[stage2_res_df['Result'] == 1]\n",
    "stage2_res_df"
   ]
  },
  {
   "cell_type": "code",
   "execution_count": 15,
   "id": "7b32833e",
   "metadata": {},
   "outputs": [
    {
     "data": {
      "text/html": [
       "<div>\n",
       "<style scoped>\n",
       "    .dataframe tbody tr th:only-of-type {\n",
       "        vertical-align: middle;\n",
       "    }\n",
       "\n",
       "    .dataframe tbody tr th {\n",
       "        vertical-align: top;\n",
       "    }\n",
       "\n",
       "    .dataframe thead th {\n",
       "        text-align: right;\n",
       "    }\n",
       "</style>\n",
       "<table border=\"1\" class=\"dataframe\">\n",
       "  <thead>\n",
       "    <tr style=\"text-align: right;\">\n",
       "      <th></th>\n",
       "      <th>Test</th>\n",
       "      <th>Reference</th>\n",
       "      <th>Similarity</th>\n",
       "      <th>Result</th>\n",
       "    </tr>\n",
       "  </thead>\n",
       "  <tbody>\n",
       "    <tr>\n",
       "      <th>82096</th>\n",
       "      <td>309</td>\n",
       "      <td>312</td>\n",
       "      <td>0.75</td>\n",
       "      <td>1.0</td>\n",
       "    </tr>\n",
       "    <tr>\n",
       "      <th>150079</th>\n",
       "      <td>80</td>\n",
       "      <td>1399</td>\n",
       "      <td>0.75</td>\n",
       "      <td>1.0</td>\n",
       "    </tr>\n",
       "    <tr>\n",
       "      <th>170940</th>\n",
       "      <td>960</td>\n",
       "      <td>1001</td>\n",
       "      <td>0.75</td>\n",
       "      <td>1.0</td>\n",
       "    </tr>\n",
       "    <tr>\n",
       "      <th>171129</th>\n",
       "      <td>960</td>\n",
       "      <td>288</td>\n",
       "      <td>0.75</td>\n",
       "      <td>1.0</td>\n",
       "    </tr>\n",
       "  </tbody>\n",
       "</table>\n",
       "</div>"
      ],
      "text/plain": [
       "        Test  Reference  Similarity  Result\n",
       "82096    309        312        0.75     1.0\n",
       "150079    80       1399        0.75     1.0\n",
       "170940   960       1001        0.75     1.0\n",
       "171129   960        288        0.75     1.0"
      ]
     },
     "execution_count": 15,
     "metadata": {},
     "output_type": "execute_result"
    }
   ],
   "source": [
    "# filter some ugly answers out\n",
    "# stage2_res_df = stage2_res_df.loc[stage2_df.Similarity >= 0.78]\n",
    "# stage2_res_df\n",
    "stage2_res_df.loc[stage2_res_df.Similarity <= 0.78]"
   ]
  },
  {
   "cell_type": "code",
   "execution_count": 17,
   "id": "6ff4bf94",
   "metadata": {},
   "outputs": [],
   "source": [
    "# output results\n",
    "stage2_res_df[[\"Test\", \"Reference\"]].to_csv(\"../../output/lightGBM_app_simi_no_sample.csv\", index=False)"
   ]
  },
  {
   "cell_type": "markdown",
   "id": "68ed2711",
   "metadata": {},
   "source": [
    "---\n",
    "# Save Better Model"
   ]
  },
  {
   "cell_type": "code",
   "execution_count": null,
   "id": "43e2fe8f",
   "metadata": {},
   "outputs": [],
   "source": [
    "# save the model\n",
    "import joblib\n",
    "\n",
    "filename = '../../model/lightGBM_app_simi_no_sample_model.sav'\n",
    "joblib.dump(gbm3, filename)"
   ]
  },
  {
   "cell_type": "code",
   "execution_count": null,
   "id": "0e0a4261",
   "metadata": {},
   "outputs": [],
   "source": [
    "loaded_model = joblib.load(filename)\n",
    "loaded_model"
   ]
  },
  {
   "cell_type": "markdown",
   "id": "9c2f4be2",
   "metadata": {},
   "source": [
    "---\n",
    "# Compare Result"
   ]
  },
  {
   "cell_type": "code",
   "execution_count": 18,
   "id": "0968a6eb",
   "metadata": {},
   "outputs": [
    {
     "data": {
      "text/html": [
       "<div>\n",
       "<style scoped>\n",
       "    .dataframe tbody tr th:only-of-type {\n",
       "        vertical-align: middle;\n",
       "    }\n",
       "\n",
       "    .dataframe tbody tr th {\n",
       "        vertical-align: top;\n",
       "    }\n",
       "\n",
       "    .dataframe thead th {\n",
       "        text-align: right;\n",
       "    }\n",
       "</style>\n",
       "<table border=\"1\" class=\"dataframe\">\n",
       "  <thead>\n",
       "    <tr style=\"text-align: right;\">\n",
       "      <th></th>\n",
       "      <th>Test</th>\n",
       "      <th>Reference</th>\n",
       "    </tr>\n",
       "  </thead>\n",
       "  <tbody>\n",
       "    <tr>\n",
       "      <th>3</th>\n",
       "      <td>1009</td>\n",
       "      <td>1061</td>\n",
       "    </tr>\n",
       "    <tr>\n",
       "      <th>4</th>\n",
       "      <td>1009</td>\n",
       "      <td>714</td>\n",
       "    </tr>\n",
       "    <tr>\n",
       "      <th>5</th>\n",
       "      <td>1019</td>\n",
       "      <td>660</td>\n",
       "    </tr>\n",
       "    <tr>\n",
       "      <th>14</th>\n",
       "      <td>1034</td>\n",
       "      <td>1040</td>\n",
       "    </tr>\n",
       "    <tr>\n",
       "      <th>47</th>\n",
       "      <td>1095</td>\n",
       "      <td>533</td>\n",
       "    </tr>\n",
       "    <tr>\n",
       "      <th>...</th>\n",
       "      <td>...</td>\n",
       "      <td>...</td>\n",
       "    </tr>\n",
       "    <tr>\n",
       "      <th>556</th>\n",
       "      <td>894</td>\n",
       "      <td>1399</td>\n",
       "    </tr>\n",
       "    <tr>\n",
       "      <th>563</th>\n",
       "      <td>938</td>\n",
       "      <td>206</td>\n",
       "    </tr>\n",
       "    <tr>\n",
       "      <th>564</th>\n",
       "      <td>938</td>\n",
       "      <td>216</td>\n",
       "    </tr>\n",
       "    <tr>\n",
       "      <th>573</th>\n",
       "      <td>960</td>\n",
       "      <td>1001</td>\n",
       "    </tr>\n",
       "    <tr>\n",
       "      <th>574</th>\n",
       "      <td>960</td>\n",
       "      <td>288</td>\n",
       "    </tr>\n",
       "  </tbody>\n",
       "</table>\n",
       "<p>75 rows × 2 columns</p>\n",
       "</div>"
      ],
      "text/plain": [
       "     Test  Reference\n",
       "3    1009       1061\n",
       "4    1009        714\n",
       "5    1019        660\n",
       "14   1034       1040\n",
       "47   1095        533\n",
       "..    ...        ...\n",
       "556   894       1399\n",
       "563   938        206\n",
       "564   938        216\n",
       "573   960       1001\n",
       "574   960        288\n",
       "\n",
       "[75 rows x 2 columns]"
      ]
     },
     "execution_count": 18,
     "metadata": {},
     "output_type": "execute_result"
    }
   ],
   "source": [
    "a_df = pd.read_csv(\"../../output/lightGBM_all_no_sample.csv\")\n",
    "b_df = pd.read_csv(\"../../output/lightGBM_app_simi_no_sample.csv\")\n",
    "\n",
    "pd.concat([a_df, b_df]).drop_duplicates(keep=False)"
   ]
  },
  {
   "cell_type": "code",
   "execution_count": null,
   "id": "c589a525",
   "metadata": {},
   "outputs": [],
   "source": [
    "# End of file"
   ]
  }
 ],
 "metadata": {
  "kernelspec": {
   "display_name": "Python 3",
   "language": "python",
   "name": "python3"
  },
  "language_info": {
   "codemirror_mode": {
    "name": "ipython",
    "version": 3
   },
   "file_extension": ".py",
   "mimetype": "text/x-python",
   "name": "python",
   "nbconvert_exporter": "python",
   "pygments_lexer": "ipython3",
   "version": "3.8.8"
  }
 },
 "nbformat": 4,
 "nbformat_minor": 5
}
