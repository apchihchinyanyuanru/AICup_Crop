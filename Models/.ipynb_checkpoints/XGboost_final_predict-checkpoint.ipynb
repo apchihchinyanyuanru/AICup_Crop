{
 "cells": [
  {
   "cell_type": "code",
   "execution_count": null,
   "id": "appreciated-cleaning",
   "metadata": {},
   "outputs": [],
   "source": []
  },
  {
   "cell_type": "markdown",
   "id": "balanced-theme",
   "metadata": {
    "id": "wbw0l9bckzNQ"
   },
   "source": [
    "# XGboost\n",
    "- With sample weight\n",
    "    1. **Appearance**, **Times** and **Similarities** feature data with sample weight\n",
    "    2. **Times** and **Similarities** feature data with sample weight\n",
    "    3. **Appearanc**e and **Similarities** feature data with sample weight\n",
    "    4. **Times** and **Similarities of times** feature data with sample weight\n",
    "    5. **Appearance** and **Similarities of appearance** feature data with sample weight"
   ]
  },
  {
   "cell_type": "code",
   "execution_count": 1,
   "id": "freelance-bottle",
   "metadata": {
    "id": "IIouhf0ykl2e"
   },
   "outputs": [],
   "source": [
    "# load package\n",
    "import pandas as pd\n",
    "import numpy as np\n",
    "import joblib"
   ]
  },
  {
   "cell_type": "markdown",
   "id": "injured-diagram",
   "metadata": {
    "id": "TJG6WDRXnZW7"
   },
   "source": [
    "---\n",
    "# Predict stage 3"
   ]
  },
  {
   "cell_type": "code",
   "execution_count": 4,
   "id": "handy-article",
   "metadata": {
    "id": "2nZ969CQjGvQ",
    "scrolled": true
   },
   "outputs": [
    {
     "ename": "MemoryError",
     "evalue": "Unable to allocate 2.01 GiB for an array with shape (269249400,) and data type int64",
     "output_type": "error",
     "traceback": [
      "\u001b[1;31m---------------------------------------------------------------------------\u001b[0m",
      "\u001b[1;31mMemoryError\u001b[0m                               Traceback (most recent call last)",
      "\u001b[1;32m<ipython-input-4-b7677355be3f>\u001b[0m in \u001b[0;36m<module>\u001b[1;34m\u001b[0m\n\u001b[0;32m      4\u001b[0m \u001b[0mX3_similarity_of_appearance\u001b[0m \u001b[1;33m=\u001b[0m \u001b[0mnp\u001b[0m\u001b[1;33m.\u001b[0m\u001b[0mload\u001b[0m\u001b[1;33m(\u001b[0m\u001b[1;34m'../FeatureExtracting/stage3_similarity_of_only_appearance.npy'\u001b[0m\u001b[1;33m)\u001b[0m\u001b[1;33m\u001b[0m\u001b[0m\n\u001b[0;32m      5\u001b[0m \u001b[0mX3_similarity_of_times\u001b[0m \u001b[1;33m=\u001b[0m \u001b[0mnp\u001b[0m\u001b[1;33m.\u001b[0m\u001b[0mload\u001b[0m\u001b[1;33m(\u001b[0m\u001b[1;34m'../FeatureExtracting/stage3_similarity_of_only_times.npy'\u001b[0m\u001b[1;33m)\u001b[0m\u001b[1;33m\u001b[0m\u001b[0m\n\u001b[1;32m----> 6\u001b[1;33m \u001b[0mX3_times\u001b[0m \u001b[1;33m=\u001b[0m \u001b[0mnp\u001b[0m\u001b[1;33m.\u001b[0m\u001b[0mload\u001b[0m\u001b[1;33m(\u001b[0m\u001b[1;34m'../FeatureExtracting/stage3_times_feature.npy'\u001b[0m\u001b[1;33m)\u001b[0m\u001b[1;33m\u001b[0m\u001b[0m\n\u001b[0m",
      "\u001b[1;32m~\\AppData\\Roaming\\Python\\Python36\\site-packages\\numpy\\lib\\npyio.py\u001b[0m in \u001b[0;36mload\u001b[1;34m(file, mmap_mode, allow_pickle, fix_imports, encoding)\u001b[0m\n\u001b[0;32m    438\u001b[0m             \u001b[1;32melse\u001b[0m\u001b[1;33m:\u001b[0m\u001b[1;33m\u001b[0m\u001b[0m\n\u001b[0;32m    439\u001b[0m                 return format.read_array(fid, allow_pickle=allow_pickle,\n\u001b[1;32m--> 440\u001b[1;33m                                          pickle_kwargs=pickle_kwargs)\n\u001b[0m\u001b[0;32m    441\u001b[0m         \u001b[1;32melse\u001b[0m\u001b[1;33m:\u001b[0m\u001b[1;33m\u001b[0m\u001b[0m\n\u001b[0;32m    442\u001b[0m             \u001b[1;31m# Try a pickle\u001b[0m\u001b[1;33m\u001b[0m\u001b[1;33m\u001b[0m\u001b[0m\n",
      "\u001b[1;32m~\\AppData\\Roaming\\Python\\Python36\\site-packages\\numpy\\lib\\format.py\u001b[0m in \u001b[0;36mread_array\u001b[1;34m(fp, allow_pickle, pickle_kwargs)\u001b[0m\n\u001b[0;32m    739\u001b[0m         \u001b[1;32mif\u001b[0m \u001b[0misfileobj\u001b[0m\u001b[1;33m(\u001b[0m\u001b[0mfp\u001b[0m\u001b[1;33m)\u001b[0m\u001b[1;33m:\u001b[0m\u001b[1;33m\u001b[0m\u001b[0m\n\u001b[0;32m    740\u001b[0m             \u001b[1;31m# We can use the fast fromfile() function.\u001b[0m\u001b[1;33m\u001b[0m\u001b[1;33m\u001b[0m\u001b[0m\n\u001b[1;32m--> 741\u001b[1;33m             \u001b[0marray\u001b[0m \u001b[1;33m=\u001b[0m \u001b[0mnumpy\u001b[0m\u001b[1;33m.\u001b[0m\u001b[0mfromfile\u001b[0m\u001b[1;33m(\u001b[0m\u001b[0mfp\u001b[0m\u001b[1;33m,\u001b[0m \u001b[0mdtype\u001b[0m\u001b[1;33m=\u001b[0m\u001b[0mdtype\u001b[0m\u001b[1;33m,\u001b[0m \u001b[0mcount\u001b[0m\u001b[1;33m=\u001b[0m\u001b[0mcount\u001b[0m\u001b[1;33m)\u001b[0m\u001b[1;33m\u001b[0m\u001b[0m\n\u001b[0m\u001b[0;32m    742\u001b[0m         \u001b[1;32melse\u001b[0m\u001b[1;33m:\u001b[0m\u001b[1;33m\u001b[0m\u001b[0m\n\u001b[0;32m    743\u001b[0m             \u001b[1;31m# This is not a real file. We have to read it the\u001b[0m\u001b[1;33m\u001b[0m\u001b[1;33m\u001b[0m\u001b[0m\n",
      "\u001b[1;31mMemoryError\u001b[0m: Unable to allocate 2.01 GiB for an array with shape (269249400,) and data type int64"
     ]
    }
   ],
   "source": [
    "# read stage3 feature data\n",
    "X3_appearance = np.load('../FeatureExtracting/stage3_appearance_feature.npy')\n",
    "X3_similarity = np.load('../FeatureExtracting/stage3_similarity_feature.npy')\n",
    "X3_similarity_of_appearance = np.load('../FeatureExtracting/stage3_similarity_of_only_appearance.npy')\n",
    "X3_similarity_of_times = np.load('../FeatureExtracting/stage3_similarity_of_only_times.npy')\n",
    "X3_times = np.load('../FeatureExtracting/stage3_times_feature.npy')"
   ]
  },
  {
   "cell_type": "code",
   "execution_count": null,
   "id": "classified-settlement",
   "metadata": {},
   "outputs": [],
   "source": [
    "# delete test & ref miss assigning\n",
    "X3_appearance = np.delete(X3_appearance, 1529, 1)\n",
    "X3_appearance = np.delete(X3_appearance, 764, 1)\n",
    "X3_times = np.delete(X3_times, 1529, 1)\n",
    "X3_times = np.delete(X3_times, 764, 1)"
   ]
  },
  {
   "cell_type": "markdown",
   "id": "adjustable-railway",
   "metadata": {
    "id": "xjsbtUe9k6-K"
   },
   "source": [
    "# 1. Appearance, Times and Similarities feature data with sample weight"
   ]
  },
  {
   "cell_type": "code",
   "execution_count": null,
   "id": "diverse-caribbean",
   "metadata": {
    "id": "JriROBP0au0W"
   },
   "outputs": [],
   "source": [
    "# merge feature data\n",
    "X3 = np.concatenate((X3_similarity, X3_appearance, X3_times), axis=1)"
   ]
  },
  {
   "cell_type": "code",
   "execution_count": null,
   "id": "hidden-canadian",
   "metadata": {},
   "outputs": [],
   "source": [
    "X3.shape"
   ]
  },
  {
   "cell_type": "code",
   "execution_count": null,
   "id": "sought-airline",
   "metadata": {
    "id": "lMeKUs8BnnKs"
   },
   "outputs": [],
   "source": [
    "xgb1 = joblib.load('1_XGBOOST.sav')\n",
    "xgb1"
   ]
  },
  {
   "cell_type": "code",
   "execution_count": null,
   "id": "married-trick",
   "metadata": {
    "id": "h09uTSJunZoc"
   },
   "outputs": [],
   "source": [
    "# predict stage 3\n",
    "# NOTICE X3 in different feature data are different\n",
    "Y3 = xgb1.predict(X3)"
   ]
  },
  {
   "cell_type": "code",
   "execution_count": null,
   "id": "piano-tournament",
   "metadata": {
    "id": "8rwwwLf4na7x"
   },
   "outputs": [],
   "source": [
    "# read in stage 3 labels for final double check\n",
    "\n",
    "stage3_res_df =  pd.read_csv(\"TestStage3_AU.csv\")\n",
    "stage3_results = pd.Series(Y3)\n",
    "stage3_res_df['Result'] = stage3_results\n",
    "stage3_res_df = stage3_res_df.loc[stage3_res_df['Result'] == 1]\n",
    "stage3_res_df"
   ]
  },
  {
   "cell_type": "code",
   "execution_count": null,
   "id": "authorized-lesbian",
   "metadata": {
    "id": "xTNOXi2jncSK"
   },
   "outputs": [],
   "source": [
    "# filter some ugly answers out\n",
    "# stage3_res_df = stage3_res_df.loc[stage3_df.Similarity >= 0.78]\n",
    "# stage3_res_df\n",
    "stage3_res_df.loc[stage3_res_df.Similarity <= 0.78] "
   ]
  },
  {
   "cell_type": "code",
   "execution_count": null,
   "id": "generic-rapid",
   "metadata": {
    "id": "aaLGUwbQngr3"
   },
   "outputs": [],
   "source": [
    "# output results\n",
    "stage3_res_df[[\"Test\", \"Reference\"]].to_csv(\"csv_results/1_XGBOOST.csv\", index=False)"
   ]
  },
  {
   "cell_type": "markdown",
   "id": "italian-treaty",
   "metadata": {
    "id": "BiPyFWusbH-y"
   },
   "source": [
    "---\n",
    "# 2. Times and Similarities feature data with sample weight"
   ]
  },
  {
   "cell_type": "code",
   "execution_count": null,
   "id": "operating-flexibility",
   "metadata": {
    "colab": {
     "base_uri": "https://localhost:8080/"
    },
    "id": "c1-al-T_bTpG",
    "outputId": "0bf12dd7-b91b-4f27-f423-c0083b6859f5"
   },
   "outputs": [],
   "source": [
    "# merge feature data\n",
    "X3 = np.concatenate((X3_similarity, X3_times), axis=1)\n",
    "X3.shape"
   ]
  },
  {
   "cell_type": "code",
   "execution_count": null,
   "id": "later-algeria",
   "metadata": {
    "id": "lMeKUs8BnnKs"
   },
   "outputs": [],
   "source": [
    "xgb2 = joblib.load('2_XGBOOST.sav')\n",
    "xgb2"
   ]
  },
  {
   "cell_type": "code",
   "execution_count": null,
   "id": "naval-mistake",
   "metadata": {
    "id": "h09uTSJunZoc"
   },
   "outputs": [],
   "source": [
    "# predict stage 3\n",
    "# NOTICE X3 in different feature data are different\n",
    "Y3 = xgb2.predict(X3)"
   ]
  },
  {
   "cell_type": "code",
   "execution_count": null,
   "id": "intelligent-riverside",
   "metadata": {
    "id": "8rwwwLf4na7x"
   },
   "outputs": [],
   "source": [
    "# read in stage 3 labels for final double check\n",
    "\n",
    "stage3_res_df =  pd.read_csv(\"TestStage3_AU.csv\")\n",
    "stage3_results = pd.Series(Y3)\n",
    "stage3_res_df['Result'] = stage3_results\n",
    "stage3_res_df = stage3_res_df.loc[stage3_res_df['Result'] == 1]\n",
    "stage3_res_df"
   ]
  },
  {
   "cell_type": "code",
   "execution_count": null,
   "id": "outer-andrew",
   "metadata": {
    "id": "xTNOXi2jncSK"
   },
   "outputs": [],
   "source": [
    "# filter some ugly answers out\n",
    "# stage3_res_df = stage3_res_df.loc[stage3_df.Similarity >= 0.78]\n",
    "# stage3_res_df\n",
    "stage3_res_df.loc[stage3_res_df.Similarity <= 0.78] "
   ]
  },
  {
   "cell_type": "code",
   "execution_count": null,
   "id": "backed-sunday",
   "metadata": {
    "id": "aaLGUwbQngr3"
   },
   "outputs": [],
   "source": [
    "# output results\n",
    "stage3_res_df[[\"Test\", \"Reference\"]].to_csv(\"csv_results/2_XGBOOST.csv\", index=False)"
   ]
  },
  {
   "cell_type": "markdown",
   "id": "robust-research",
   "metadata": {
    "id": "g51L7aPvm-D7"
   },
   "source": [
    "--- \n",
    "#  3. Appearance and Similarities features data with sample weight"
   ]
  },
  {
   "cell_type": "code",
   "execution_count": null,
   "id": "polar-escape",
   "metadata": {
    "id": "dLzuAAjHm-YS"
   },
   "outputs": [],
   "source": [
    "# merge feature data\n",
    "X3 = np.concatenate((X3_similarity, X3_appearance), axis=1)\n",
    "X3.shape"
   ]
  },
  {
   "cell_type": "code",
   "execution_count": null,
   "id": "ancient-exposure",
   "metadata": {
    "id": "lMeKUs8BnnKs"
   },
   "outputs": [],
   "source": [
    "xgb3 = joblib.load('3_XGBOOST.sav')\n",
    "xgb3"
   ]
  },
  {
   "cell_type": "code",
   "execution_count": null,
   "id": "proved-intent",
   "metadata": {
    "id": "h09uTSJunZoc"
   },
   "outputs": [],
   "source": [
    "# predict stage 3\n",
    "# NOTICE X3 in different feature data are different\n",
    "Y3 = xgb3.predict(X3)"
   ]
  },
  {
   "cell_type": "code",
   "execution_count": null,
   "id": "needed-double",
   "metadata": {
    "id": "8rwwwLf4na7x"
   },
   "outputs": [],
   "source": [
    "# read in stage 3 labels for final double check\n",
    "\n",
    "stage3_res_df =  pd.read_csv(\"TestStage3_AU.csv\")\n",
    "stage3_results = pd.Series(Y3)\n",
    "stage3_res_df['Result'] = stage3_results\n",
    "stage3_res_df = stage3_res_df.loc[stage3_res_df['Result'] == 1]\n",
    "stage3_res_df"
   ]
  },
  {
   "cell_type": "code",
   "execution_count": null,
   "id": "sitting-liberty",
   "metadata": {
    "id": "xTNOXi2jncSK"
   },
   "outputs": [],
   "source": [
    "# filter some ugly answers out\n",
    "# stage3_res_df = stage3_res_df.loc[stage3_df.Similarity >= 0.78]\n",
    "# stage3_res_df\n",
    "stage3_res_df.loc[stage3_res_df.Similarity <= 0.78] "
   ]
  },
  {
   "cell_type": "code",
   "execution_count": null,
   "id": "crazy-perspective",
   "metadata": {
    "id": "aaLGUwbQngr3"
   },
   "outputs": [],
   "source": [
    "# output results\n",
    "stage3_res_df[[\"Test\", \"Reference\"]].to_csv(\"csv_results/3_XGBOOST.csv\", index=False)"
   ]
  },
  {
   "cell_type": "markdown",
   "id": "bottom-forwarding",
   "metadata": {
    "id": "BiPyFWusbH-y"
   },
   "source": [
    "---\n",
    "# 4. Times and Similarities of times feature data with sample weight"
   ]
  },
  {
   "cell_type": "code",
   "execution_count": null,
   "id": "capital-technology",
   "metadata": {
    "colab": {
     "base_uri": "https://localhost:8080/"
    },
    "id": "c1-al-T_bTpG",
    "outputId": "0bf12dd7-b91b-4f27-f423-c0083b6859f5"
   },
   "outputs": [],
   "source": [
    "# merge feature data\n",
    "X3 = np.concatenate((X3_similarity_of_times, X3_times), axis=1)\n",
    "X3.shape"
   ]
  },
  {
   "cell_type": "code",
   "execution_count": null,
   "id": "sound-newport",
   "metadata": {
    "id": "lMeKUs8BnnKs"
   },
   "outputs": [],
   "source": [
    "xgb4 = joblib.load('4_XGBOOST.sav')\n",
    "xgb4"
   ]
  },
  {
   "cell_type": "code",
   "execution_count": null,
   "id": "peaceful-voltage",
   "metadata": {
    "id": "h09uTSJunZoc"
   },
   "outputs": [],
   "source": [
    "# predict stage 3\n",
    "# NOTICE X3 in different feature data are different\n",
    "Y3 = xgb4.predict(X3)"
   ]
  },
  {
   "cell_type": "code",
   "execution_count": null,
   "id": "sought-guinea",
   "metadata": {
    "id": "8rwwwLf4na7x"
   },
   "outputs": [],
   "source": [
    "# read in stage 3 labels for final double check\n",
    "\n",
    "stage3_res_df =  pd.read_csv(\"TestStage3_AU.csv\")\n",
    "stage3_results = pd.Series(Y3)\n",
    "stage3_res_df['Result'] = stage3_results\n",
    "stage3_res_df = stage3_res_df.loc[stage3_res_df['Result'] == 1]\n",
    "stage3_res_df"
   ]
  },
  {
   "cell_type": "code",
   "execution_count": null,
   "id": "facial-antarctica",
   "metadata": {
    "id": "xTNOXi2jncSK"
   },
   "outputs": [],
   "source": [
    "# filter some ugly answers out\n",
    "# stage3_res_df = stage3_res_df.loc[stage3_df.Similarity >= 0.78]\n",
    "# stage3_res_df\n",
    "stage3_res_df.loc[stage3_res_df.Similarity <= 0.78] "
   ]
  },
  {
   "cell_type": "code",
   "execution_count": null,
   "id": "medical-excitement",
   "metadata": {
    "id": "aaLGUwbQngr3"
   },
   "outputs": [],
   "source": [
    "# output results\n",
    "stage3_res_df[[\"Test\", \"Reference\"]].to_csv(\"csv_results/4_XGBOOST.csv\", index=False)"
   ]
  },
  {
   "cell_type": "markdown",
   "id": "modern-number",
   "metadata": {
    "id": "g51L7aPvm-D7"
   },
   "source": [
    "--- \n",
    "#  5. Appearance and Similarities of appearance feature data with sample weight"
   ]
  },
  {
   "cell_type": "code",
   "execution_count": null,
   "id": "intensive-variance",
   "metadata": {
    "id": "dLzuAAjHm-YS"
   },
   "outputs": [],
   "source": [
    "# merge feature data\n",
    "X3 = np.concatenate((X3_similarity_of_appearance, X3_appearance), axis=1)\n",
    "X3.shape"
   ]
  },
  {
   "cell_type": "code",
   "execution_count": null,
   "id": "italic-block",
   "metadata": {
    "id": "lMeKUs8BnnKs"
   },
   "outputs": [],
   "source": [
    "xgb5 = joblib.load('5_XGBOOST.sav')\n",
    "xgb5"
   ]
  },
  {
   "cell_type": "code",
   "execution_count": null,
   "id": "diagnostic-ending",
   "metadata": {
    "id": "h09uTSJunZoc"
   },
   "outputs": [],
   "source": [
    "# predict stage 3\n",
    "# NOTICE X3 in different feature data are different\n",
    "Y3 = xgb5.predict(X3)"
   ]
  },
  {
   "cell_type": "code",
   "execution_count": null,
   "id": "sealed-worship",
   "metadata": {
    "id": "8rwwwLf4na7x"
   },
   "outputs": [],
   "source": [
    "# read in stage 3 labels for final double check\n",
    "\n",
    "stage3_res_df =  pd.read_csv(\"TestStage3_AU.csv\")\n",
    "stage3_results = pd.Series(Y3)\n",
    "stage3_res_df['Result'] = stage3_results\n",
    "stage3_res_df = stage3_res_df.loc[stage3_res_df['Result'] == 1]\n",
    "stage3_res_df"
   ]
  },
  {
   "cell_type": "code",
   "execution_count": null,
   "id": "missing-probability",
   "metadata": {
    "id": "xTNOXi2jncSK"
   },
   "outputs": [],
   "source": [
    "# filter some ugly answers out\n",
    "# stage3_res_df = stage3_res_df.loc[stage3_df.Similarity >= 0.78]\n",
    "# stage3_res_df\n",
    "stage3_res_df.loc[stage3_res_df.Similarity <= 0.78] "
   ]
  },
  {
   "cell_type": "code",
   "execution_count": null,
   "id": "resistant-ozone",
   "metadata": {
    "id": "aaLGUwbQngr3"
   },
   "outputs": [],
   "source": [
    "# output results\n",
    "stage3_res_df[[\"Test\", \"Reference\"]].to_csv(\"csv_results/5_XGBOOST.csv\", index=False)"
   ]
  }
 ],
 "metadata": {
  "kernelspec": {
   "display_name": "Python 3",
   "language": "python",
   "name": "python3"
  },
  "language_info": {
   "codemirror_mode": {
    "name": "ipython",
    "version": 3
   },
   "file_extension": ".py",
   "mimetype": "text/x-python",
   "name": "python",
   "nbconvert_exporter": "python",
   "pygments_lexer": "ipython3",
   "version": "3.6.5"
  }
 },
 "nbformat": 4,
 "nbformat_minor": 5
}
