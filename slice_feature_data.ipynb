{
 "cells": [
  {
   "cell_type": "code",
   "execution_count": 35,
   "id": "85bcdb45",
   "metadata": {},
   "outputs": [],
   "source": [
    "# load package\n",
    "import pandas as pd\n",
    "import numpy as np"
   ]
  },
  {
   "cell_type": "markdown",
   "id": "60c4e1b4",
   "metadata": {},
   "source": [
    "# Read feature data"
   ]
  },
  {
   "cell_type": "code",
   "execution_count": 36,
   "id": "86d1b5af",
   "metadata": {},
   "outputs": [],
   "source": [
    "# read feature data\n",
    "X1 = np.load('../input/model feed/features3/X1_new_appearance.npy')\n",
    "X2 = np.load('../input/model feed/features3/X2_new_appearance.npy')"
   ]
  },
  {
   "cell_type": "code",
   "execution_count": 37,
   "id": "54ef0e01",
   "metadata": {},
   "outputs": [],
   "source": [
    "# read feature data\n",
    "X1_times = np.load('../input/model feed/features3/X1_new_times.npy')\n",
    "X2_times = np.load('../input/model feed/features3/X2_new_times.npy')"
   ]
  },
  {
   "cell_type": "markdown",
   "id": "16acb4ff",
   "metadata": {},
   "source": [
    "# Stage 1"
   ]
  },
  {
   "cell_type": "code",
   "execution_count": 38,
   "id": "61d9ae5c",
   "metadata": {},
   "outputs": [
    {
     "data": {
      "text/plain": [
       "(311922, 1537)"
      ]
     },
     "execution_count": 38,
     "metadata": {},
     "output_type": "execute_result"
    }
   ],
   "source": [
    "X1.shape"
   ]
  },
  {
   "cell_type": "code",
   "execution_count": 39,
   "id": "2b2085b4",
   "metadata": {},
   "outputs": [
    {
     "data": {
      "text/plain": [
       "(311922, 9)"
      ]
     },
     "execution_count": 39,
     "metadata": {},
     "output_type": "execute_result"
    }
   ],
   "source": [
    "similarity_stage1_feature = X1[:,0:9]\n",
    "similarity_stage1_feature.shape"
   ]
  },
  {
   "cell_type": "code",
   "execution_count": 40,
   "id": "2bccd32f",
   "metadata": {},
   "outputs": [
    {
     "data": {
      "text/plain": [
       "(311922, 1528)"
      ]
     },
     "execution_count": 40,
     "metadata": {},
     "output_type": "execute_result"
    }
   ],
   "source": [
    "appearance_stage1_feature = X1[:,9:]\n",
    "appearance_stage1_feature.shape"
   ]
  },
  {
   "cell_type": "code",
   "execution_count": 41,
   "id": "cd8cffb3",
   "metadata": {},
   "outputs": [
    {
     "data": {
      "text/plain": [
       "(311922, 1528)"
      ]
     },
     "execution_count": 41,
     "metadata": {},
     "output_type": "execute_result"
    }
   ],
   "source": [
    "times_stage1_feature = X1_times[:,9:]\n",
    "times_stage1_feature.shape"
   ]
  },
  {
   "cell_type": "code",
   "execution_count": 42,
   "id": "2a782de9",
   "metadata": {},
   "outputs": [],
   "source": [
    "np.save('similarity_stage1_feature.npy', similarity_stage1_feature)\n",
    "np.save('appearance_stage1_feature.npy', appearance_stage1_feature)\n",
    "np.save('times_stage1_feature.npy', times_stage1_feature)"
   ]
  },
  {
   "cell_type": "markdown",
   "id": "2cbdcf62",
   "metadata": {},
   "source": [
    "# Stage 2"
   ]
  },
  {
   "cell_type": "code",
   "execution_count": 43,
   "id": "5e9de797",
   "metadata": {},
   "outputs": [
    {
     "data": {
      "text/plain": [
       "(176820, 1537)"
      ]
     },
     "execution_count": 43,
     "metadata": {},
     "output_type": "execute_result"
    }
   ],
   "source": [
    "X2.shape"
   ]
  },
  {
   "cell_type": "code",
   "execution_count": 44,
   "id": "63d292b5",
   "metadata": {},
   "outputs": [
    {
     "data": {
      "text/plain": [
       "(176820, 9)"
      ]
     },
     "execution_count": 44,
     "metadata": {},
     "output_type": "execute_result"
    }
   ],
   "source": [
    "similarity_stage2_feature = X2[:,0:9]\n",
    "similarity_stage2_feature.shape"
   ]
  },
  {
   "cell_type": "code",
   "execution_count": 45,
   "id": "f542dd06",
   "metadata": {},
   "outputs": [
    {
     "data": {
      "text/plain": [
       "(176820, 1528)"
      ]
     },
     "execution_count": 45,
     "metadata": {},
     "output_type": "execute_result"
    }
   ],
   "source": [
    "appearance_stage2_feature = X2[:,9:]\n",
    "appearance_stage2_feature.shape"
   ]
  },
  {
   "cell_type": "code",
   "execution_count": 46,
   "id": "1459f1b8",
   "metadata": {},
   "outputs": [
    {
     "data": {
      "text/plain": [
       "(176820, 1528)"
      ]
     },
     "execution_count": 46,
     "metadata": {},
     "output_type": "execute_result"
    }
   ],
   "source": [
    "times_stage2_feature = X2_times[:,9:]\n",
    "times_stage2_feature.shape"
   ]
  },
  {
   "cell_type": "code",
   "execution_count": 47,
   "id": "2e5bdcf0",
   "metadata": {},
   "outputs": [],
   "source": [
    "np.save('similarity_stage2_feature.npy', similarity_stage2_feature)\n",
    "np.save('appearance_stage2_feature.npy', appearance_stage2_feature)\n",
    "np.save('times_stage2_feature.npy', times_stage2_feature)"
   ]
  },
  {
   "cell_type": "code",
   "execution_count": 48,
   "id": "30901b60",
   "metadata": {},
   "outputs": [],
   "source": [
    "# End of file"
   ]
  }
 ],
 "metadata": {
  "kernelspec": {
   "display_name": "Python 3",
   "language": "python",
   "name": "python3"
  },
  "language_info": {
   "codemirror_mode": {
    "name": "ipython",
    "version": 3
   },
   "file_extension": ".py",
   "mimetype": "text/x-python",
   "name": "python",
   "nbconvert_exporter": "python",
   "pygments_lexer": "ipython3",
   "version": "3.8.8"
  }
 },
 "nbformat": 4,
 "nbformat_minor": 5
}
