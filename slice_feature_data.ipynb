{
 "cells": [
  {
   "cell_type": "code",
   "execution_count": 2,
   "id": "85bcdb45",
   "metadata": {},
   "outputs": [],
   "source": [
    "# load package\n",
    "import pandas as pd\n",
    "import numpy as np"
   ]
  },
  {
   "cell_type": "markdown",
   "id": "60c4e1b4",
   "metadata": {},
   "source": [
    "# Read feature data"
   ]
  },
  {
   "cell_type": "code",
   "execution_count": 36,
   "id": "86d1b5af",
   "metadata": {},
   "outputs": [],
   "source": [
    "# read feature data\n",
    "X1 = np.load('../input/model feed/features3/X1_new_appearance.npy')\n",
    "X2 = np.load('../input/model feed/features3/X2_new_appearance.npy')"
   ]
  },
  {
   "cell_type": "code",
   "execution_count": 37,
   "id": "54ef0e01",
   "metadata": {},
   "outputs": [],
   "source": [
    "# read feature data\n",
    "X1_times = np.load('../input/model feed/features3/X1_new_times.npy')\n",
    "X2_times = np.load('../input/model feed/features3/X2_new_times.npy')"
   ]
  },
  {
   "cell_type": "markdown",
   "id": "16acb4ff",
   "metadata": {},
   "source": [
    "# Stage 1"
   ]
  },
  {
   "cell_type": "code",
   "execution_count": 38,
   "id": "61d9ae5c",
   "metadata": {},
   "outputs": [
    {
     "data": {
      "text/plain": [
       "(311922, 1537)"
      ]
     },
     "execution_count": 38,
     "metadata": {},
     "output_type": "execute_result"
    }
   ],
   "source": [
    "X1.shape"
   ]
  },
  {
   "cell_type": "code",
   "execution_count": 39,
   "id": "2b2085b4",
   "metadata": {},
   "outputs": [
    {
     "data": {
      "text/plain": [
       "(311922, 9)"
      ]
     },
     "execution_count": 39,
     "metadata": {},
     "output_type": "execute_result"
    }
   ],
   "source": [
    "similarity_stage1_feature = X1[:,0:9]\n",
    "similarity_stage1_feature.shape"
   ]
  },
  {
   "cell_type": "code",
   "execution_count": 40,
   "id": "2bccd32f",
   "metadata": {},
   "outputs": [
    {
     "data": {
      "text/plain": [
       "(311922, 1528)"
      ]
     },
     "execution_count": 40,
     "metadata": {},
     "output_type": "execute_result"
    }
   ],
   "source": [
    "appearance_stage1_feature = X1[:,9:]\n",
    "appearance_stage1_feature.shape"
   ]
  },
  {
   "cell_type": "code",
   "execution_count": 41,
   "id": "cd8cffb3",
   "metadata": {},
   "outputs": [
    {
     "data": {
      "text/plain": [
       "(311922, 1528)"
      ]
     },
     "execution_count": 41,
     "metadata": {},
     "output_type": "execute_result"
    }
   ],
   "source": [
    "times_stage1_feature = X1_times[:,9:]\n",
    "times_stage1_feature.shape"
   ]
  },
  {
   "cell_type": "code",
   "execution_count": 42,
   "id": "2a782de9",
   "metadata": {},
   "outputs": [],
   "source": [
    "np.save('similarity_stage1_feature.npy', similarity_stage1_feature)\n",
    "np.save('appearance_stage1_feature.npy', appearance_stage1_feature)\n",
    "np.save('times_stage1_feature.npy', times_stage1_feature)"
   ]
  },
  {
   "cell_type": "markdown",
   "id": "2cbdcf62",
   "metadata": {},
   "source": [
    "# Stage 2"
   ]
  },
  {
   "cell_type": "code",
   "execution_count": 43,
   "id": "5e9de797",
   "metadata": {},
   "outputs": [
    {
     "data": {
      "text/plain": [
       "(176820, 1537)"
      ]
     },
     "execution_count": 43,
     "metadata": {},
     "output_type": "execute_result"
    }
   ],
   "source": [
    "X2.shape"
   ]
  },
  {
   "cell_type": "code",
   "execution_count": 44,
   "id": "63d292b5",
   "metadata": {},
   "outputs": [
    {
     "data": {
      "text/plain": [
       "(176820, 9)"
      ]
     },
     "execution_count": 44,
     "metadata": {},
     "output_type": "execute_result"
    }
   ],
   "source": [
    "similarity_stage2_feature = X2[:,0:9]\n",
    "similarity_stage2_feature.shape"
   ]
  },
  {
   "cell_type": "code",
   "execution_count": 45,
   "id": "f542dd06",
   "metadata": {},
   "outputs": [
    {
     "data": {
      "text/plain": [
       "(176820, 1528)"
      ]
     },
     "execution_count": 45,
     "metadata": {},
     "output_type": "execute_result"
    }
   ],
   "source": [
    "appearance_stage2_feature = X2[:,9:]\n",
    "appearance_stage2_feature.shape"
   ]
  },
  {
   "cell_type": "code",
   "execution_count": 46,
   "id": "1459f1b8",
   "metadata": {},
   "outputs": [
    {
     "data": {
      "text/plain": [
       "(176820, 1528)"
      ]
     },
     "execution_count": 46,
     "metadata": {},
     "output_type": "execute_result"
    }
   ],
   "source": [
    "times_stage2_feature = X2_times[:,9:]\n",
    "times_stage2_feature.shape"
   ]
  },
  {
   "cell_type": "code",
   "execution_count": 47,
   "id": "2e5bdcf0",
   "metadata": {},
   "outputs": [],
   "source": [
    "np.save('similarity_stage2_feature.npy', similarity_stage2_feature)\n",
    "np.save('appearance_stage2_feature.npy', appearance_stage2_feature)\n",
    "np.save('times_stage2_feature.npy', times_stage2_feature)"
   ]
  },
  {
   "cell_type": "markdown",
   "id": "8be446cd",
   "metadata": {},
   "source": [
    "---\n",
    "# temp use"
   ]
  },
  {
   "cell_type": "code",
   "execution_count": 5,
   "id": "c2831002",
   "metadata": {},
   "outputs": [
    {
     "data": {
      "text/html": [
       "<div>\n",
       "<style scoped>\n",
       "    .dataframe tbody tr th:only-of-type {\n",
       "        vertical-align: middle;\n",
       "    }\n",
       "\n",
       "    .dataframe tbody tr th {\n",
       "        vertical-align: top;\n",
       "    }\n",
       "\n",
       "    .dataframe thead th {\n",
       "        text-align: right;\n",
       "    }\n",
       "</style>\n",
       "<table border=\"1\" class=\"dataframe\">\n",
       "  <thead>\n",
       "    <tr style=\"text-align: right;\">\n",
       "      <th></th>\n",
       "      <th>Test</th>\n",
       "      <th>Reference</th>\n",
       "      <th>Similarity</th>\n",
       "    </tr>\n",
       "  </thead>\n",
       "  <tbody>\n",
       "    <tr>\n",
       "      <th>0</th>\n",
       "      <td>100</td>\n",
       "      <td>1002</td>\n",
       "      <td>0.133333</td>\n",
       "    </tr>\n",
       "    <tr>\n",
       "      <th>1</th>\n",
       "      <td>100</td>\n",
       "      <td>1003</td>\n",
       "      <td>0.066667</td>\n",
       "    </tr>\n",
       "    <tr>\n",
       "      <th>2</th>\n",
       "      <td>100</td>\n",
       "      <td>101</td>\n",
       "      <td>0.133333</td>\n",
       "    </tr>\n",
       "    <tr>\n",
       "      <th>3</th>\n",
       "      <td>100</td>\n",
       "      <td>1013</td>\n",
       "      <td>0.000000</td>\n",
       "    </tr>\n",
       "    <tr>\n",
       "      <th>4</th>\n",
       "      <td>100</td>\n",
       "      <td>1017</td>\n",
       "      <td>0.000000</td>\n",
       "    </tr>\n",
       "    <tr>\n",
       "      <th>...</th>\n",
       "      <td>...</td>\n",
       "      <td>...</td>\n",
       "      <td>...</td>\n",
       "    </tr>\n",
       "    <tr>\n",
       "      <th>175975</th>\n",
       "      <td>995</td>\n",
       "      <td>981</td>\n",
       "      <td>0.142857</td>\n",
       "    </tr>\n",
       "    <tr>\n",
       "      <th>175976</th>\n",
       "      <td>995</td>\n",
       "      <td>982</td>\n",
       "      <td>0.285714</td>\n",
       "    </tr>\n",
       "    <tr>\n",
       "      <th>175977</th>\n",
       "      <td>995</td>\n",
       "      <td>983</td>\n",
       "      <td>0.142857</td>\n",
       "    </tr>\n",
       "    <tr>\n",
       "      <th>175978</th>\n",
       "      <td>995</td>\n",
       "      <td>989</td>\n",
       "      <td>0.000000</td>\n",
       "    </tr>\n",
       "    <tr>\n",
       "      <th>175979</th>\n",
       "      <td>995</td>\n",
       "      <td>99</td>\n",
       "      <td>0.285714</td>\n",
       "    </tr>\n",
       "  </tbody>\n",
       "</table>\n",
       "<p>175980 rows × 3 columns</p>\n",
       "</div>"
      ],
      "text/plain": [
       "        Test  Reference  Similarity\n",
       "0        100       1002    0.133333\n",
       "1        100       1003    0.066667\n",
       "2        100        101    0.133333\n",
       "3        100       1013    0.000000\n",
       "4        100       1017    0.000000\n",
       "...      ...        ...         ...\n",
       "175975   995        981    0.142857\n",
       "175976   995        982    0.285714\n",
       "175977   995        983    0.142857\n",
       "175978   995        989    0.000000\n",
       "175979   995         99    0.285714\n",
       "\n",
       "[175980 rows x 3 columns]"
      ]
     },
     "execution_count": 5,
     "metadata": {},
     "output_type": "execute_result"
    }
   ],
   "source": [
    "result_template = pd.read_csv('../input/TestStage3_AU.csv', header = 0)\n",
    "\n",
    "result_template = result_template.loc[result_template[\"Test\"] != result_template[\"Reference\"]]\n",
    "result_template = result_template.reset_index()\n",
    "del result_template['index']\n",
    "\n",
    "result_template"
   ]
  },
  {
   "cell_type": "code",
   "execution_count": 7,
   "id": "1792fbf4",
   "metadata": {},
   "outputs": [],
   "source": [
    "# np.save('similarity_stage2_feature.npy', similarity_stage2_feature)\n",
    "result_template.to_csv(\"../output/result_stage3_template.csv\", index=False)"
   ]
  },
  {
   "cell_type": "code",
   "execution_count": 48,
   "id": "30901b60",
   "metadata": {},
   "outputs": [],
   "source": [
    "# End of file"
   ]
  }
 ],
 "metadata": {
  "kernelspec": {
   "display_name": "Python 3",
   "language": "python",
   "name": "python3"
  },
  "language_info": {
   "codemirror_mode": {
    "name": "ipython",
    "version": 3
   },
   "file_extension": ".py",
   "mimetype": "text/x-python",
   "name": "python",
   "nbconvert_exporter": "python",
   "pygments_lexer": "ipython3",
   "version": "3.8.8"
  }
 },
 "nbformat": 4,
 "nbformat_minor": 5
}
