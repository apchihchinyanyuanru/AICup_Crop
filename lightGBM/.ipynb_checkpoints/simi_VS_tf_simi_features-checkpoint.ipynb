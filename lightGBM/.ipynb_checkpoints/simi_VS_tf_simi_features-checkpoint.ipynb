{
 "cells": [
  {
   "cell_type": "markdown",
   "id": "3c9d810e",
   "metadata": {},
   "source": [
    "# LightGBM\n",
    "1. Only similarities feature data\n",
    " - No Sample weight\n",
    " - Adding Sample weight\n",
    "\n",
    "\n",
    "2. TF and similarities feature data\n",
    " - No Sample weight\n",
    " - Adding Sample weight"
   ]
  },
  {
   "cell_type": "code",
   "execution_count": 4,
   "id": "b386eaaf",
   "metadata": {},
   "outputs": [],
   "source": [
    "# load package\n",
    "import pandas as pd\n",
    "import numpy as np"
   ]
  },
  {
   "cell_type": "markdown",
   "id": "a4c203cd",
   "metadata": {},
   "source": [
    "# Only similarities feature data"
   ]
  },
  {
   "cell_type": "code",
   "execution_count": 55,
   "id": "9d422347",
   "metadata": {},
   "outputs": [],
   "source": [
    "# read similarity feature data\n",
    "X1 = np.load('../../input/model feed/X1_only_similarities.npy')\n",
    "y1 = np.load('../../input/model feed/Y1.npy')\n",
    "X2 = np.load('../../input/model feed/X2_only_similarities.npy')"
   ]
  },
  {
   "cell_type": "code",
   "execution_count": 56,
   "id": "7c758a0d",
   "metadata": {},
   "outputs": [],
   "source": [
    "# split data into testing set and training set\n",
    "# 80% of data into the training set, while the rest 20% is used as a testing set.\n",
    "from sklearn.model_selection import train_test_split\n",
    "\n",
    "X_train, X_test, y_train, y_test = train_test_split(X1, y1, test_size=0.2, random_state=345)"
   ]
  },
  {
   "cell_type": "markdown",
   "id": "5dfe0e5b",
   "metadata": {},
   "source": [
    "## No Sample weight"
   ]
  },
  {
   "cell_type": "code",
   "execution_count": 57,
   "id": "a9b098b5",
   "metadata": {},
   "outputs": [
    {
     "name": "stderr",
     "output_type": "stream",
     "text": [
      "C:\\Users\\small\\anaconda3\\lib\\site-packages\\lightgbm\\sklearn.py:726: UserWarning: 'early_stopping_rounds' argument is deprecated and will be removed in a future release of LightGBM. Pass 'early_stopping()' callback via 'callbacks' argument instead.\n",
      "  _log_warning(\"'early_stopping_rounds' argument is deprecated and will be removed in a future release of LightGBM. \"\n"
     ]
    },
    {
     "name": "stdout",
     "output_type": "stream",
     "text": [
      "[1]\tvalid_0's binary_logloss: 0.0141662\n",
      "[2]\tvalid_0's binary_logloss: 0.0135211\n",
      "[3]\tvalid_0's binary_logloss: 0.0131098\n",
      "[4]\tvalid_0's binary_logloss: 0.0127726\n",
      "[5]\tvalid_0's binary_logloss: 0.0124209\n",
      "[6]\tvalid_0's binary_logloss: 0.0121651\n",
      "[7]\tvalid_0's binary_logloss: 0.0119444\n",
      "[8]\tvalid_0's binary_logloss: 0.0116931\n",
      "[9]\tvalid_0's binary_logloss: 0.0114813\n",
      "[10]\tvalid_0's binary_logloss: 0.0112994\n",
      "[11]\tvalid_0's binary_logloss: 0.0111195\n",
      "[12]\tvalid_0's binary_logloss: 0.0109537\n",
      "[13]\tvalid_0's binary_logloss: 0.010774\n",
      "[14]\tvalid_0's binary_logloss: 0.0106354\n",
      "[15]\tvalid_0's binary_logloss: 0.010509\n",
      "[16]\tvalid_0's binary_logloss: 0.0103841\n",
      "[17]\tvalid_0's binary_logloss: 0.0102512\n",
      "[18]\tvalid_0's binary_logloss: 0.0101465\n",
      "[19]\tvalid_0's binary_logloss: 0.0100443\n",
      "[20]\tvalid_0's binary_logloss: 0.00991299\n",
      "[21]\tvalid_0's binary_logloss: 0.00982914\n",
      "[22]\tvalid_0's binary_logloss: 0.00971566\n",
      "[23]\tvalid_0's binary_logloss: 0.00962205\n",
      "[24]\tvalid_0's binary_logloss: 0.00953314\n",
      "[25]\tvalid_0's binary_logloss: 0.0094199\n",
      "[26]\tvalid_0's binary_logloss: 0.00931853\n",
      "[27]\tvalid_0's binary_logloss: 0.00925272\n",
      "[28]\tvalid_0's binary_logloss: 0.00917112\n",
      "[29]\tvalid_0's binary_logloss: 0.00909733\n",
      "[30]\tvalid_0's binary_logloss: 0.00902201\n",
      "[31]\tvalid_0's binary_logloss: 0.0089583\n",
      "[32]\tvalid_0's binary_logloss: 0.00888088\n",
      "[33]\tvalid_0's binary_logloss: 0.00881234\n",
      "[34]\tvalid_0's binary_logloss: 0.00876273\n",
      "[35]\tvalid_0's binary_logloss: 0.00869365\n",
      "[36]\tvalid_0's binary_logloss: 0.00862786\n",
      "[37]\tvalid_0's binary_logloss: 0.00857644\n",
      "[38]\tvalid_0's binary_logloss: 0.00852512\n",
      "[39]\tvalid_0's binary_logloss: 0.00848445\n",
      "[40]\tvalid_0's binary_logloss: 0.00844584\n"
     ]
    },
    {
     "data": {
      "text/plain": [
       "LGBMClassifier(learning_rate=0.05, n_estimators=40)"
      ]
     },
     "execution_count": 57,
     "metadata": {},
     "output_type": "execute_result"
    }
   ],
   "source": [
    "# train model\n",
    "from lightgbm import LGBMClassifier\n",
    "from sklearn.utils import class_weight\n",
    "\n",
    "gbm1 = LGBMClassifier(num_leaves=31, learning_rate=0.05, n_estimators=40)\n",
    "gbm1.fit(X_train, y_train, eval_set=[(X_test, y_test)], early_stopping_rounds=5)"
   ]
  },
  {
   "cell_type": "code",
   "execution_count": 58,
   "id": "f3d7a719",
   "metadata": {},
   "outputs": [],
   "source": [
    "# predict\n",
    "y_pred = gbm1.predict(X_test, num_iteration=gbm1.best_iteration_)"
   ]
  },
  {
   "cell_type": "code",
   "execution_count": 59,
   "id": "f74bdef9",
   "metadata": {},
   "outputs": [
    {
     "name": "stdout",
     "output_type": "stream",
     "text": [
      "The accuracy of prediction is: 0.9975154283882344\n"
     ]
    }
   ],
   "source": [
    "# accuracy score for the result\n",
    "from sklearn.metrics import accuracy_score\n",
    "\n",
    "print('The accuracy of prediction is:', accuracy_score(y_test, y_pred))"
   ]
  },
  {
   "cell_type": "code",
   "execution_count": 60,
   "id": "5686f1ea",
   "metadata": {},
   "outputs": [
    {
     "name": "stdout",
     "output_type": "stream",
     "text": [
      "              precision    recall  f1-score   support\n",
      "\n",
      "         0.0     0.9985    0.9990    0.9988     62097\n",
      "         1.0     0.7568    0.6806    0.7166       288\n",
      "\n",
      "    accuracy                         0.9975     62385\n",
      "   macro avg     0.8776    0.8398    0.8577     62385\n",
      "weighted avg     0.9974    0.9975    0.9974     62385\n",
      "\n"
     ]
    }
   ],
   "source": [
    "from sklearn.metrics import classification_report\n",
    "report_simi_no_sample = classification_report(y_true=y_test, y_pred=y_pred, digits=4)\n",
    "print(report_simi_no_sample)"
   ]
  },
  {
   "cell_type": "code",
   "execution_count": 61,
   "id": "83c7bdc1",
   "metadata": {},
   "outputs": [
    {
     "name": "stdout",
     "output_type": "stream",
     "text": [
      "Feature importances: [173, 230, 22, 169, 195, 127, 172, 112]\n"
     ]
    }
   ],
   "source": [
    "# Feature importances\n",
    "print('Feature importances:', list(gbm1.feature_importances_))"
   ]
  },
  {
   "cell_type": "code",
   "execution_count": 62,
   "id": "964b44da",
   "metadata": {},
   "outputs": [
    {
     "name": "stdout",
     "output_type": "stream",
     "text": [
      "Best parameters found by grid search are: {'learning_rate': 0.05, 'n_estimators': 40}\n"
     ]
    }
   ],
   "source": [
    "# search for better parameter\n",
    "from sklearn.model_selection import GridSearchCV\n",
    "\n",
    "estimator = LGBMClassifier(num_leaves=31)\n",
    "param_grid = {\n",
    "    'learning_rate': [0.01, 0.05, 0.1, 1],\n",
    "    'n_estimators': [20, 40]\n",
    "}\n",
    "gbm_ = GridSearchCV(estimator, param_grid)\n",
    "gbm_.fit(X_train, y_train)\n",
    "print('Best parameters found by grid search are:', gbm_.best_params_)"
   ]
  },
  {
   "cell_type": "markdown",
   "id": "5b9c3316",
   "metadata": {},
   "source": [
    "## Adding Sample weight"
   ]
  },
  {
   "cell_type": "code",
   "execution_count": 63,
   "id": "b7cc19a2",
   "metadata": {
    "scrolled": true
   },
   "outputs": [
    {
     "name": "stderr",
     "output_type": "stream",
     "text": [
      "C:\\Users\\small\\anaconda3\\lib\\site-packages\\lightgbm\\sklearn.py:726: UserWarning: 'early_stopping_rounds' argument is deprecated and will be removed in a future release of LightGBM. Pass 'early_stopping()' callback via 'callbacks' argument instead.\n",
      "  _log_warning(\"'early_stopping_rounds' argument is deprecated and will be removed in a future release of LightGBM. \"\n"
     ]
    },
    {
     "name": "stdout",
     "output_type": "stream",
     "text": [
      "[1]\tvalid_0's binary_logloss: 0.646356\n",
      "[2]\tvalid_0's binary_logloss: 0.604087\n",
      "[3]\tvalid_0's binary_logloss: 0.565798\n",
      "[4]\tvalid_0's binary_logloss: 0.530822\n",
      "[5]\tvalid_0's binary_logloss: 0.498724\n",
      "[6]\tvalid_0's binary_logloss: 0.469307\n",
      "[7]\tvalid_0's binary_logloss: 0.442179\n",
      "[8]\tvalid_0's binary_logloss: 0.41704\n",
      "[9]\tvalid_0's binary_logloss: 0.393882\n",
      "[10]\tvalid_0's binary_logloss: 0.372439\n",
      "[11]\tvalid_0's binary_logloss: 0.352541\n",
      "[12]\tvalid_0's binary_logloss: 0.334009\n",
      "[13]\tvalid_0's binary_logloss: 0.316763\n",
      "[14]\tvalid_0's binary_logloss: 0.300634\n",
      "[15]\tvalid_0's binary_logloss: 0.285481\n",
      "[16]\tvalid_0's binary_logloss: 0.271316\n",
      "[17]\tvalid_0's binary_logloss: 0.258119\n",
      "[18]\tvalid_0's binary_logloss: 0.245715\n",
      "[19]\tvalid_0's binary_logloss: 0.234143\n",
      "[20]\tvalid_0's binary_logloss: 0.223287\n",
      "[21]\tvalid_0's binary_logloss: 0.213025\n",
      "[22]\tvalid_0's binary_logloss: 0.203431\n",
      "[23]\tvalid_0's binary_logloss: 0.194407\n",
      "[24]\tvalid_0's binary_logloss: 0.185947\n",
      "[25]\tvalid_0's binary_logloss: 0.17795\n",
      "[26]\tvalid_0's binary_logloss: 0.170432\n",
      "[27]\tvalid_0's binary_logloss: 0.163373\n",
      "[28]\tvalid_0's binary_logloss: 0.156742\n",
      "[29]\tvalid_0's binary_logloss: 0.150074\n",
      "[30]\tvalid_0's binary_logloss: 0.14378\n",
      "[31]\tvalid_0's binary_logloss: 0.137878\n",
      "[32]\tvalid_0's binary_logloss: 0.132283\n",
      "[33]\tvalid_0's binary_logloss: 0.127133\n",
      "[34]\tvalid_0's binary_logloss: 0.122159\n",
      "[35]\tvalid_0's binary_logloss: 0.117435\n",
      "[36]\tvalid_0's binary_logloss: 0.113021\n",
      "[37]\tvalid_0's binary_logloss: 0.108816\n",
      "[38]\tvalid_0's binary_logloss: 0.104912\n",
      "[39]\tvalid_0's binary_logloss: 0.101147\n",
      "[40]\tvalid_0's binary_logloss: 0.0976122\n"
     ]
    },
    {
     "data": {
      "text/plain": [
       "LGBMClassifier(learning_rate=0.05, n_estimators=40)"
      ]
     },
     "execution_count": 63,
     "metadata": {},
     "output_type": "execute_result"
    }
   ],
   "source": [
    "# train model\n",
    "from lightgbm import LGBMClassifier\n",
    "from sklearn.utils import class_weight\n",
    "\n",
    "train_sample = class_weight.compute_sample_weight('balanced', y_train)\n",
    "test_sample = class_weight.compute_sample_weight('balanced', y_test)\n",
    "\n",
    "gbm2 = LGBMClassifier(num_leaves=31, learning_rate=0.05, n_estimators=40)\n",
    "gbm2.fit(X_train, y_train, eval_set=[(X_test, y_test)], early_stopping_rounds=5,  sample_weight=train_sample)"
   ]
  },
  {
   "cell_type": "code",
   "execution_count": 64,
   "id": "35cccb5d",
   "metadata": {},
   "outputs": [],
   "source": [
    "# predict\n",
    "y_pred = gbm2.predict(X_test, num_iteration=gbm2.best_iteration_)"
   ]
  },
  {
   "cell_type": "code",
   "execution_count": 65,
   "id": "f6175eb1",
   "metadata": {},
   "outputs": [
    {
     "name": "stdout",
     "output_type": "stream",
     "text": [
      "The accuracy of prediction is: 0.9857818385829927\n"
     ]
    }
   ],
   "source": [
    "# accuracy score for the result\n",
    "from sklearn.metrics import accuracy_score\n",
    "\n",
    "print('The accuracy of prediction is:', accuracy_score(y_test, y_pred))"
   ]
  },
  {
   "cell_type": "code",
   "execution_count": 66,
   "id": "9d343213",
   "metadata": {},
   "outputs": [
    {
     "name": "stdout",
     "output_type": "stream",
     "text": [
      "              precision    recall  f1-score   support\n",
      "\n",
      "         0.0     0.9998    0.9859    0.9928     62097\n",
      "         1.0     0.2393    0.9549    0.3827       288\n",
      "\n",
      "    accuracy                         0.9858     62385\n",
      "   macro avg     0.6196    0.9704    0.6878     62385\n",
      "weighted avg     0.9963    0.9858    0.9900     62385\n",
      "\n"
     ]
    }
   ],
   "source": [
    "from sklearn.metrics import classification_report\n",
    "report_simi_sample = classification_report(y_true=y_test, y_pred=y_pred, digits=4)\n",
    "print(report_simi_sample)"
   ]
  },
  {
   "cell_type": "code",
   "execution_count": 67,
   "id": "84ad7129",
   "metadata": {},
   "outputs": [
    {
     "name": "stdout",
     "output_type": "stream",
     "text": [
      "Feature importances: [182, 165, 15, 145, 255, 130, 175, 133]\n"
     ]
    }
   ],
   "source": [
    "# Feature importances\n",
    "print('Feature importances:', list(gbm2.feature_importances_))"
   ]
  },
  {
   "cell_type": "code",
   "execution_count": 68,
   "id": "1af3b704",
   "metadata": {},
   "outputs": [
    {
     "name": "stdout",
     "output_type": "stream",
     "text": [
      "Best parameters found by grid search are: {'learning_rate': 0.05, 'n_estimators': 40}\n"
     ]
    }
   ],
   "source": [
    "# search for better parameter\n",
    "from sklearn.model_selection import GridSearchCV\n",
    "\n",
    "estimator = LGBMClassifier(num_leaves=31)\n",
    "param_grid = {\n",
    "    'learning_rate': [0.01, 0.05, 0.1, 1],\n",
    "    'n_estimators': [20, 40]\n",
    "}\n",
    "gbm_ = GridSearchCV(estimator, param_grid)\n",
    "gbm_.fit(X_train, y_train)\n",
    "print('Best parameters found by grid search are:', gbm_.best_params_)"
   ]
  },
  {
   "cell_type": "markdown",
   "id": "d09f90f3",
   "metadata": {},
   "source": [
    "--- \n",
    "#  TF and similarities features data"
   ]
  },
  {
   "cell_type": "code",
   "execution_count": 6,
   "id": "865c2cdc",
   "metadata": {},
   "outputs": [],
   "source": [
    "# read all feature data\n",
    "X1 = np.load('../../input/model feed/X1_tf_simi.npy')\n",
    "X2 = np.load('../../input/model feed/X2_tf_simi.npy')\n",
    "y1 = np.load('../../input/model feed/Y1.npy')"
   ]
  },
  {
   "cell_type": "code",
   "execution_count": 7,
   "id": "00f3310c",
   "metadata": {},
   "outputs": [],
   "source": [
    "# split data into testing set and training set\n",
    "# 80% of data into the training set, while the rest 20% is used as a testing set.\n",
    "from sklearn.model_selection import train_test_split\n",
    "\n",
    "X_train, X_test, y_train, y_test = train_test_split(X1, y1, test_size=0.2, random_state=345)"
   ]
  },
  {
   "cell_type": "markdown",
   "id": "633ffc25",
   "metadata": {},
   "source": [
    "## No Sample weight"
   ]
  },
  {
   "cell_type": "code",
   "execution_count": 8,
   "id": "44f10183",
   "metadata": {},
   "outputs": [
    {
     "name": "stderr",
     "output_type": "stream",
     "text": [
      "C:\\Users\\small\\anaconda3\\lib\\site-packages\\lightgbm\\sklearn.py:726: UserWarning: 'early_stopping_rounds' argument is deprecated and will be removed in a future release of LightGBM. Pass 'early_stopping()' callback via 'callbacks' argument instead.\n",
      "  _log_warning(\"'early_stopping_rounds' argument is deprecated and will be removed in a future release of LightGBM. \"\n"
     ]
    },
    {
     "name": "stdout",
     "output_type": "stream",
     "text": [
      "[1]\tvalid_0's binary_logloss: 0.0113879\n",
      "[2]\tvalid_0's binary_logloss: 0.0103874\n",
      "[3]\tvalid_0's binary_logloss: 0.0100169\n",
      "[4]\tvalid_0's binary_logloss: 0.00952956\n",
      "[5]\tvalid_0's binary_logloss: 0.00924878\n",
      "[6]\tvalid_0's binary_logloss: 0.00902942\n",
      "[7]\tvalid_0's binary_logloss: 0.00877801\n",
      "[8]\tvalid_0's binary_logloss: 0.00861417\n",
      "[9]\tvalid_0's binary_logloss: 0.00837002\n",
      "[10]\tvalid_0's binary_logloss: 0.00819825\n",
      "[11]\tvalid_0's binary_logloss: 0.00801942\n",
      "[12]\tvalid_0's binary_logloss: 0.00788612\n",
      "[13]\tvalid_0's binary_logloss: 0.00769277\n",
      "[14]\tvalid_0's binary_logloss: 0.00755805\n",
      "[15]\tvalid_0's binary_logloss: 0.00742894\n",
      "[16]\tvalid_0's binary_logloss: 0.0072718\n",
      "[17]\tvalid_0's binary_logloss: 0.00712426\n",
      "[18]\tvalid_0's binary_logloss: 0.00679636\n",
      "[19]\tvalid_0's binary_logloss: 0.00664609\n",
      "[20]\tvalid_0's binary_logloss: 0.00654745\n",
      "[21]\tvalid_0's binary_logloss: 0.00644382\n",
      "[22]\tvalid_0's binary_logloss: 0.00635793\n",
      "[23]\tvalid_0's binary_logloss: 0.00627038\n",
      "[24]\tvalid_0's binary_logloss: 0.00619088\n",
      "[25]\tvalid_0's binary_logloss: 0.00610168\n",
      "[26]\tvalid_0's binary_logloss: 0.00601445\n",
      "[27]\tvalid_0's binary_logloss: 0.00594297\n",
      "[28]\tvalid_0's binary_logloss: 0.00586827\n",
      "[29]\tvalid_0's binary_logloss: 0.00577643\n",
      "[30]\tvalid_0's binary_logloss: 0.00569041\n",
      "[31]\tvalid_0's binary_logloss: 0.00562042\n",
      "[32]\tvalid_0's binary_logloss: 0.00556078\n",
      "[33]\tvalid_0's binary_logloss: 0.00548646\n",
      "[34]\tvalid_0's binary_logloss: 0.00543134\n",
      "[35]\tvalid_0's binary_logloss: 0.00538004\n",
      "[36]\tvalid_0's binary_logloss: 0.00533014\n",
      "[37]\tvalid_0's binary_logloss: 0.00527636\n",
      "[38]\tvalid_0's binary_logloss: 0.00523702\n",
      "[39]\tvalid_0's binary_logloss: 0.00517443\n",
      "[40]\tvalid_0's binary_logloss: 0.00510126\n"
     ]
    },
    {
     "data": {
      "text/plain": [
       "LGBMClassifier(learning_rate=0.05, n_estimators=40)"
      ]
     },
     "execution_count": 8,
     "metadata": {},
     "output_type": "execute_result"
    }
   ],
   "source": [
    "# train model\n",
    "from lightgbm import LGBMClassifier\n",
    "from sklearn.utils import class_weight\n",
    "\n",
    "gbm3 = LGBMClassifier(num_leaves=31, learning_rate=0.05, n_estimators=40)\n",
    "gbm3.fit(X_train, y_train, eval_set=[(X_test, y_test)], early_stopping_rounds=5)"
   ]
  },
  {
   "cell_type": "code",
   "execution_count": 9,
   "id": "1bf9a544",
   "metadata": {},
   "outputs": [],
   "source": [
    "# predict\n",
    "y_pred = gbm3.predict(X_test, num_iteration=gbm3.best_iteration_)"
   ]
  },
  {
   "cell_type": "code",
   "execution_count": 10,
   "id": "9042ea55",
   "metadata": {},
   "outputs": [
    {
     "name": "stdout",
     "output_type": "stream",
     "text": [
      "The accuracy of prediction is: 0.9985733750100184\n"
     ]
    }
   ],
   "source": [
    "# accuracy score for the result\n",
    "from sklearn.metrics import accuracy_score\n",
    "\n",
    "print('The accuracy of prediction is:', accuracy_score(y_test, y_pred))"
   ]
  },
  {
   "cell_type": "code",
   "execution_count": 11,
   "id": "10381807",
   "metadata": {},
   "outputs": [
    {
     "name": "stdout",
     "output_type": "stream",
     "text": [
      "              precision    recall  f1-score   support\n",
      "\n",
      "         0.0     0.9991    0.9995    0.9993     62097\n",
      "         1.0     0.8755    0.8056    0.8391       288\n",
      "\n",
      "    accuracy                         0.9986     62385\n",
      "   macro avg     0.9373    0.9025    0.9192     62385\n",
      "weighted avg     0.9985    0.9986    0.9985     62385\n",
      "\n"
     ]
    }
   ],
   "source": [
    "from sklearn.metrics import classification_report\n",
    "report_all_no_sample = classification_report(y_true=y_test, y_pred=y_pred, digits=4)\n",
    "print(report_all_no_sample)"
   ]
  },
  {
   "cell_type": "code",
   "execution_count": 75,
   "id": "230fab70",
   "metadata": {},
   "outputs": [
    {
     "name": "stdout",
     "output_type": "stream",
     "text": [
      "Feature importances: [84, 48, 4, 51, 52, 22, 48, 44, 0, 0, 2, 4, 2, 0, 0, 0, 0, 0, 0, 0, 0, 5, 0, 0, 0, 0, 0, 0, 0, 1, 0, 0, 0, 0, 6, 1, 0, 0, 0, 0, 0, 1, 0, 0, 0, 0, 0, 0, 1, 0, 11, 0, 0, 0, 0, 0, 2, 0, 1, 1, 0, 0, 1, 3, 0, 0, 0, 0, 0, 0, 0, 0, 0, 0, 0, 0, 0, 0, 0, 9, 0, 0, 0, 0, 0, 0, 1, 0, 0, 0, 0, 0, 0, 0, 9, 1, 0, 0, 0, 0, 0, 0, 0, 0, 0, 0, 0, 0, 0, 0, 0, 0, 0, 0, 0, 0, 0, 0, 0, 0, 0, 0, 0, 0, 0, 0, 0, 0, 0, 1, 0, 0, 0, 0, 0, 0, 0, 0, 0, 0, 0, 0, 0, 0, 0, 0, 10, 0, 0, 0, 5, 0, 0, 0, 0, 0, 0, 0, 6, 0, 0, 0, 0, 0, 1, 0, 0, 0, 0, 0, 0, 0, 0, 0, 0, 0, 0, 0, 0, 0, 0, 0, 0, 0, 0, 0, 0, 0, 0, 0, 3, 0, 0, 3, 0, 0, 0, 0, 0, 0, 0, 0, 0, 0, 0, 0, 0, 0, 0, 0, 0, 0, 0, 0, 0, 0, 0, 0, 0, 0, 0, 0, 0, 0, 0, 0, 0, 0, 0, 0, 0, 0, 0, 0, 0, 0, 0, 0, 0, 0, 0, 0, 0, 0, 0, 0, 0, 0, 0, 0, 0, 0, 0, 0, 0, 0, 0, 0, 0, 0, 0, 0, 0, 0, 0, 0, 0, 0, 0, 0, 0, 0, 0, 0, 0, 0, 0, 0, 0, 0, 0, 0, 0, 0, 0, 0, 0, 0, 0, 0, 0, 0, 0, 0, 0, 0, 0, 0, 0, 0, 0, 0, 0, 0, 0, 0, 0, 0, 0, 0, 0, 0, 0, 0, 1, 0, 0, 0, 0, 0, 0, 0, 0, 0, 0, 0, 0, 0, 0, 0, 0, 0, 0, 0, 0, 0, 0, 0, 0, 0, 0, 0, 1, 0, 0, 0, 0, 0, 0, 0, 0, 0, 0, 0, 0, 0, 0, 0, 0, 0, 0, 0, 0, 0, 0, 0, 0, 0, 0, 0, 0, 0, 0, 0, 0, 0, 0, 0, 22, 1, 0, 0, 0, 0, 0, 11, 0, 0, 0, 0, 0, 0, 0, 0, 0, 0, 0, 0, 0, 0, 0, 0, 0, 3, 0, 1, 0, 0, 18, 0, 0, 0, 0, 9, 0, 0, 0, 0, 0, 0, 0, 0, 0, 0, 0, 0, 0, 0, 0, 0, 0, 0, 0, 0, 0, 0, 0, 0, 0, 0, 3, 0, 0, 0, 0, 0, 0, 0, 0, 0, 0, 0, 0, 0, 0, 0, 0, 0, 0, 0, 0, 0, 0, 0, 0, 0, 0, 0, 5, 0, 0, 0, 0, 0, 0, 0, 0, 0, 0, 0, 0, 0, 7, 0, 0, 0, 0, 0, 0, 0, 0, 0, 0, 0, 0, 0, 0, 0, 0, 0, 0, 0, 0, 0, 0, 0, 0, 0, 0, 0, 0, 0, 0, 0, 0, 0, 0, 0, 0, 0, 0, 0, 0, 0, 0, 0, 0, 0, 0, 0, 0, 0, 0, 0, 0, 0, 0, 0, 0, 0, 0, 0, 0, 0, 0, 0, 0, 0, 0, 0, 0, 0, 0, 0, 0, 0, 0, 0, 0, 0, 0, 0, 0, 0, 0, 3, 2, 0, 4, 0, 0, 0, 0, 0, 0, 0, 0, 0, 19, 6, 0, 0, 0, 0, 5, 0, 33, 0, 20, 0, 3, 17, 12, 2, 0, 0, 0, 4, 0, 0, 0, 0, 0, 8, 2, 0, 8, 0, 0, 0, 0, 0, 0, 0, 0, 0, 0, 0, 0, 0, 0, 0, 0, 0, 0, 0, 0, 0, 0, 0, 11, 0, 0, 0, 0, 0, 0, 0, 0, 0, 0, 0, 0, 0, 0, 0, 0, 0, 0, 0, 0, 0, 0, 0, 0, 0, 0, 0, 0, 0, 0, 0, 0, 0, 0, 0, 0, 0, 0, 0, 0, 0, 0, 0, 0, 0, 0, 0, 0, 0, 0, 0, 0, 0, 0, 0, 0, 0, 0, 0, 0, 0, 0, 0, 0, 0, 19, 0, 0, 0, 0, 0, 0, 0, 0, 0, 0, 0, 0, 0, 0, 0, 0, 0, 0, 0, 0, 0, 0, 0, 0, 0, 0, 0, 0, 0, 0, 0, 0, 0, 0, 0, 1, 0, 1, 8, 0, 0, 0, 0, 0, 0, 0, 0, 0, 0, 0, 0, 0, 0, 0, 0, 0, 17, 0, 0, 0, 0, 0, 0, 0, 0, 0, 0, 0, 0, 0, 0, 0, 0, 0, 0, 0, 0, 2, 1, 1, 0, 2, 0, 0, 0, 0, 0, 0, 14, 1, 8, 0, 1, 0, 3, 4, 1, 0, 0, 0, 0, 4, 3, 0, 18, 0, 0, 0, 0, 0, 2, 0, 0, 0, 3, 4, 6, 1, 0, 0, 0, 1, 0, 0, 0, 6, 1, 0, 0, 1, 1, 0, 2, 2, 2, 0, 0, 0, 0, 0, 1, 0, 0, 0, 1, 0, 3, 0, 0, 0, 0, 0, 0, 0, 0, 2, 0, 0, 0, 0, 0, 6, 5, 1, 0, 0, 2, 0, 0, 0, 0, 0, 0, 0, 0, 0, 0, 0, 0, 0, 0, 0, 0, 0, 2, 0, 0, 0, 1, 0, 0, 0, 0, 0, 0, 0, 3, 0, 0, 0, 0, 0, 0, 0, 0, 0, 0, 0, 0, 0, 0, 0, 0, 0, 0, 0, 0, 7, 0, 0, 0, 0, 0, 0, 0, 5, 0, 0, 0, 0, 0, 2, 0, 0, 0, 0, 0, 0, 0, 0, 0, 0, 0, 0, 0, 0, 0, 0, 0, 0, 0, 0, 0, 0, 0, 0, 0, 0, 0, 0, 15, 0, 0, 0, 0, 0, 0, 1, 0, 0, 0, 0, 0, 0, 0, 0, 0, 0, 0, 1, 1, 0, 0, 0, 0, 0, 0, 0, 0, 0, 0, 0, 0, 0, 0, 0, 2, 0, 0, 0, 0, 0, 0, 0, 0, 0, 0, 0, 0, 0, 0, 0, 0, 0, 0, 0, 0, 0, 0, 0, 0, 0, 0, 0, 0, 0, 0, 0, 0, 0, 0, 0, 0, 0, 0, 0, 0, 0, 0, 0, 0, 0, 0, 0, 0, 0, 0, 0, 0, 0, 0, 0, 0, 0, 0, 5, 0, 0, 0, 0, 0, 0, 0, 0, 3, 0, 0, 0, 0, 0, 0, 0, 0, 0, 0, 0, 0, 0, 0, 0, 0, 0, 0, 1, 0, 0, 0, 4, 0, 0, 0, 0, 0, 0, 0, 0, 0, 0, 0, 0, 0, 0, 0, 0, 0, 0, 0, 0, 0, 4, 0, 0, 0, 0, 0, 0, 0, 0, 0, 0, 0, 0, 0, 0, 0, 0, 0, 0, 0, 0, 0, 0, 0, 0, 0, 0, 0, 0, 0, 0, 0, 0, 0, 0, 3, 12, 0, 0, 0, 0, 0, 0, 5, 0, 1, 2, 0, 0, 0, 0, 0, 0, 0, 0, 0, 5, 0, 0, 0, 0, 5, 10, 0, 3, 0, 2, 0, 0, 0, 0, 11, 0, 0, 3, 3, 5, 0, 0, 0, 6, 0, 0, 0, 0, 0, 0, 0, 0, 0, 0, 0, 0, 0, 0, 0, 0, 0, 0, 0, 0, 0, 1, 0, 0, 0, 0, 0, 0, 0, 0, 0, 0, 0, 0, 0, 2, 0, 0, 0, 0, 0, 0, 0, 2, 0, 13, 0, 0, 0, 0, 0, 0, 1, 0, 0, 0, 0, 0, 0, 19, 0, 0, 0, 0, 0, 0, 0, 0, 0, 1, 0, 0, 0, 0, 0, 3, 0, 0, 0, 0, 0, 0, 0, 0, 0, 1, 0, 0, 0, 0, 0, 0, 0, 0, 0, 0, 0, 0, 0, 0, 0, 0, 0, 0, 0, 0, 0, 0, 0, 0, 0, 0, 0, 0, 0, 0, 0, 0, 0, 0, 0, 0, 0, 0, 0, 0, 0, 0, 0, 0, 0, 0, 0, 0, 0, 0, 0, 0, 0, 0, 0, 0, 0, 8, 0, 0, 0, 2, 0, 0, 0, 0, 0, 0, 0, 0, 1, 3, 0, 3, 8, 7, 0, 23, 0, 24, 0, 3, 8, 8, 7, 0, 0, 0, 5, 0, 0, 0, 0, 0, 2, 0, 2, 17, 0, 0, 0, 0, 0, 4, 0, 0, 0, 0, 0, 0, 0, 0, 0, 0, 0, 0, 0, 0, 0, 0, 0, 2, 0, 0, 0, 1, 0, 0, 0, 0, 0, 0, 0, 0, 0, 0, 0, 0, 0, 0, 0, 0, 0, 0, 0, 0, 0, 0, 0, 0, 0, 0, 0, 0, 0, 0, 0, 0, 0, 0, 0, 0, 0, 0, 3, 0, 0, 0, 0, 0, 0, 1, 0, 0, 0, 0, 0, 0, 0, 0, 0, 0, 0, 0, 0, 0, 0, 0, 0, 0, 0, 0, 0, 0, 0, 0, 0, 0, 0, 0, 0, 0, 5, 0, 0, 0, 0, 0, 0, 0, 0, 0, 0, 0, 0, 0, 0, 0, 0, 0, 0, 0, 0, 1, 1, 0, 2, 0, 0, 0, 0, 0, 0, 0, 0, 0, 0, 0, 0, 0, 0, 0, 0, 0, 9, 0, 2, 0, 15, 0, 0, 0, 0, 0, 0, 0, 0, 0, 0, 0, 0, 0, 0]\n"
     ]
    }
   ],
   "source": [
    "# Feature importances\n",
    "print('Feature importances:', list(gbm3.feature_importances_))"
   ]
  },
  {
   "cell_type": "code",
   "execution_count": 76,
   "id": "b7cd6db9",
   "metadata": {},
   "outputs": [
    {
     "name": "stdout",
     "output_type": "stream",
     "text": [
      "Best parameters found by grid search are: {'learning_rate': 0.05, 'n_estimators': 40}\n"
     ]
    }
   ],
   "source": [
    "# search for better parameter\n",
    "from sklearn.model_selection import GridSearchCV\n",
    "\n",
    "estimator = LGBMClassifier(num_leaves=31)\n",
    "param_grid = {\n",
    "    'learning_rate': [0.01, 0.05, 0.1, 1],\n",
    "    'n_estimators': [20, 40]\n",
    "}\n",
    "gbm_ = GridSearchCV(estimator, param_grid)\n",
    "gbm_.fit(X_train, y_train)\n",
    "print('Best parameters found by grid search are:', gbm_.best_params_)"
   ]
  },
  {
   "cell_type": "markdown",
   "id": "b2f3ab52",
   "metadata": {},
   "source": [
    "## Adding Sample weight"
   ]
  },
  {
   "cell_type": "code",
   "execution_count": 77,
   "id": "c37cdc39",
   "metadata": {
    "scrolled": true
   },
   "outputs": [
    {
     "name": "stderr",
     "output_type": "stream",
     "text": [
      "C:\\Users\\small\\anaconda3\\lib\\site-packages\\lightgbm\\sklearn.py:726: UserWarning: 'early_stopping_rounds' argument is deprecated and will be removed in a future release of LightGBM. Pass 'early_stopping()' callback via 'callbacks' argument instead.\n",
      "  _log_warning(\"'early_stopping_rounds' argument is deprecated and will be removed in a future release of LightGBM. \"\n"
     ]
    },
    {
     "name": "stdout",
     "output_type": "stream",
     "text": [
      "[1]\tvalid_0's binary_logloss: 0.645787\n",
      "[2]\tvalid_0's binary_logloss: 0.603013\n",
      "[3]\tvalid_0's binary_logloss: 0.564141\n",
      "[4]\tvalid_0's binary_logloss: 0.528703\n",
      "[5]\tvalid_0's binary_logloss: 0.496187\n",
      "[6]\tvalid_0's binary_logloss: 0.466375\n",
      "[7]\tvalid_0's binary_logloss: 0.438878\n",
      "[8]\tvalid_0's binary_logloss: 0.41355\n",
      "[9]\tvalid_0's binary_logloss: 0.390087\n",
      "[10]\tvalid_0's binary_logloss: 0.368414\n",
      "[11]\tvalid_0's binary_logloss: 0.348241\n",
      "[12]\tvalid_0's binary_logloss: 0.329441\n",
      "[13]\tvalid_0's binary_logloss: 0.311989\n",
      "[14]\tvalid_0's binary_logloss: 0.295715\n",
      "[15]\tvalid_0's binary_logloss: 0.280433\n",
      "[16]\tvalid_0's binary_logloss: 0.266021\n",
      "[17]\tvalid_0's binary_logloss: 0.25249\n",
      "[18]\tvalid_0's binary_logloss: 0.239576\n",
      "[19]\tvalid_0's binary_logloss: 0.227756\n",
      "[20]\tvalid_0's binary_logloss: 0.216484\n",
      "[21]\tvalid_0's binary_logloss: 0.206092\n",
      "[22]\tvalid_0's binary_logloss: 0.195943\n",
      "[23]\tvalid_0's binary_logloss: 0.186568\n",
      "[24]\tvalid_0's binary_logloss: 0.177717\n",
      "[25]\tvalid_0's binary_logloss: 0.169303\n",
      "[26]\tvalid_0's binary_logloss: 0.161501\n",
      "[27]\tvalid_0's binary_logloss: 0.154066\n",
      "[28]\tvalid_0's binary_logloss: 0.147153\n",
      "[29]\tvalid_0's binary_logloss: 0.140504\n",
      "[30]\tvalid_0's binary_logloss: 0.13431\n",
      "[31]\tvalid_0's binary_logloss: 0.128314\n",
      "[32]\tvalid_0's binary_logloss: 0.122646\n",
      "[33]\tvalid_0's binary_logloss: 0.1173\n",
      "[34]\tvalid_0's binary_logloss: 0.112264\n",
      "[35]\tvalid_0's binary_logloss: 0.107482\n",
      "[36]\tvalid_0's binary_logloss: 0.102972\n",
      "[37]\tvalid_0's binary_logloss: 0.0987321\n",
      "[38]\tvalid_0's binary_logloss: 0.0947348\n",
      "[39]\tvalid_0's binary_logloss: 0.0909435\n",
      "[40]\tvalid_0's binary_logloss: 0.0873464\n"
     ]
    },
    {
     "data": {
      "text/plain": [
       "LGBMClassifier(learning_rate=0.05, n_estimators=40)"
      ]
     },
     "execution_count": 77,
     "metadata": {},
     "output_type": "execute_result"
    }
   ],
   "source": [
    "# train model\n",
    "from lightgbm import LGBMClassifier\n",
    "from sklearn.utils import class_weight\n",
    "\n",
    "train_sample = class_weight.compute_sample_weight('balanced', y_train)\n",
    "test_sample = class_weight.compute_sample_weight('balanced', y_test)\n",
    "\n",
    "gbm4 = LGBMClassifier(num_leaves=31, learning_rate=0.05, n_estimators=40)\n",
    "gbm4.fit(X_train, y_train, eval_set=[(X_test, y_test)], early_stopping_rounds=5, sample_weight=train_sample)"
   ]
  },
  {
   "cell_type": "code",
   "execution_count": 78,
   "id": "b826530d",
   "metadata": {},
   "outputs": [],
   "source": [
    "# predict\n",
    "y_pred = gbm4.predict(X_test, num_iteration=gbm4.best_iteration_)"
   ]
  },
  {
   "cell_type": "code",
   "execution_count": 79,
   "id": "3a8d9cf6",
   "metadata": {},
   "outputs": [
    {
     "name": "stdout",
     "output_type": "stream",
     "text": [
      "The accuracy of prediction is: 0.9913921615773023\n"
     ]
    }
   ],
   "source": [
    "# accuracy score for the result\n",
    "from sklearn.metrics import accuracy_score\n",
    "\n",
    "print('The accuracy of prediction is:', accuracy_score(y_test, y_pred))"
   ]
  },
  {
   "cell_type": "code",
   "execution_count": 80,
   "id": "8f349e54",
   "metadata": {},
   "outputs": [
    {
     "name": "stdout",
     "output_type": "stream",
     "text": [
      "              precision    recall  f1-score   support\n",
      "\n",
      "         0.0     0.9999    0.9915    0.9957     62097\n",
      "         1.0     0.3457    0.9688    0.5096       288\n",
      "\n",
      "    accuracy                         0.9914     62385\n",
      "   macro avg     0.6728    0.9801    0.7526     62385\n",
      "weighted avg     0.9968    0.9914    0.9934     62385\n",
      "\n"
     ]
    }
   ],
   "source": [
    "from sklearn.metrics import classification_report\n",
    "report_all_sample = classification_report(y_true=y_test, y_pred=y_pred, digits=4)\n",
    "print(report_all_sample)"
   ]
  },
  {
   "cell_type": "code",
   "execution_count": 81,
   "id": "d6754670",
   "metadata": {},
   "outputs": [
    {
     "name": "stdout",
     "output_type": "stream",
     "text": [
      "Feature importances: [143, 11, 3, 84, 63, 35, 48, 69, 0, 0, 0, 0, 0, 0, 0, 0, 0, 0, 0, 0, 0, 17, 0, 0, 0, 4, 0, 0, 4, 0, 0, 0, 1, 0, 11, 5, 0, 1, 0, 0, 0, 0, 0, 0, 0, 0, 0, 0, 0, 10, 0, 0, 0, 0, 0, 0, 0, 0, 3, 9, 0, 0, 0, 1, 0, 8, 0, 0, 0, 0, 0, 0, 0, 0, 0, 0, 0, 0, 0, 0, 0, 0, 0, 0, 0, 0, 0, 0, 0, 0, 0, 0, 0, 0, 3, 0, 0, 0, 0, 0, 0, 0, 0, 0, 0, 0, 0, 0, 1, 0, 0, 0, 0, 0, 0, 0, 0, 0, 0, 0, 0, 0, 0, 0, 0, 0, 0, 0, 0, 0, 0, 0, 0, 0, 0, 0, 0, 0, 0, 0, 0, 0, 0, 0, 0, 0, 0, 0, 0, 0, 4, 0, 0, 0, 0, 0, 0, 0, 0, 0, 0, 0, 0, 0, 0, 0, 0, 0, 0, 0, 0, 0, 0, 0, 0, 0, 0, 0, 0, 0, 0, 0, 0, 0, 0, 0, 0, 0, 0, 0, 0, 0, 0, 0, 0, 0, 0, 0, 0, 0, 0, 0, 0, 0, 0, 0, 0, 0, 0, 0, 0, 0, 0, 0, 0, 0, 0, 0, 0, 0, 0, 0, 0, 0, 0, 0, 0, 0, 0, 0, 0, 0, 0, 0, 0, 0, 0, 0, 0, 0, 0, 0, 0, 0, 0, 0, 0, 0, 0, 0, 0, 0, 0, 0, 0, 0, 0, 0, 0, 0, 0, 0, 0, 0, 0, 0, 0, 0, 0, 0, 0, 0, 0, 0, 0, 0, 0, 0, 0, 0, 0, 0, 0, 0, 0, 0, 0, 0, 0, 0, 0, 0, 0, 0, 0, 0, 0, 0, 0, 0, 0, 0, 0, 0, 0, 0, 0, 0, 0, 0, 0, 0, 0, 0, 0, 0, 0, 0, 0, 0, 0, 0, 0, 0, 0, 0, 0, 0, 0, 0, 0, 0, 0, 0, 0, 0, 0, 0, 0, 0, 0, 0, 0, 0, 0, 0, 0, 0, 0, 0, 0, 0, 0, 0, 0, 0, 0, 0, 0, 0, 0, 0, 0, 0, 0, 0, 0, 0, 0, 0, 0, 0, 0, 0, 0, 0, 0, 0, 82, 0, 0, 0, 0, 0, 0, 0, 0, 0, 0, 0, 0, 0, 0, 0, 0, 0, 0, 0, 0, 0, 0, 0, 0, 0, 0, 0, 0, 0, 2, 0, 0, 0, 0, 0, 0, 0, 0, 3, 0, 0, 0, 0, 0, 0, 0, 0, 0, 0, 0, 0, 0, 0, 0, 0, 0, 0, 0, 0, 0, 0, 0, 0, 0, 0, 0, 0, 0, 0, 0, 0, 0, 0, 0, 0, 0, 0, 0, 0, 0, 0, 0, 0, 0, 0, 0, 0, 0, 0, 3, 0, 0, 0, 0, 0, 0, 0, 0, 0, 0, 0, 0, 0, 19, 0, 0, 0, 0, 0, 0, 0, 0, 0, 0, 0, 0, 0, 0, 0, 0, 0, 0, 0, 0, 0, 0, 0, 0, 0, 0, 0, 0, 0, 0, 0, 0, 0, 0, 0, 0, 0, 0, 0, 0, 0, 0, 0, 0, 0, 0, 0, 0, 0, 0, 0, 0, 0, 0, 0, 0, 0, 0, 0, 0, 0, 0, 0, 0, 0, 0, 0, 0, 0, 0, 0, 0, 0, 0, 0, 0, 0, 0, 0, 0, 0, 0, 0, 0, 0, 0, 0, 0, 0, 0, 0, 0, 0, 0, 0, 0, 4, 0, 0, 0, 0, 0, 0, 40, 0, 13, 0, 0, 3, 58, 0, 0, 0, 0, 20, 0, 0, 0, 0, 0, 0, 0, 0, 0, 0, 55, 0, 0, 0, 0, 0, 0, 0, 0, 0, 0, 0, 0, 0, 0, 0, 0, 0, 0, 0, 0, 0, 0, 0, 0, 0, 5, 0, 0, 0, 0, 0, 0, 0, 0, 0, 0, 0, 0, 0, 0, 0, 0, 0, 0, 0, 0, 0, 0, 0, 0, 0, 0, 0, 0, 0, 0, 0, 0, 0, 0, 0, 0, 0, 0, 0, 0, 0, 0, 0, 0, 0, 0, 0, 0, 0, 0, 0, 0, 0, 0, 0, 0, 0, 0, 0, 0, 0, 8, 0, 0, 0, 0, 0, 0, 0, 0, 0, 0, 0, 0, 0, 0, 0, 0, 0, 0, 0, 0, 0, 0, 0, 0, 0, 0, 0, 0, 0, 0, 0, 0, 0, 0, 0, 0, 0, 0, 0, 0, 0, 0, 0, 0, 0, 0, 0, 0, 0, 0, 0, 0, 0, 0, 0, 0, 0, 0, 0, 0, 0, 0, 0, 0, 0, 0, 0, 0, 0, 0, 0, 0, 0, 0, 0, 0, 0, 1, 0, 0, 0, 0, 0, 0, 0, 0, 0, 0, 85, 0, 0, 0, 1, 3, 0, 0, 0, 0, 0, 0, 0, 0, 0, 0, 15, 0, 0, 0, 0, 0, 0, 0, 0, 1, 3, 0, 1, 1, 9, 2, 0, 0, 0, 0, 0, 0, 0, 0, 0, 0, 0, 0, 0, 12, 1, 0, 0, 0, 0, 0, 2, 1, 0, 0, 0, 0, 0, 0, 0, 0, 0, 0, 0, 0, 0, 0, 0, 0, 0, 0, 0, 0, 0, 0, 0, 0, 7, 0, 0, 3, 0, 0, 0, 0, 0, 0, 0, 0, 0, 0, 0, 0, 0, 0, 4, 0, 0, 0, 0, 0, 0, 0, 0, 0, 0, 0, 0, 0, 0, 0, 0, 0, 0, 0, 0, 0, 0, 0, 0, 0, 0, 0, 0, 0, 0, 0, 0, 0, 0, 0, 0, 0, 0, 0, 0, 4, 0, 0, 0, 0, 0, 0, 0, 0, 0, 0, 0, 0, 0, 0, 0, 0, 0, 0, 0, 0, 0, 0, 0, 0, 0, 0, 0, 0, 0, 0, 0, 0, 0, 0, 11, 0, 0, 0, 0, 0, 0, 0, 0, 0, 0, 0, 0, 0, 0, 0, 0, 0, 0, 0, 0, 0, 0, 0, 0, 0, 0, 0, 0, 0, 0, 0, 0, 0, 0, 0, 9, 0, 0, 0, 0, 0, 0, 0, 0, 0, 0, 0, 0, 0, 0, 0, 0, 0, 0, 0, 0, 0, 0, 0, 0, 0, 0, 0, 0, 0, 0, 0, 0, 0, 0, 0, 0, 0, 0, 0, 0, 0, 0, 0, 0, 0, 0, 0, 0, 0, 0, 0, 0, 0, 0, 0, 0, 0, 0, 0, 0, 0, 0, 0, 0, 0, 0, 0, 0, 0, 0, 0, 0, 0, 0, 0, 0, 0, 0, 0, 0, 0, 0, 0, 0, 0, 0, 4, 0, 0, 0, 0, 0, 0, 0, 0, 0, 0, 0, 0, 0, 0, 0, 0, 0, 0, 0, 0, 0, 0, 0, 0, 0, 0, 0, 0, 0, 0, 0, 0, 0, 0, 0, 0, 0, 0, 0, 0, 0, 0, 0, 0, 0, 0, 0, 0, 0, 0, 0, 0, 0, 0, 0, 0, 0, 0, 0, 0, 0, 11, 0, 0, 0, 0, 0, 0, 12, 0, 1, 0, 0, 0, 0, 0, 0, 0, 0, 0, 1, 0, 0, 0, 0, 0, 0, 0, 0, 0, 0, 15, 0, 0, 0, 0, 18, 0, 0, 0, 0, 0, 0, 0, 0, 1, 0, 0, 0, 0, 0, 0, 0, 0, 0, 0, 0, 0, 0, 0, 0, 0, 0, 0, 0, 0, 0, 0, 0, 0, 0, 0, 0, 0, 0, 0, 0, 0, 0, 0, 0, 0, 0, 0, 0, 0, 0, 0, 0, 0, 0, 2, 0, 0, 0, 0, 0, 0, 0, 0, 0, 0, 0, 0, 0, 5, 0, 0, 0, 0, 0, 0, 0, 0, 0, 0, 0, 0, 0, 0, 0, 0, 0, 0, 0, 0, 0, 0, 0, 0, 0, 9, 0, 0, 0, 0, 0, 0, 0, 0, 0, 0, 0, 0, 0, 0, 0, 0, 0, 0, 0, 0, 0, 0, 0, 0, 0, 0, 0, 0, 0, 0, 0, 0, 0, 0, 0, 0, 0, 0, 0, 0, 0, 0, 0, 0, 0, 0, 0, 0, 0, 0, 0, 0, 0, 0, 0, 0, 0, 0, 0, 0, 1, 0, 0, 0, 0, 0, 0, 0, 0, 4, 7, 0, 0, 0, 0, 21, 0, 3, 0, 32, 0, 1, 1, 0, 4, 0, 0, 0, 0, 0, 0, 0, 0, 0, 0, 0, 0, 0, 0, 0, 0, 0, 0, 0, 0, 0, 0, 0, 0, 0, 0, 0, 0, 0, 0, 0, 0, 0, 0, 0, 0, 0, 0, 0, 0, 5, 0, 0, 0, 0, 0, 0, 0, 0, 0, 0, 0, 0, 0, 0, 0, 0, 0, 0, 0, 0, 0, 0, 0, 0, 0, 0, 0, 0, 0, 0, 0, 0, 0, 0, 0, 0, 0, 0, 0, 0, 0, 0, 0, 0, 0, 0, 0, 0, 0, 0, 0, 0, 0, 0, 0, 0, 0, 0, 0, 0, 0, 6, 0, 7, 0, 0, 0, 0, 0, 0, 0, 0, 0, 0, 0, 0, 0, 0, 0, 0, 0, 0, 0, 0, 0, 0, 0, 0, 0, 0, 0, 0, 0, 0, 0, 0, 0, 0, 0, 0, 0, 0, 0, 0, 0, 0, 0, 0, 0, 0, 0, 0, 0, 0, 0, 0, 0, 0, 0, 0, 0, 0, 0, 0, 0, 0, 0, 0, 0, 0, 0, 0, 0, 0, 0, 0, 0]\n"
     ]
    }
   ],
   "source": [
    "# Feature importances\n",
    "print('Feature importances:', list(gbm4.feature_importances_))"
   ]
  },
  {
   "cell_type": "code",
   "execution_count": 82,
   "id": "b03135d5",
   "metadata": {},
   "outputs": [
    {
     "name": "stdout",
     "output_type": "stream",
     "text": [
      "Best parameters found by grid search are: {'learning_rate': 0.05, 'n_estimators': 40}\n"
     ]
    }
   ],
   "source": [
    "# search for better parameter\n",
    "from sklearn.model_selection import GridSearchCV\n",
    "\n",
    "estimator = LGBMClassifier(num_leaves=31)\n",
    "param_grid = {\n",
    "    'learning_rate': [0.01, 0.05, 0.1, 1],\n",
    "    'n_estimators': [20, 40]\n",
    "}\n",
    "gbm_ = GridSearchCV(estimator, param_grid)\n",
    "gbm_.fit(X_train, y_train)\n",
    "print('Best parameters found by grid search are:', gbm_.best_params_)"
   ]
  },
  {
   "cell_type": "markdown",
   "id": "7f5ff0f9",
   "metadata": {},
   "source": [
    "---\n",
    "# Final Report"
   ]
  },
  {
   "cell_type": "code",
   "execution_count": 83,
   "id": "98bb1960",
   "metadata": {},
   "outputs": [
    {
     "name": "stdout",
     "output_type": "stream",
     "text": [
      "only similarity feature without sample weight\n",
      "               precision    recall  f1-score   support\n",
      "\n",
      "         0.0     0.9985    0.9990    0.9988     62097\n",
      "         1.0     0.7568    0.6806    0.7166       288\n",
      "\n",
      "    accuracy                         0.9975     62385\n",
      "   macro avg     0.8776    0.8398    0.8577     62385\n",
      "weighted avg     0.9974    0.9975    0.9974     62385\n",
      "\n",
      "\n",
      "\n",
      "only similarity feature with sample weight\n",
      "               precision    recall  f1-score   support\n",
      "\n",
      "         0.0     0.9998    0.9859    0.9928     62097\n",
      "         1.0     0.2393    0.9549    0.3827       288\n",
      "\n",
      "    accuracy                         0.9858     62385\n",
      "   macro avg     0.6196    0.9704    0.6878     62385\n",
      "weighted avg     0.9963    0.9858    0.9900     62385\n",
      "\n",
      "\n",
      "\n",
      "all feature without sample weight\n",
      "               precision    recall  f1-score   support\n",
      "\n",
      "         0.0     0.9991    0.9995    0.9993     62097\n",
      "         1.0     0.8755    0.8056    0.8391       288\n",
      "\n",
      "    accuracy                         0.9986     62385\n",
      "   macro avg     0.9373    0.9025    0.9192     62385\n",
      "weighted avg     0.9985    0.9986    0.9985     62385\n",
      "\n",
      "\n",
      "\n",
      "all feature with sample weight\n",
      "               precision    recall  f1-score   support\n",
      "\n",
      "         0.0     0.9999    0.9915    0.9957     62097\n",
      "         1.0     0.3457    0.9688    0.5096       288\n",
      "\n",
      "    accuracy                         0.9914     62385\n",
      "   macro avg     0.6728    0.9801    0.7526     62385\n",
      "weighted avg     0.9968    0.9914    0.9934     62385\n",
      "\n"
     ]
    }
   ],
   "source": [
    "print('only similarity feature without sample weight\\n', report_simi_no_sample)\n",
    "print('\\n\\nonly similarity feature with sample weight\\n', report_simi_sample)\n",
    "print('\\n\\nall feature without sample weight\\n', report_all_no_sample)\n",
    "print('\\n\\nall feature with sample weight\\n', report_all_sample)"
   ]
  },
  {
   "cell_type": "markdown",
   "id": "ff6aed73",
   "metadata": {},
   "source": [
    "---\n",
    "# Predict stage 2"
   ]
  },
  {
   "cell_type": "code",
   "execution_count": 12,
   "id": "514e811a",
   "metadata": {},
   "outputs": [],
   "source": [
    "# predict stage 2\n",
    "# NOTICE X2 in different feature data are different\n",
    "# gbm3 = joblib.load('../../model/lightGBM_all_no_sample_model.sav')\n",
    "Y2 = gbm3.predict(X2)"
   ]
  },
  {
   "cell_type": "code",
   "execution_count": 13,
   "id": "b48e2cc4",
   "metadata": {},
   "outputs": [
    {
     "data": {
      "text/html": [
       "<div>\n",
       "<style scoped>\n",
       "    .dataframe tbody tr th:only-of-type {\n",
       "        vertical-align: middle;\n",
       "    }\n",
       "\n",
       "    .dataframe tbody tr th {\n",
       "        vertical-align: top;\n",
       "    }\n",
       "\n",
       "    .dataframe thead th {\n",
       "        text-align: right;\n",
       "    }\n",
       "</style>\n",
       "<table border=\"1\" class=\"dataframe\">\n",
       "  <thead>\n",
       "    <tr style=\"text-align: right;\">\n",
       "      <th></th>\n",
       "      <th>Test</th>\n",
       "      <th>Reference</th>\n",
       "      <th>Similarity</th>\n",
       "      <th>Result</th>\n",
       "    </tr>\n",
       "  </thead>\n",
       "  <tbody>\n",
       "    <tr>\n",
       "      <th>155</th>\n",
       "      <td>1001</td>\n",
       "      <td>19</td>\n",
       "      <td>1.000000</td>\n",
       "      <td>1.0</td>\n",
       "    </tr>\n",
       "    <tr>\n",
       "      <th>382</th>\n",
       "      <td>1001</td>\n",
       "      <td>889</td>\n",
       "      <td>1.000000</td>\n",
       "      <td>1.0</td>\n",
       "    </tr>\n",
       "    <tr>\n",
       "      <th>1545</th>\n",
       "      <td>1008</td>\n",
       "      <td>573</td>\n",
       "      <td>1.000000</td>\n",
       "      <td>1.0</td>\n",
       "    </tr>\n",
       "    <tr>\n",
       "      <th>1703</th>\n",
       "      <td>1009</td>\n",
       "      <td>1061</td>\n",
       "      <td>1.000000</td>\n",
       "      <td>1.0</td>\n",
       "    </tr>\n",
       "    <tr>\n",
       "      <th>2007</th>\n",
       "      <td>1009</td>\n",
       "      <td>714</td>\n",
       "      <td>1.000000</td>\n",
       "      <td>1.0</td>\n",
       "    </tr>\n",
       "    <tr>\n",
       "      <th>...</th>\n",
       "      <td>...</td>\n",
       "      <td>...</td>\n",
       "      <td>...</td>\n",
       "      <td>...</td>\n",
       "    </tr>\n",
       "    <tr>\n",
       "      <th>169648</th>\n",
       "      <td>939</td>\n",
       "      <td>903</td>\n",
       "      <td>1.000000</td>\n",
       "      <td>1.0</td>\n",
       "    </tr>\n",
       "    <tr>\n",
       "      <th>169659</th>\n",
       "      <td>939</td>\n",
       "      <td>930</td>\n",
       "      <td>1.000000</td>\n",
       "      <td>1.0</td>\n",
       "    </tr>\n",
       "    <tr>\n",
       "      <th>169983</th>\n",
       "      <td>941</td>\n",
       "      <td>640</td>\n",
       "      <td>0.909091</td>\n",
       "      <td>1.0</td>\n",
       "    </tr>\n",
       "    <tr>\n",
       "      <th>170898</th>\n",
       "      <td>96</td>\n",
       "      <td>87</td>\n",
       "      <td>1.000000</td>\n",
       "      <td>1.0</td>\n",
       "    </tr>\n",
       "    <tr>\n",
       "      <th>171323</th>\n",
       "      <td>960</td>\n",
       "      <td>889</td>\n",
       "      <td>1.000000</td>\n",
       "      <td>1.0</td>\n",
       "    </tr>\n",
       "  </tbody>\n",
       "</table>\n",
       "<p>585 rows × 4 columns</p>\n",
       "</div>"
      ],
      "text/plain": [
       "        Test  Reference  Similarity  Result\n",
       "155     1001         19    1.000000     1.0\n",
       "382     1001        889    1.000000     1.0\n",
       "1545    1008        573    1.000000     1.0\n",
       "1703    1009       1061    1.000000     1.0\n",
       "2007    1009        714    1.000000     1.0\n",
       "...      ...        ...         ...     ...\n",
       "169648   939        903    1.000000     1.0\n",
       "169659   939        930    1.000000     1.0\n",
       "169983   941        640    0.909091     1.0\n",
       "170898    96         87    1.000000     1.0\n",
       "171323   960        889    1.000000     1.0\n",
       "\n",
       "[585 rows x 4 columns]"
      ]
     },
     "execution_count": 13,
     "metadata": {},
     "output_type": "execute_result"
    }
   ],
   "source": [
    "# read in stage 2 labels for final double check\n",
    "\n",
    "stage2_res_df =  pd.read_csv(\"../../output/results_simi_stage2.csv\")\n",
    "stage2_results = pd.Series(Y2)\n",
    "stage2_res_df['Result'] = stage2_results\n",
    "stage2_res_df = stage2_res_df.loc[stage2_res_df['Result'] == 1]\n",
    "stage2_res_df"
   ]
  },
  {
   "cell_type": "code",
   "execution_count": 14,
   "id": "7b32833e",
   "metadata": {},
   "outputs": [
    {
     "data": {
      "text/html": [
       "<div>\n",
       "<style scoped>\n",
       "    .dataframe tbody tr th:only-of-type {\n",
       "        vertical-align: middle;\n",
       "    }\n",
       "\n",
       "    .dataframe tbody tr th {\n",
       "        vertical-align: top;\n",
       "    }\n",
       "\n",
       "    .dataframe thead th {\n",
       "        text-align: right;\n",
       "    }\n",
       "</style>\n",
       "<table border=\"1\" class=\"dataframe\">\n",
       "  <thead>\n",
       "    <tr style=\"text-align: right;\">\n",
       "      <th></th>\n",
       "      <th>Test</th>\n",
       "      <th>Reference</th>\n",
       "      <th>Similarity</th>\n",
       "      <th>Result</th>\n",
       "    </tr>\n",
       "  </thead>\n",
       "  <tbody>\n",
       "    <tr>\n",
       "      <th>130644</th>\n",
       "      <td>666</td>\n",
       "      <td>1061</td>\n",
       "      <td>0.666667</td>\n",
       "      <td>1.0</td>\n",
       "    </tr>\n",
       "  </tbody>\n",
       "</table>\n",
       "</div>"
      ],
      "text/plain": [
       "        Test  Reference  Similarity  Result\n",
       "130644   666       1061    0.666667     1.0"
      ]
     },
     "execution_count": 14,
     "metadata": {},
     "output_type": "execute_result"
    }
   ],
   "source": [
    "# filter some ugly answers out\n",
    "# stage2_res_df = stage2_res_df.loc[stage2_df.Similarity >= 0.78]\n",
    "# stage2_res_df\n",
    "stage2_res_df.loc[stage2_res_df.Similarity <= 0.78]"
   ]
  },
  {
   "cell_type": "code",
   "execution_count": 15,
   "id": "6ff4bf94",
   "metadata": {},
   "outputs": [],
   "source": [
    "# output results\n",
    "stage2_res_df[[\"Test\", \"Reference\"]].to_csv(\"../../output/lightGBM_all_no_sample.csv\", index=False)"
   ]
  },
  {
   "cell_type": "markdown",
   "id": "68ed2711",
   "metadata": {},
   "source": [
    "---\n",
    "# Save Better Model"
   ]
  },
  {
   "cell_type": "code",
   "execution_count": 99,
   "id": "43e2fe8f",
   "metadata": {},
   "outputs": [
    {
     "data": {
      "text/plain": [
       "['../../model/lightGBM_all_no_sample_model.sav']"
      ]
     },
     "execution_count": 99,
     "metadata": {},
     "output_type": "execute_result"
    }
   ],
   "source": [
    "# save the model\n",
    "filename = '../../model/lightGBM_all_no_sample_model.sav'\n",
    "joblib.dump(gbm3, filename)"
   ]
  },
  {
   "cell_type": "code",
   "execution_count": 100,
   "id": "0e0a4261",
   "metadata": {},
   "outputs": [
    {
     "data": {
      "text/plain": [
       "LGBMClassifier(learning_rate=0.05, n_estimators=40)"
      ]
     },
     "execution_count": 100,
     "metadata": {},
     "output_type": "execute_result"
    }
   ],
   "source": [
    "loaded_model = joblib.load(filename)\n",
    "loaded_model"
   ]
  },
  {
   "cell_type": "code",
   "execution_count": 96,
   "id": "c589a525",
   "metadata": {},
   "outputs": [],
   "source": [
    "# End of file"
   ]
  }
 ],
 "metadata": {
  "kernelspec": {
   "display_name": "Python 3",
   "language": "python",
   "name": "python3"
  },
  "language_info": {
   "codemirror_mode": {
    "name": "ipython",
    "version": 3
   },
   "file_extension": ".py",
   "mimetype": "text/x-python",
   "name": "python",
   "nbconvert_exporter": "python",
   "pygments_lexer": "ipython3",
   "version": "3.8.8"
  }
 },
 "nbformat": 4,
 "nbformat_minor": 5
}
