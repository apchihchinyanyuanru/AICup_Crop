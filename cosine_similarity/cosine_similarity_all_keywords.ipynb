{
 "cells": [
  {
   "cell_type": "code",
   "execution_count": 2,
   "id": "d5e9a52f",
   "metadata": {},
   "outputs": [],
   "source": [
    "# load package\n",
    "import pandas as pd\n",
    "import numpy as np\n",
    "from sklearn.feature_extraction.text import TfidfVectorizer\n",
    "from sklearn.feature_extraction.text import CountVectorizer\n",
    "from sklearn.feature_extraction.text import TfidfTransformer\n",
    "from sklearn.metrics.pairwise import cosine_similarity"
   ]
  },
  {
   "cell_type": "markdown",
   "id": "367fc166",
   "metadata": {},
   "source": [
    "### 用切有次數的 keywords 來做 (會重複keywords)"
   ]
  },
  {
   "cell_type": "code",
   "execution_count": 3,
   "id": "3eba75c4",
   "metadata": {
    "scrolled": false
   },
   "outputs": [
    {
     "data": {
      "text/html": [
       "<div>\n",
       "<style scoped>\n",
       "    .dataframe tbody tr th:only-of-type {\n",
       "        vertical-align: middle;\n",
       "    }\n",
       "\n",
       "    .dataframe tbody tr th {\n",
       "        vertical-align: top;\n",
       "    }\n",
       "\n",
       "    .dataframe thead th {\n",
       "        text-align: right;\n",
       "    }\n",
       "</style>\n",
       "<table border=\"1\" class=\"dataframe\">\n",
       "  <thead>\n",
       "    <tr style=\"text-align: right;\">\n",
       "      <th></th>\n",
       "      <th>id</th>\n",
       "      <th>article</th>\n",
       "      <th>words</th>\n",
       "    </tr>\n",
       "  </thead>\n",
       "  <tbody>\n",
       "    <tr>\n",
       "      <th>1001</th>\n",
       "      <td>稻熱病進入好發季節，防檢局籲請農友加強防範 九十三年四月二十一日動植物防疫檢疫局發布之新聞稿...</td>\n",
       "      <td>['crop', 'pest']</td>\n",
       "      <td>['水稻', '水稻', '水稻', '水稻', '水稻', '水稻', '稻熱病', '稻...</td>\n",
       "    </tr>\n",
       "    <tr>\n",
       "      <th>1004</th>\n",
       "      <td>全民一起來監測紅火蟻 農委會防檢局表示，自3月份起氣溫逐漸回暖，正是紅火蟻開始活躍的季節，也...</td>\n",
       "      <td>['crop', 'pest']</td>\n",
       "      <td>['桃', '紅火蟻', '紅火蟻', '紅火蟻', '紅火蟻', '紅火蟻', '紅火蟻'...</td>\n",
       "    </tr>\n",
       "    <tr>\n",
       "      <th>1006</th>\n",
       "      <td>系統測試公告 有關96年1月29日發布之\"蔥、蒜紫斑病及薊馬危害日益嚴重，台南農改場籲請農民...</td>\n",
       "      <td>['crop', 'pest']</td>\n",
       "      <td>['蔥', '紫斑病', '薊馬']</td>\n",
       "    </tr>\n",
       "    <tr>\n",
       "      <th>1008</th>\n",
       "      <td>二期作水稻生育初期，請注意縱捲葉蟲之防治 縱捲葉蟲原本在水稻第一、二期作之孕穗期至齊穗期為害...</td>\n",
       "      <td>['chem', 'crop', 'pest']</td>\n",
       "      <td>['陶斯松', '陶斯松乳劑', '歐殺松', '歐殺松可溶性粉劑', '水稻', '水稻'...</td>\n",
       "    </tr>\n",
       "    <tr>\n",
       "      <th>1009</th>\n",
       "      <td>請農友加強水稻瘤野螟及白葉枯病防治 農委會防檢局表示，全國各地二期水稻生長陸續進入孕穗期，依...</td>\n",
       "      <td>['crop', 'pest']</td>\n",
       "      <td>['水稻', '水稻', '水稻', '水稻', '水稻', '水稻', '水稻', '瘤野...</td>\n",
       "    </tr>\n",
       "    <tr>\n",
       "      <th>...</th>\n",
       "      <td>...</td>\n",
       "      <td>...</td>\n",
       "      <td>...</td>\n",
       "    </tr>\n",
       "    <tr>\n",
       "      <th>991</th>\n",
       "      <td>儘速耕除綠肥作物，慎防斜紋夜蛾密度上升 一、依據新聞報導，在新竹、雲林及嘉義等地區因休耕農田...</td>\n",
       "      <td>['crop', 'pest']</td>\n",
       "      <td>['田菁', '綠肥作物', '綠肥作物', '綠肥作物', '斜紋夜蛾', '斜紋夜蛾',...</td>\n",
       "    </tr>\n",
       "    <tr>\n",
       "      <th>993</th>\n",
       "      <td>請農民在「全國滅鼠週」全力配合田間滅鼠工作 請農民在「全國滅鼠週」全力配合田間滅鼠工作行政院...</td>\n",
       "      <td>[]</td>\n",
       "      <td>[]</td>\n",
       "    </tr>\n",
       "    <tr>\n",
       "      <th>994</th>\n",
       "      <td>培育健康秧苗，預防水稻徒長病及立枯病發生 培育健康秧苗，預防水稻徒長病及立枯病發生行政院農業...</td>\n",
       "      <td>['chem', 'crop', 'pest']</td>\n",
       "      <td>['三賽唑', '撲殺熱', '芬普尼', '撲克拉', '披扶座', '依得利', '免賴...</td>\n",
       "    </tr>\n",
       "    <tr>\n",
       "      <th>996</th>\n",
       "      <td>水稻進入分蘗盛期請農友加強防範水稻稻熱病 行政院農業委員會動植物防疫檢疫局表示，自本（九十二...</td>\n",
       "      <td>['chem', 'crop', 'pest']</td>\n",
       "      <td>['三賽唑', '三賽唑', '亞賜圃', '嘉賜三賽唑', '撲殺熱', '富米熱斯', ...</td>\n",
       "    </tr>\n",
       "    <tr>\n",
       "      <th>999</th>\n",
       "      <td>預防梨木蝨危害，請農友及早實施共同防治 九十三年一月二十八日預防梨木蝨危害，請農友及早實施共...</td>\n",
       "      <td>['chem', 'crop', 'pest']</td>\n",
       "      <td>['益達胺', '益達胺溶液', '亞滅培', '亞滅培可溶性粉劑', '梨', '梨', ...</td>\n",
       "    </tr>\n",
       "  </tbody>\n",
       "</table>\n",
       "<p>421 rows × 3 columns</p>\n",
       "</div>"
      ],
      "text/plain": [
       "                                                     id  \\\n",
       "1001  稻熱病進入好發季節，防檢局籲請農友加強防範 九十三年四月二十一日動植物防疫檢疫局發布之新聞稿...   \n",
       "1004  全民一起來監測紅火蟻 農委會防檢局表示，自3月份起氣溫逐漸回暖，正是紅火蟻開始活躍的季節，也...   \n",
       "1006  系統測試公告 有關96年1月29日發布之\"蔥、蒜紫斑病及薊馬危害日益嚴重，台南農改場籲請農民...   \n",
       "1008  二期作水稻生育初期，請注意縱捲葉蟲之防治 縱捲葉蟲原本在水稻第一、二期作之孕穗期至齊穗期為害...   \n",
       "1009  請農友加強水稻瘤野螟及白葉枯病防治 農委會防檢局表示，全國各地二期水稻生長陸續進入孕穗期，依...   \n",
       "...                                                 ...   \n",
       "991   儘速耕除綠肥作物，慎防斜紋夜蛾密度上升 一、依據新聞報導，在新竹、雲林及嘉義等地區因休耕農田...   \n",
       "993   請農民在「全國滅鼠週」全力配合田間滅鼠工作 請農民在「全國滅鼠週」全力配合田間滅鼠工作行政院...   \n",
       "994   培育健康秧苗，預防水稻徒長病及立枯病發生 培育健康秧苗，預防水稻徒長病及立枯病發生行政院農業...   \n",
       "996   水稻進入分蘗盛期請農友加強防範水稻稻熱病 行政院農業委員會動植物防疫檢疫局表示，自本（九十二...   \n",
       "999   預防梨木蝨危害，請農友及早實施共同防治 九十三年一月二十八日預防梨木蝨危害，請農友及早實施共...   \n",
       "\n",
       "                       article  \\\n",
       "1001          ['crop', 'pest']   \n",
       "1004          ['crop', 'pest']   \n",
       "1006          ['crop', 'pest']   \n",
       "1008  ['chem', 'crop', 'pest']   \n",
       "1009          ['crop', 'pest']   \n",
       "...                        ...   \n",
       "991           ['crop', 'pest']   \n",
       "993                         []   \n",
       "994   ['chem', 'crop', 'pest']   \n",
       "996   ['chem', 'crop', 'pest']   \n",
       "999   ['chem', 'crop', 'pest']   \n",
       "\n",
       "                                                  words  \n",
       "1001  ['水稻', '水稻', '水稻', '水稻', '水稻', '水稻', '稻熱病', '稻...  \n",
       "1004  ['桃', '紅火蟻', '紅火蟻', '紅火蟻', '紅火蟻', '紅火蟻', '紅火蟻'...  \n",
       "1006                                 ['蔥', '紫斑病', '薊馬']  \n",
       "1008  ['陶斯松', '陶斯松乳劑', '歐殺松', '歐殺松可溶性粉劑', '水稻', '水稻'...  \n",
       "1009  ['水稻', '水稻', '水稻', '水稻', '水稻', '水稻', '水稻', '瘤野...  \n",
       "...                                                 ...  \n",
       "991   ['田菁', '綠肥作物', '綠肥作物', '綠肥作物', '斜紋夜蛾', '斜紋夜蛾',...  \n",
       "993                                                  []  \n",
       "994   ['三賽唑', '撲殺熱', '芬普尼', '撲克拉', '披扶座', '依得利', '免賴...  \n",
       "996   ['三賽唑', '三賽唑', '亞賜圃', '嘉賜三賽唑', '撲殺熱', '富米熱斯', ...  \n",
       "999   ['益達胺', '益達胺溶液', '亞滅培', '亞滅培可溶性粉劑', '梨', '梨', ...  \n",
       "\n",
       "[421 rows x 3 columns]"
      ]
     },
     "execution_count": 3,
     "metadata": {},
     "output_type": "execute_result"
    }
   ],
   "source": [
    "# read article \n",
    "# df_all = pd.read_csv('../../input/stage1.csv', header = 0, names=[\"id\", \"article\", \"words\"])\n",
    "df_all = pd.read_csv('../../input/stage2_keyword.csv', header = 0, names=[\"id\", \"article\", \"words\"])\n",
    "# df_all = df_all[0:5]\n",
    "df_all"
   ]
  },
  {
   "cell_type": "code",
   "execution_count": 4,
   "id": "79532963",
   "metadata": {},
   "outputs": [],
   "source": [
    "# # read result file\n",
    "# result_all_df = pd.read_csv('../../output/results_similarity_jac_stage1.csv', header = 0)\n",
    "# result_all_df"
   ]
  },
  {
   "cell_type": "code",
   "execution_count": 5,
   "id": "199d8dca",
   "metadata": {},
   "outputs": [
    {
     "data": {
      "text/plain": [
       "array([[0, 0, 0, ..., 0, 0, 0],\n",
       "       [0, 0, 0, ..., 0, 0, 0],\n",
       "       [0, 0, 0, ..., 0, 0, 0],\n",
       "       ...,\n",
       "       [0, 0, 0, ..., 0, 0, 0],\n",
       "       [0, 0, 0, ..., 0, 0, 0],\n",
       "       [0, 0, 0, ..., 0, 0, 0]], dtype=int64)"
      ]
     },
     "execution_count": 5,
     "metadata": {},
     "output_type": "execute_result"
    }
   ],
   "source": [
    "# compute tf\n",
    "vectorizer = CountVectorizer() \n",
    "text_count_vector = vectorizer.fit_transform(df_all.words)\n",
    "tf_vector = text_count_vector.toarray()\n",
    "tf_vector"
   ]
  },
  {
   "cell_type": "code",
   "execution_count": 6,
   "id": "514b81d2",
   "metadata": {},
   "outputs": [
    {
     "data": {
      "text/plain": [
       "array([[0., 0., 0., ..., 0., 0., 0.],\n",
       "       [0., 0., 0., ..., 0., 0., 0.],\n",
       "       [0., 0., 0., ..., 0., 0., 0.],\n",
       "       ...,\n",
       "       [0., 0., 0., ..., 0., 0., 0.],\n",
       "       [0., 0., 0., ..., 0., 0., 0.],\n",
       "       [0., 0., 0., ..., 0., 0., 0.]])"
      ]
     },
     "execution_count": 6,
     "metadata": {},
     "output_type": "execute_result"
    }
   ],
   "source": [
    "# compute tf-idf\n",
    "tfidf_transfomer = TfidfTransformer()\n",
    "docs_tfidf = tfidf_transfomer.fit_transform(text_count_vector)\n",
    "tfidf_vector = docs_tfidf.toarray()\n",
    "tfidf_vector"
   ]
  },
  {
   "cell_type": "code",
   "execution_count": 7,
   "id": "fc130389",
   "metadata": {},
   "outputs": [
    {
     "data": {
      "text/plain": [
       "array([0.        , 0.        , 0.24110086, ..., 0.        , 0.        ,\n",
       "       0.        ])"
      ]
     },
     "execution_count": 7,
     "metadata": {},
     "output_type": "execute_result"
    }
   ],
   "source": [
    "tf_similarity = cosine_similarity(tf_vector, tf_vector)\n",
    "\n",
    "# 删除對角線元素(自己對自己)\n",
    "tf_similarity = tf_similarity[~np.eye(tf_similarity.shape[0],dtype=bool)].reshape(tf_similarity.shape[0],-1)\n",
    "tf_similarity.flatten()"
   ]
  },
  {
   "cell_type": "code",
   "execution_count": 8,
   "id": "cf6a207c",
   "metadata": {},
   "outputs": [
    {
     "data": {
      "text/plain": [
       "array([0.        , 0.        , 0.10848065, ..., 0.        , 0.        ,\n",
       "       0.        ])"
      ]
     },
     "execution_count": 8,
     "metadata": {},
     "output_type": "execute_result"
    }
   ],
   "source": [
    "tfidf_similarity = cosine_similarity(tfidf_vector, tfidf_vector)\n",
    "\n",
    "# 删除對角線元素(自己對自己)\n",
    "tfidf_similarity = tfidf_similarity[~np.eye(tfidf_similarity.shape[0],dtype=bool)].reshape(tfidf_similarity.shape[0],-1)\n",
    "tfidf_similarity.flatten()"
   ]
  },
  {
   "cell_type": "code",
   "execution_count": 9,
   "id": "cbf95d89",
   "metadata": {},
   "outputs": [
    {
     "data": {
      "text/html": [
       "<div>\n",
       "<style scoped>\n",
       "    .dataframe tbody tr th:only-of-type {\n",
       "        vertical-align: middle;\n",
       "    }\n",
       "\n",
       "    .dataframe tbody tr th {\n",
       "        vertical-align: top;\n",
       "    }\n",
       "\n",
       "    .dataframe thead th {\n",
       "        text-align: right;\n",
       "    }\n",
       "</style>\n",
       "<table border=\"1\" class=\"dataframe\">\n",
       "  <thead>\n",
       "    <tr style=\"text-align: right;\">\n",
       "      <th></th>\n",
       "      <th>tf_cosine_multi_keyword</th>\n",
       "      <th>tfidf_cosine_multi_keyword</th>\n",
       "    </tr>\n",
       "  </thead>\n",
       "  <tbody>\n",
       "    <tr>\n",
       "      <th>0</th>\n",
       "      <td>0.000000</td>\n",
       "      <td>0.000000</td>\n",
       "    </tr>\n",
       "    <tr>\n",
       "      <th>1</th>\n",
       "      <td>0.000000</td>\n",
       "      <td>0.000000</td>\n",
       "    </tr>\n",
       "    <tr>\n",
       "      <th>2</th>\n",
       "      <td>0.241101</td>\n",
       "      <td>0.108481</td>\n",
       "    </tr>\n",
       "    <tr>\n",
       "      <th>3</th>\n",
       "      <td>0.231800</td>\n",
       "      <td>0.106533</td>\n",
       "    </tr>\n",
       "    <tr>\n",
       "      <th>4</th>\n",
       "      <td>0.000000</td>\n",
       "      <td>0.000000</td>\n",
       "    </tr>\n",
       "    <tr>\n",
       "      <th>...</th>\n",
       "      <td>...</td>\n",
       "      <td>...</td>\n",
       "    </tr>\n",
       "    <tr>\n",
       "      <th>176815</th>\n",
       "      <td>0.000000</td>\n",
       "      <td>0.000000</td>\n",
       "    </tr>\n",
       "    <tr>\n",
       "      <th>176816</th>\n",
       "      <td>0.000000</td>\n",
       "      <td>0.000000</td>\n",
       "    </tr>\n",
       "    <tr>\n",
       "      <th>176817</th>\n",
       "      <td>0.000000</td>\n",
       "      <td>0.000000</td>\n",
       "    </tr>\n",
       "    <tr>\n",
       "      <th>176818</th>\n",
       "      <td>0.000000</td>\n",
       "      <td>0.000000</td>\n",
       "    </tr>\n",
       "    <tr>\n",
       "      <th>176819</th>\n",
       "      <td>0.000000</td>\n",
       "      <td>0.000000</td>\n",
       "    </tr>\n",
       "  </tbody>\n",
       "</table>\n",
       "<p>176820 rows × 2 columns</p>\n",
       "</div>"
      ],
      "text/plain": [
       "        tf_cosine_multi_keyword  tfidf_cosine_multi_keyword\n",
       "0                      0.000000                    0.000000\n",
       "1                      0.000000                    0.000000\n",
       "2                      0.241101                    0.108481\n",
       "3                      0.231800                    0.106533\n",
       "4                      0.000000                    0.000000\n",
       "...                         ...                         ...\n",
       "176815                 0.000000                    0.000000\n",
       "176816                 0.000000                    0.000000\n",
       "176817                 0.000000                    0.000000\n",
       "176818                 0.000000                    0.000000\n",
       "176819                 0.000000                    0.000000\n",
       "\n",
       "[176820 rows x 2 columns]"
      ]
     },
     "execution_count": 9,
     "metadata": {},
     "output_type": "execute_result"
    }
   ],
   "source": [
    "result_df_multi = pd.DataFrame({\"tf_cosine_multi_keyword\":tf_similarity.flatten(),\n",
    "                                \"tfidf_cosine_multi_keyword\":tfidf_similarity.flatten()})\n",
    "result_df_multi"
   ]
  },
  {
   "cell_type": "markdown",
   "id": "249e08db",
   "metadata": {},
   "source": [
    "### 用切有出現的 keywords 來做 (不重複、無計數)"
   ]
  },
  {
   "cell_type": "code",
   "execution_count": 10,
   "id": "b09b4798",
   "metadata": {},
   "outputs": [
    {
     "data": {
      "text/html": [
       "<div>\n",
       "<style scoped>\n",
       "    .dataframe tbody tr th:only-of-type {\n",
       "        vertical-align: middle;\n",
       "    }\n",
       "\n",
       "    .dataframe tbody tr th {\n",
       "        vertical-align: top;\n",
       "    }\n",
       "\n",
       "    .dataframe thead th {\n",
       "        text-align: right;\n",
       "    }\n",
       "</style>\n",
       "<table border=\"1\" class=\"dataframe\">\n",
       "  <thead>\n",
       "    <tr style=\"text-align: right;\">\n",
       "      <th></th>\n",
       "      <th>id</th>\n",
       "      <th>article</th>\n",
       "      <th>words</th>\n",
       "    </tr>\n",
       "  </thead>\n",
       "  <tbody>\n",
       "    <tr>\n",
       "      <th>0</th>\n",
       "      <td>1001</td>\n",
       "      <td>稻熱病進入好發季節，防檢局籲請農友加強防範 九十三年四月二十一日動植物防疫檢疫局發布之新聞稿...</td>\n",
       "      <td>['水稻', '稻熱病', '穗稻熱病', '葉稻熱病']</td>\n",
       "    </tr>\n",
       "    <tr>\n",
       "      <th>1</th>\n",
       "      <td>1004</td>\n",
       "      <td>全民一起來監測紅火蟻 農委會防檢局表示，自3月份起氣溫逐漸回暖，正是紅火蟻開始活躍的季節，也...</td>\n",
       "      <td>['桃', '紅火蟻']</td>\n",
       "    </tr>\n",
       "    <tr>\n",
       "      <th>2</th>\n",
       "      <td>1006</td>\n",
       "      <td>系統測試公告 有關96年1月29日發布之\"蔥、蒜紫斑病及薊馬危害日益嚴重，台南農改場籲請農民...</td>\n",
       "      <td>['蔥', '紫斑病', '薊馬']</td>\n",
       "    </tr>\n",
       "    <tr>\n",
       "      <th>3</th>\n",
       "      <td>1008</td>\n",
       "      <td>二期作水稻生育初期，請注意縱捲葉蟲之防治 縱捲葉蟲原本在水稻第一、二期作之孕穗期至齊穗期為害...</td>\n",
       "      <td>['陶斯松', '陶斯松乳劑', '歐殺松', '歐殺松可溶性粉劑', '水稻', '瘤野螟...</td>\n",
       "    </tr>\n",
       "    <tr>\n",
       "      <th>4</th>\n",
       "      <td>1009</td>\n",
       "      <td>請農友加強水稻瘤野螟及白葉枯病防治 農委會防檢局表示，全國各地二期水稻生長陸續進入孕穗期，依...</td>\n",
       "      <td>['水稻', '瘤野螟', '白葉枯病']</td>\n",
       "    </tr>\n",
       "    <tr>\n",
       "      <th>...</th>\n",
       "      <td>...</td>\n",
       "      <td>...</td>\n",
       "      <td>...</td>\n",
       "    </tr>\n",
       "    <tr>\n",
       "      <th>416</th>\n",
       "      <td>991</td>\n",
       "      <td>儘速耕除綠肥作物，慎防斜紋夜蛾密度上升 一、依據新聞報導，在新竹、雲林及嘉義等地區因休耕農田...</td>\n",
       "      <td>['田菁', '綠肥作物', '斜紋夜蛾']</td>\n",
       "    </tr>\n",
       "    <tr>\n",
       "      <th>417</th>\n",
       "      <td>993</td>\n",
       "      <td>請農民在「全國滅鼠週」全力配合田間滅鼠工作 請農民在「全國滅鼠週」全力配合田間滅鼠工作行政院...</td>\n",
       "      <td>[]</td>\n",
       "    </tr>\n",
       "    <tr>\n",
       "      <th>418</th>\n",
       "      <td>994</td>\n",
       "      <td>培育健康秧苗，預防水稻徒長病及立枯病發生 培育健康秧苗，預防水稻徒長病及立枯病發生行政院農業...</td>\n",
       "      <td>['三賽唑', '撲殺熱', '芬普尼', '撲克拉', '披扶座', '依得利', '免賴...</td>\n",
       "    </tr>\n",
       "    <tr>\n",
       "      <th>419</th>\n",
       "      <td>996</td>\n",
       "      <td>水稻進入分蘗盛期請農友加強防範水稻稻熱病 行政院農業委員會動植物防疫檢疫局表示，自本（九十二...</td>\n",
       "      <td>['三賽唑', '亞賜圃', '嘉賜三賽唑', '撲殺熱', '富米熱斯', '加普', '...</td>\n",
       "    </tr>\n",
       "    <tr>\n",
       "      <th>420</th>\n",
       "      <td>999</td>\n",
       "      <td>預防梨木蝨危害，請農友及早實施共同防治 九十三年一月二十八日預防梨木蝨危害，請農友及早實施共...</td>\n",
       "      <td>['益達胺', '益達胺溶液', '亞滅培', '亞滅培可溶性粉劑', '梨', '疫病',...</td>\n",
       "    </tr>\n",
       "  </tbody>\n",
       "</table>\n",
       "<p>421 rows × 3 columns</p>\n",
       "</div>"
      ],
      "text/plain": [
       "       id                                            article  \\\n",
       "0    1001  稻熱病進入好發季節，防檢局籲請農友加強防範 九十三年四月二十一日動植物防疫檢疫局發布之新聞稿...   \n",
       "1    1004  全民一起來監測紅火蟻 農委會防檢局表示，自3月份起氣溫逐漸回暖，正是紅火蟻開始活躍的季節，也...   \n",
       "2    1006  系統測試公告 有關96年1月29日發布之\"蔥、蒜紫斑病及薊馬危害日益嚴重，台南農改場籲請農民...   \n",
       "3    1008  二期作水稻生育初期，請注意縱捲葉蟲之防治 縱捲葉蟲原本在水稻第一、二期作之孕穗期至齊穗期為害...   \n",
       "4    1009  請農友加強水稻瘤野螟及白葉枯病防治 農委會防檢局表示，全國各地二期水稻生長陸續進入孕穗期，依...   \n",
       "..    ...                                                ...   \n",
       "416   991  儘速耕除綠肥作物，慎防斜紋夜蛾密度上升 一、依據新聞報導，在新竹、雲林及嘉義等地區因休耕農田...   \n",
       "417   993  請農民在「全國滅鼠週」全力配合田間滅鼠工作 請農民在「全國滅鼠週」全力配合田間滅鼠工作行政院...   \n",
       "418   994  培育健康秧苗，預防水稻徒長病及立枯病發生 培育健康秧苗，預防水稻徒長病及立枯病發生行政院農業...   \n",
       "419   996  水稻進入分蘗盛期請農友加強防範水稻稻熱病 行政院農業委員會動植物防疫檢疫局表示，自本（九十二...   \n",
       "420   999  預防梨木蝨危害，請農友及早實施共同防治 九十三年一月二十八日預防梨木蝨危害，請農友及早實施共...   \n",
       "\n",
       "                                                 words  \n",
       "0                        ['水稻', '稻熱病', '穗稻熱病', '葉稻熱病']  \n",
       "1                                         ['桃', '紅火蟻']  \n",
       "2                                   ['蔥', '紫斑病', '薊馬']  \n",
       "3    ['陶斯松', '陶斯松乳劑', '歐殺松', '歐殺松可溶性粉劑', '水稻', '瘤野螟...  \n",
       "4                                ['水稻', '瘤野螟', '白葉枯病']  \n",
       "..                                                 ...  \n",
       "416                             ['田菁', '綠肥作物', '斜紋夜蛾']  \n",
       "417                                                 []  \n",
       "418  ['三賽唑', '撲殺熱', '芬普尼', '撲克拉', '披扶座', '依得利', '免賴...  \n",
       "419  ['三賽唑', '亞賜圃', '嘉賜三賽唑', '撲殺熱', '富米熱斯', '加普', '...  \n",
       "420  ['益達胺', '益達胺溶液', '亞滅培', '亞滅培可溶性粉劑', '梨', '疫病',...  \n",
       "\n",
       "[421 rows x 3 columns]"
      ]
     },
     "execution_count": 10,
     "metadata": {},
     "output_type": "execute_result"
    }
   ],
   "source": [
    "# read article \n",
    "# df_all = pd.read_csv('../../input/test3.csv', header = 0, names=[\"id\", \"article\", \"words\"])\n",
    "df_all = pd.read_csv('../../input/stage2_only_keyword.csv', header = 0, names=[\"id\", \"article\", \"words\"])\n",
    "# df_all = df_all[0:5]\n",
    "df_all"
   ]
  },
  {
   "cell_type": "code",
   "execution_count": 11,
   "id": "51b77a1b",
   "metadata": {},
   "outputs": [
    {
     "data": {
      "text/plain": [
       "array([[0, 0, 0, ..., 0, 0, 0],\n",
       "       [0, 0, 0, ..., 0, 0, 0],\n",
       "       [0, 0, 0, ..., 0, 0, 0],\n",
       "       ...,\n",
       "       [0, 0, 0, ..., 0, 0, 0],\n",
       "       [0, 0, 0, ..., 0, 0, 0],\n",
       "       [0, 0, 0, ..., 0, 0, 0]], dtype=int64)"
      ]
     },
     "execution_count": 11,
     "metadata": {},
     "output_type": "execute_result"
    }
   ],
   "source": [
    "# compute tf\n",
    "vectorizer = CountVectorizer() \n",
    "text_count_vector = vectorizer.fit_transform(df_all.words)\n",
    "tf_vector = text_count_vector.toarray()\n",
    "tf_vector"
   ]
  },
  {
   "cell_type": "code",
   "execution_count": 12,
   "id": "c885f774",
   "metadata": {},
   "outputs": [
    {
     "data": {
      "text/plain": [
       "array([[0., 0., 0., ..., 0., 0., 0.],\n",
       "       [0., 0., 0., ..., 0., 0., 0.],\n",
       "       [0., 0., 0., ..., 0., 0., 0.],\n",
       "       ...,\n",
       "       [0., 0., 0., ..., 0., 0., 0.],\n",
       "       [0., 0., 0., ..., 0., 0., 0.],\n",
       "       [0., 0., 0., ..., 0., 0., 0.]])"
      ]
     },
     "execution_count": 12,
     "metadata": {},
     "output_type": "execute_result"
    }
   ],
   "source": [
    "# compute tf-idf\n",
    "tfidf_transfomer = TfidfTransformer()\n",
    "docs_tfidf = tfidf_transfomer.fit_transform(text_count_vector)\n",
    "tfidf_vector = docs_tfidf.toarray()\n",
    "tfidf_vector"
   ]
  },
  {
   "cell_type": "code",
   "execution_count": 13,
   "id": "870b1a3e",
   "metadata": {},
   "outputs": [
    {
     "data": {
      "text/plain": [
       "array([0.       , 0.       , 0.1767767, ..., 0.       , 0.       ,\n",
       "       0.       ])"
      ]
     },
     "execution_count": 13,
     "metadata": {},
     "output_type": "execute_result"
    }
   ],
   "source": [
    "tf_similarity = cosine_similarity(tf_vector, tf_vector)\n",
    "\n",
    "# 删除對角線元素(自己對自己)\n",
    "tf_similarity = tf_similarity[~np.eye(tf_similarity.shape[0],dtype=bool)].reshape(tf_similarity.shape[0],-1)\n",
    "tf_similarity.flatten()"
   ]
  },
  {
   "cell_type": "code",
   "execution_count": 14,
   "id": "9eed92f0",
   "metadata": {},
   "outputs": [
    {
     "data": {
      "text/plain": [
       "array([0.        , 0.        , 0.06120031, ..., 0.        , 0.        ,\n",
       "       0.        ])"
      ]
     },
     "execution_count": 14,
     "metadata": {},
     "output_type": "execute_result"
    }
   ],
   "source": [
    "tfidf_similarity = cosine_similarity(tfidf_vector, tfidf_vector)\n",
    "\n",
    "# 删除對角線元素(自己對自己)\n",
    "tfidf_similarity = tfidf_similarity[~np.eye(tfidf_similarity.shape[0],dtype=bool)].reshape(tfidf_similarity.shape[0],-1)\n",
    "tfidf_similarity.flatten()"
   ]
  },
  {
   "cell_type": "code",
   "execution_count": 15,
   "id": "a917e48e",
   "metadata": {},
   "outputs": [
    {
     "data": {
      "text/html": [
       "<div>\n",
       "<style scoped>\n",
       "    .dataframe tbody tr th:only-of-type {\n",
       "        vertical-align: middle;\n",
       "    }\n",
       "\n",
       "    .dataframe tbody tr th {\n",
       "        vertical-align: top;\n",
       "    }\n",
       "\n",
       "    .dataframe thead th {\n",
       "        text-align: right;\n",
       "    }\n",
       "</style>\n",
       "<table border=\"1\" class=\"dataframe\">\n",
       "  <thead>\n",
       "    <tr style=\"text-align: right;\">\n",
       "      <th></th>\n",
       "      <th>tf_cosine_once_keyword</th>\n",
       "      <th>tfidf_cosine_once_keyword</th>\n",
       "    </tr>\n",
       "  </thead>\n",
       "  <tbody>\n",
       "    <tr>\n",
       "      <th>0</th>\n",
       "      <td>0.000000</td>\n",
       "      <td>0.000000</td>\n",
       "    </tr>\n",
       "    <tr>\n",
       "      <th>1</th>\n",
       "      <td>0.000000</td>\n",
       "      <td>0.000000</td>\n",
       "    </tr>\n",
       "    <tr>\n",
       "      <th>2</th>\n",
       "      <td>0.176777</td>\n",
       "      <td>0.061200</td>\n",
       "    </tr>\n",
       "    <tr>\n",
       "      <th>3</th>\n",
       "      <td>0.288675</td>\n",
       "      <td>0.119242</td>\n",
       "    </tr>\n",
       "    <tr>\n",
       "      <th>4</th>\n",
       "      <td>0.000000</td>\n",
       "      <td>0.000000</td>\n",
       "    </tr>\n",
       "    <tr>\n",
       "      <th>...</th>\n",
       "      <td>...</td>\n",
       "      <td>...</td>\n",
       "    </tr>\n",
       "    <tr>\n",
       "      <th>176815</th>\n",
       "      <td>0.000000</td>\n",
       "      <td>0.000000</td>\n",
       "    </tr>\n",
       "    <tr>\n",
       "      <th>176816</th>\n",
       "      <td>0.000000</td>\n",
       "      <td>0.000000</td>\n",
       "    </tr>\n",
       "    <tr>\n",
       "      <th>176817</th>\n",
       "      <td>0.000000</td>\n",
       "      <td>0.000000</td>\n",
       "    </tr>\n",
       "    <tr>\n",
       "      <th>176818</th>\n",
       "      <td>0.000000</td>\n",
       "      <td>0.000000</td>\n",
       "    </tr>\n",
       "    <tr>\n",
       "      <th>176819</th>\n",
       "      <td>0.000000</td>\n",
       "      <td>0.000000</td>\n",
       "    </tr>\n",
       "  </tbody>\n",
       "</table>\n",
       "<p>176820 rows × 2 columns</p>\n",
       "</div>"
      ],
      "text/plain": [
       "        tf_cosine_once_keyword  tfidf_cosine_once_keyword\n",
       "0                     0.000000                   0.000000\n",
       "1                     0.000000                   0.000000\n",
       "2                     0.176777                   0.061200\n",
       "3                     0.288675                   0.119242\n",
       "4                     0.000000                   0.000000\n",
       "...                        ...                        ...\n",
       "176815                0.000000                   0.000000\n",
       "176816                0.000000                   0.000000\n",
       "176817                0.000000                   0.000000\n",
       "176818                0.000000                   0.000000\n",
       "176819                0.000000                   0.000000\n",
       "\n",
       "[176820 rows x 2 columns]"
      ]
     },
     "execution_count": 15,
     "metadata": {},
     "output_type": "execute_result"
    }
   ],
   "source": [
    "result_df_once = pd.DataFrame({\"tf_cosine_once_keyword\":tf_similarity.flatten(),\n",
    "                               \"tfidf_cosine_once_keyword\":tfidf_similarity.flatten()})\n",
    "result_df_once"
   ]
  },
  {
   "cell_type": "markdown",
   "id": "f1afa34a",
   "metadata": {},
   "source": [
    "### 輸出合併結果"
   ]
  },
  {
   "cell_type": "code",
   "execution_count": 16,
   "id": "b99b516f",
   "metadata": {
    "scrolled": false
   },
   "outputs": [],
   "source": [
    "# combine_result = pd.concat([result_all_df,result_df], axis=1)\n",
    "# combine_result"
   ]
  },
  {
   "cell_type": "code",
   "execution_count": 17,
   "id": "08e31a3e",
   "metadata": {},
   "outputs": [
    {
     "data": {
      "text/html": [
       "<div>\n",
       "<style scoped>\n",
       "    .dataframe tbody tr th:only-of-type {\n",
       "        vertical-align: middle;\n",
       "    }\n",
       "\n",
       "    .dataframe tbody tr th {\n",
       "        vertical-align: top;\n",
       "    }\n",
       "\n",
       "    .dataframe thead th {\n",
       "        text-align: right;\n",
       "    }\n",
       "</style>\n",
       "<table border=\"1\" class=\"dataframe\">\n",
       "  <thead>\n",
       "    <tr style=\"text-align: right;\">\n",
       "      <th></th>\n",
       "      <th>tf_cosine_once_keyword</th>\n",
       "      <th>tfidf_cosine_once_keyword</th>\n",
       "      <th>tf_cosine_multi_keyword</th>\n",
       "      <th>tfidf_cosine_multi_keyword</th>\n",
       "    </tr>\n",
       "  </thead>\n",
       "  <tbody>\n",
       "    <tr>\n",
       "      <th>0</th>\n",
       "      <td>0.000000</td>\n",
       "      <td>0.000000</td>\n",
       "      <td>0.000000</td>\n",
       "      <td>0.000000</td>\n",
       "    </tr>\n",
       "    <tr>\n",
       "      <th>1</th>\n",
       "      <td>0.000000</td>\n",
       "      <td>0.000000</td>\n",
       "      <td>0.000000</td>\n",
       "      <td>0.000000</td>\n",
       "    </tr>\n",
       "    <tr>\n",
       "      <th>2</th>\n",
       "      <td>0.176777</td>\n",
       "      <td>0.061200</td>\n",
       "      <td>0.241101</td>\n",
       "      <td>0.108481</td>\n",
       "    </tr>\n",
       "    <tr>\n",
       "      <th>3</th>\n",
       "      <td>0.288675</td>\n",
       "      <td>0.119242</td>\n",
       "      <td>0.231800</td>\n",
       "      <td>0.106533</td>\n",
       "    </tr>\n",
       "    <tr>\n",
       "      <th>4</th>\n",
       "      <td>0.000000</td>\n",
       "      <td>0.000000</td>\n",
       "      <td>0.000000</td>\n",
       "      <td>0.000000</td>\n",
       "    </tr>\n",
       "    <tr>\n",
       "      <th>...</th>\n",
       "      <td>...</td>\n",
       "      <td>...</td>\n",
       "      <td>...</td>\n",
       "      <td>...</td>\n",
       "    </tr>\n",
       "    <tr>\n",
       "      <th>176815</th>\n",
       "      <td>0.000000</td>\n",
       "      <td>0.000000</td>\n",
       "      <td>0.000000</td>\n",
       "      <td>0.000000</td>\n",
       "    </tr>\n",
       "    <tr>\n",
       "      <th>176816</th>\n",
       "      <td>0.000000</td>\n",
       "      <td>0.000000</td>\n",
       "      <td>0.000000</td>\n",
       "      <td>0.000000</td>\n",
       "    </tr>\n",
       "    <tr>\n",
       "      <th>176817</th>\n",
       "      <td>0.000000</td>\n",
       "      <td>0.000000</td>\n",
       "      <td>0.000000</td>\n",
       "      <td>0.000000</td>\n",
       "    </tr>\n",
       "    <tr>\n",
       "      <th>176818</th>\n",
       "      <td>0.000000</td>\n",
       "      <td>0.000000</td>\n",
       "      <td>0.000000</td>\n",
       "      <td>0.000000</td>\n",
       "    </tr>\n",
       "    <tr>\n",
       "      <th>176819</th>\n",
       "      <td>0.000000</td>\n",
       "      <td>0.000000</td>\n",
       "      <td>0.000000</td>\n",
       "      <td>0.000000</td>\n",
       "    </tr>\n",
       "  </tbody>\n",
       "</table>\n",
       "<p>176820 rows × 4 columns</p>\n",
       "</div>"
      ],
      "text/plain": [
       "        tf_cosine_once_keyword  tfidf_cosine_once_keyword  \\\n",
       "0                     0.000000                   0.000000   \n",
       "1                     0.000000                   0.000000   \n",
       "2                     0.176777                   0.061200   \n",
       "3                     0.288675                   0.119242   \n",
       "4                     0.000000                   0.000000   \n",
       "...                        ...                        ...   \n",
       "176815                0.000000                   0.000000   \n",
       "176816                0.000000                   0.000000   \n",
       "176817                0.000000                   0.000000   \n",
       "176818                0.000000                   0.000000   \n",
       "176819                0.000000                   0.000000   \n",
       "\n",
       "        tf_cosine_multi_keyword  tfidf_cosine_multi_keyword  \n",
       "0                      0.000000                    0.000000  \n",
       "1                      0.000000                    0.000000  \n",
       "2                      0.241101                    0.108481  \n",
       "3                      0.231800                    0.106533  \n",
       "4                      0.000000                    0.000000  \n",
       "...                         ...                         ...  \n",
       "176815                 0.000000                    0.000000  \n",
       "176816                 0.000000                    0.000000  \n",
       "176817                 0.000000                    0.000000  \n",
       "176818                 0.000000                    0.000000  \n",
       "176819                 0.000000                    0.000000  \n",
       "\n",
       "[176820 rows x 4 columns]"
      ]
     },
     "execution_count": 17,
     "metadata": {},
     "output_type": "execute_result"
    }
   ],
   "source": [
    "result_df = pd.concat([result_df_once, result_df_multi],axis=1)\n",
    "result_df"
   ]
  },
  {
   "cell_type": "code",
   "execution_count": 18,
   "id": "6381b85c",
   "metadata": {},
   "outputs": [],
   "source": [
    "# combine_result.to_csv(\"../../output/results_similarity_jac_cos_stage1.csv\", index= False)\n",
    "result_df.to_csv(\"../../output/results_cos_keywords_stage2.csv\", index= False)\n",
    "# combine_result.to_csv(\"../../output/results_simi_cosSimi_stage2.csv\", index= False)"
   ]
  },
  {
   "cell_type": "code",
   "execution_count": 96,
   "id": "d9b8a444",
   "metadata": {},
   "outputs": [],
   "source": [
    "# End of file"
   ]
  }
 ],
 "metadata": {
  "kernelspec": {
   "display_name": "Python 3",
   "language": "python",
   "name": "python3"
  },
  "language_info": {
   "codemirror_mode": {
    "name": "ipython",
    "version": 3
   },
   "file_extension": ".py",
   "mimetype": "text/x-python",
   "name": "python",
   "nbconvert_exporter": "python",
   "pygments_lexer": "ipython3",
   "version": "3.8.8"
  }
 },
 "nbformat": 4,
 "nbformat_minor": 5
}
