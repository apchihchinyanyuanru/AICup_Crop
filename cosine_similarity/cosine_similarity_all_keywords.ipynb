{
 "cells": [
  {
   "cell_type": "code",
   "execution_count": 79,
   "id": "d5e9a52f",
   "metadata": {},
   "outputs": [],
   "source": [
    "# load package\n",
    "import pandas as pd\n",
    "import numpy as np\n",
    "from sklearn.feature_extraction.text import TfidfVectorizer\n",
    "from sklearn.feature_extraction.text import CountVectorizer\n",
    "from sklearn.feature_extraction.text import TfidfTransformer\n",
    "from sklearn.metrics.pairwise import cosine_similarity"
   ]
  },
  {
   "cell_type": "markdown",
   "id": "367fc166",
   "metadata": {},
   "source": [
    "### 用切有次數的 keywords 來做 (會重複keywords)"
   ]
  },
  {
   "cell_type": "code",
   "execution_count": 80,
   "id": "3eba75c4",
   "metadata": {
    "scrolled": false
   },
   "outputs": [
    {
     "data": {
      "text/html": [
       "<div>\n",
       "<style scoped>\n",
       "    .dataframe tbody tr th:only-of-type {\n",
       "        vertical-align: middle;\n",
       "    }\n",
       "\n",
       "    .dataframe tbody tr th {\n",
       "        vertical-align: top;\n",
       "    }\n",
       "\n",
       "    .dataframe thead th {\n",
       "        text-align: right;\n",
       "    }\n",
       "</style>\n",
       "<table border=\"1\" class=\"dataframe\">\n",
       "  <thead>\n",
       "    <tr style=\"text-align: right;\">\n",
       "      <th></th>\n",
       "      <th>id</th>\n",
       "      <th>article</th>\n",
       "      <th>words</th>\n",
       "    </tr>\n",
       "  </thead>\n",
       "  <tbody>\n",
       "    <tr>\n",
       "      <th>1</th>\n",
       "      <td>梅雨季來臨，文旦黑點病易發生，請注意病徵，以及早加強防治措施。 5月已進入梅雨季節，近日連續...</td>\n",
       "      <td>['chem', 'crop', 'pest']</td>\n",
       "      <td>['鋅錳乃浦', '鋅錳乃浦', '鋅錳乃浦水懸劑', '鋅錳乃浦可濕性粉劑', '錳乃浦'...</td>\n",
       "    </tr>\n",
       "    <tr>\n",
       "      <th>10</th>\n",
       "      <td>天氣多變溫差大，近山區及偏施氮肥田區稻熱病發病較為嚴重，籲請農友注意防治。花蓮區農改場、防檢...</td>\n",
       "      <td>['chem', 'crop', 'pest']</td>\n",
       "      <td>['亞磷酸', '微生物製劑', '三賽唑', '三賽唑', '三賽唑可濕性粉劑', '三賽...</td>\n",
       "    </tr>\n",
       "    <tr>\n",
       "      <th>1000</th>\n",
       "      <td>新聞稿-稻熱病進入好發季節，防檢局籲請農友加強防範 行政院農業委員會動植物防疫檢疫局（以下簡...</td>\n",
       "      <td>['crop', 'pest']</td>\n",
       "      <td>['水稻', '水稻', '水稻', '水稻', '水稻', '水稻', '稻熱病', '稻...</td>\n",
       "    </tr>\n",
       "    <tr>\n",
       "      <th>1005</th>\n",
       "      <td>稻熱病進入好發季節，防檢局籲請農友加強防治 農委會防檢局表示，自3月起全國各地水稻生長陸續進...</td>\n",
       "      <td>['crop', 'pest']</td>\n",
       "      <td>['水稻', '水稻', '水稻', '水稻', '水稻', '水稻', '稻熱病', '稻...</td>\n",
       "    </tr>\n",
       "    <tr>\n",
       "      <th>1007</th>\n",
       "      <td>乍暖還寒，防檢局籲請農友加強防治稻熱病 農委會防檢局表示，全國各地水稻生長陸續進入分蘗期，因...</td>\n",
       "      <td>['crop', 'pest']</td>\n",
       "      <td>['水稻', '水稻', '水稻', '水稻', '稻熱病', '稻熱病', '稻熱病', ...</td>\n",
       "    </tr>\n",
       "    <tr>\n",
       "      <th>...</th>\n",
       "      <td>...</td>\n",
       "      <td>...</td>\n",
       "      <td>...</td>\n",
       "    </tr>\n",
       "    <tr>\n",
       "      <th>986</th>\n",
       "      <td>苗栗區農業改良場發佈水稻白葉枯病警報 糧食作物病蟲害發生警報中華民國90年9月21日發佈第3...</td>\n",
       "      <td>['chem', 'crop', 'pest']</td>\n",
       "      <td>['三賽唑', '三賽唑可濕性粉劑', '三賽唑可濕性粉', '賽唑可濕性粉劑', '撲殺熱...</td>\n",
       "    </tr>\n",
       "    <tr>\n",
       "      <th>988</th>\n",
       "      <td>雨後適合稻熱病發生，請持續進行監測並指導農民防治 依據氣象預報，今年自五月中旬起，臺灣地區即...</td>\n",
       "      <td>['crop', 'pest']</td>\n",
       "      <td>['水稻', '水稻', '水稻', '梅', '稻熱病', '稻熱病', '稻熱病', '...</td>\n",
       "    </tr>\n",
       "    <tr>\n",
       "      <th>992</th>\n",
       "      <td>新入侵果實蠅緊急撲滅模擬演習  新聞稿 新入侵植物害蟲緊急撲滅演習產官學總動員嚴防外來疫病蟲...</td>\n",
       "      <td>['crop', 'pest']</td>\n",
       "      <td>['梨', '果樹', '桃', '柑桔', '柑桔', '疫病', '疫病', '疫病',...</td>\n",
       "    </tr>\n",
       "    <tr>\n",
       "      <th>997</th>\n",
       "      <td>梨木蝨危害，請農友注意防範 梨木蝨危害，請農友注意防範行政院農業委員會動植物防疫檢疫局(以下...</td>\n",
       "      <td>['chem', 'crop', 'pest']</td>\n",
       "      <td>['益達胺', '益達胺溶液', '亞滅培', '亞滅培可溶性粉劑', '梨', '梨', ...</td>\n",
       "    </tr>\n",
       "    <tr>\n",
       "      <th>998</th>\n",
       "      <td>防範梨木蝨危害，請農友配合實施共同防治 行政院農業委員會動植物防疫檢疫局表示，為有效控制中部...</td>\n",
       "      <td>['chem', 'crop', 'pest']</td>\n",
       "      <td>['益達胺', '益達胺溶液', '亞滅培', '亞滅培可溶性粉劑', '梨', '梨', ...</td>\n",
       "    </tr>\n",
       "  </tbody>\n",
       "</table>\n",
       "<p>560 rows × 3 columns</p>\n",
       "</div>"
      ],
      "text/plain": [
       "                                                     id  \\\n",
       "1     梅雨季來臨，文旦黑點病易發生，請注意病徵，以及早加強防治措施。 5月已進入梅雨季節，近日連續...   \n",
       "10    天氣多變溫差大，近山區及偏施氮肥田區稻熱病發病較為嚴重，籲請農友注意防治。花蓮區農改場、防檢...   \n",
       "1000  新聞稿-稻熱病進入好發季節，防檢局籲請農友加強防範 行政院農業委員會動植物防疫檢疫局（以下簡...   \n",
       "1005  稻熱病進入好發季節，防檢局籲請農友加強防治 農委會防檢局表示，自3月起全國各地水稻生長陸續進...   \n",
       "1007  乍暖還寒，防檢局籲請農友加強防治稻熱病 農委會防檢局表示，全國各地水稻生長陸續進入分蘗期，因...   \n",
       "...                                                 ...   \n",
       "986   苗栗區農業改良場發佈水稻白葉枯病警報 糧食作物病蟲害發生警報中華民國90年9月21日發佈第3...   \n",
       "988   雨後適合稻熱病發生，請持續進行監測並指導農民防治 依據氣象預報，今年自五月中旬起，臺灣地區即...   \n",
       "992   新入侵果實蠅緊急撲滅模擬演習  新聞稿 新入侵植物害蟲緊急撲滅演習產官學總動員嚴防外來疫病蟲...   \n",
       "997   梨木蝨危害，請農友注意防範 梨木蝨危害，請農友注意防範行政院農業委員會動植物防疫檢疫局(以下...   \n",
       "998   防範梨木蝨危害，請農友配合實施共同防治 行政院農業委員會動植物防疫檢疫局表示，為有效控制中部...   \n",
       "\n",
       "                       article  \\\n",
       "1     ['chem', 'crop', 'pest']   \n",
       "10    ['chem', 'crop', 'pest']   \n",
       "1000          ['crop', 'pest']   \n",
       "1005          ['crop', 'pest']   \n",
       "1007          ['crop', 'pest']   \n",
       "...                        ...   \n",
       "986   ['chem', 'crop', 'pest']   \n",
       "988           ['crop', 'pest']   \n",
       "992           ['crop', 'pest']   \n",
       "997   ['chem', 'crop', 'pest']   \n",
       "998   ['chem', 'crop', 'pest']   \n",
       "\n",
       "                                                  words  \n",
       "1     ['鋅錳乃浦', '鋅錳乃浦', '鋅錳乃浦水懸劑', '鋅錳乃浦可濕性粉劑', '錳乃浦'...  \n",
       "10    ['亞磷酸', '微生物製劑', '三賽唑', '三賽唑', '三賽唑可濕性粉劑', '三賽...  \n",
       "1000  ['水稻', '水稻', '水稻', '水稻', '水稻', '水稻', '稻熱病', '稻...  \n",
       "1005  ['水稻', '水稻', '水稻', '水稻', '水稻', '水稻', '稻熱病', '稻...  \n",
       "1007  ['水稻', '水稻', '水稻', '水稻', '稻熱病', '稻熱病', '稻熱病', ...  \n",
       "...                                                 ...  \n",
       "986   ['三賽唑', '三賽唑可濕性粉劑', '三賽唑可濕性粉', '賽唑可濕性粉劑', '撲殺熱...  \n",
       "988   ['水稻', '水稻', '水稻', '梅', '稻熱病', '稻熱病', '稻熱病', '...  \n",
       "992   ['梨', '果樹', '桃', '柑桔', '柑桔', '疫病', '疫病', '疫病',...  \n",
       "997   ['益達胺', '益達胺溶液', '亞滅培', '亞滅培可溶性粉劑', '梨', '梨', ...  \n",
       "998   ['益達胺', '益達胺溶液', '亞滅培', '亞滅培可溶性粉劑', '梨', '梨', ...  \n",
       "\n",
       "[560 rows x 3 columns]"
      ]
     },
     "execution_count": 80,
     "metadata": {},
     "output_type": "execute_result"
    }
   ],
   "source": [
    "# read article \n",
    "df_all = pd.read_csv('../../input/stage1.csv', header = 0, names=[\"id\", \"article\", \"words\"])\n",
    "# df_all = pd.read_csv('../../input/stage2.csv', header = 0, names=[\"id\", \"article\", \"words\"])\n",
    "# df_all = df_all[0:5]\n",
    "df_all"
   ]
  },
  {
   "cell_type": "code",
   "execution_count": 81,
   "id": "79532963",
   "metadata": {},
   "outputs": [],
   "source": [
    "# # read result file\n",
    "# result_all_df = pd.read_csv('../../output/results_similarity_jac_stage1.csv', header = 0)\n",
    "# result_all_df"
   ]
  },
  {
   "cell_type": "code",
   "execution_count": 82,
   "id": "199d8dca",
   "metadata": {},
   "outputs": [
    {
     "data": {
      "text/plain": [
       "array([[0, 0, 0, ..., 0, 0, 0],\n",
       "       [0, 0, 0, ..., 0, 0, 0],\n",
       "       [0, 0, 0, ..., 0, 0, 0],\n",
       "       ...,\n",
       "       [0, 0, 0, ..., 0, 0, 0],\n",
       "       [0, 0, 0, ..., 0, 0, 0],\n",
       "       [0, 0, 0, ..., 0, 0, 0]], dtype=int64)"
      ]
     },
     "execution_count": 82,
     "metadata": {},
     "output_type": "execute_result"
    }
   ],
   "source": [
    "# compute tf\n",
    "vectorizer = CountVectorizer() \n",
    "text_count_vector = vectorizer.fit_transform(df_all.words)\n",
    "tf_vector = text_count_vector.toarray()\n",
    "tf_vector"
   ]
  },
  {
   "cell_type": "code",
   "execution_count": 83,
   "id": "514b81d2",
   "metadata": {},
   "outputs": [
    {
     "data": {
      "text/plain": [
       "array([[0., 0., 0., ..., 0., 0., 0.],\n",
       "       [0., 0., 0., ..., 0., 0., 0.],\n",
       "       [0., 0., 0., ..., 0., 0., 0.],\n",
       "       ...,\n",
       "       [0., 0., 0., ..., 0., 0., 0.],\n",
       "       [0., 0., 0., ..., 0., 0., 0.],\n",
       "       [0., 0., 0., ..., 0., 0., 0.]])"
      ]
     },
     "execution_count": 83,
     "metadata": {},
     "output_type": "execute_result"
    }
   ],
   "source": [
    "# compute tf-idf\n",
    "tfidf_transfomer = TfidfTransformer()\n",
    "docs_tfidf = tfidf_transfomer.fit_transform(text_count_vector)\n",
    "tfidf_vector = docs_tfidf.toarray()\n",
    "tfidf_vector"
   ]
  },
  {
   "cell_type": "code",
   "execution_count": 84,
   "id": "fc130389",
   "metadata": {},
   "outputs": [
    {
     "data": {
      "text/plain": [
       "array([0.        , 0.        , 0.        , ..., 0.        , 0.04965363,\n",
       "       0.97997035])"
      ]
     },
     "execution_count": 84,
     "metadata": {},
     "output_type": "execute_result"
    }
   ],
   "source": [
    "tf_similarity = cosine_similarity(tf_vector, tf_vector)\n",
    "\n",
    "# 删除對角線元素(自己對自己)\n",
    "tf_similarity = tf_similarity[~np.eye(tf_similarity.shape[0],dtype=bool)].reshape(tf_similarity.shape[0],-1)\n",
    "tf_similarity.flatten()"
   ]
  },
  {
   "cell_type": "code",
   "execution_count": 85,
   "id": "cf6a207c",
   "metadata": {},
   "outputs": [
    {
     "data": {
      "text/plain": [
       "array([0.        , 0.        , 0.        , ..., 0.        , 0.02493781,\n",
       "       0.98369463])"
      ]
     },
     "execution_count": 85,
     "metadata": {},
     "output_type": "execute_result"
    }
   ],
   "source": [
    "tfidf_similarity = cosine_similarity(tfidf_vector, tfidf_vector)\n",
    "\n",
    "# 删除對角線元素(自己對自己)\n",
    "tfidf_similarity = tfidf_similarity[~np.eye(tfidf_similarity.shape[0],dtype=bool)].reshape(tfidf_similarity.shape[0],-1)\n",
    "tfidf_similarity.flatten()"
   ]
  },
  {
   "cell_type": "code",
   "execution_count": 86,
   "id": "cbf95d89",
   "metadata": {},
   "outputs": [
    {
     "data": {
      "text/html": [
       "<div>\n",
       "<style scoped>\n",
       "    .dataframe tbody tr th:only-of-type {\n",
       "        vertical-align: middle;\n",
       "    }\n",
       "\n",
       "    .dataframe tbody tr th {\n",
       "        vertical-align: top;\n",
       "    }\n",
       "\n",
       "    .dataframe thead th {\n",
       "        text-align: right;\n",
       "    }\n",
       "</style>\n",
       "<table border=\"1\" class=\"dataframe\">\n",
       "  <thead>\n",
       "    <tr style=\"text-align: right;\">\n",
       "      <th></th>\n",
       "      <th>tf_cosine_multi_keyword</th>\n",
       "      <th>tfidf_cosine_multi_keyword</th>\n",
       "    </tr>\n",
       "  </thead>\n",
       "  <tbody>\n",
       "    <tr>\n",
       "      <th>0</th>\n",
       "      <td>0.000000</td>\n",
       "      <td>0.000000</td>\n",
       "    </tr>\n",
       "    <tr>\n",
       "      <th>1</th>\n",
       "      <td>0.000000</td>\n",
       "      <td>0.000000</td>\n",
       "    </tr>\n",
       "    <tr>\n",
       "      <th>2</th>\n",
       "      <td>0.000000</td>\n",
       "      <td>0.000000</td>\n",
       "    </tr>\n",
       "    <tr>\n",
       "      <th>3</th>\n",
       "      <td>0.000000</td>\n",
       "      <td>0.000000</td>\n",
       "    </tr>\n",
       "    <tr>\n",
       "      <th>4</th>\n",
       "      <td>0.000000</td>\n",
       "      <td>0.000000</td>\n",
       "    </tr>\n",
       "    <tr>\n",
       "      <th>...</th>\n",
       "      <td>...</td>\n",
       "      <td>...</td>\n",
       "    </tr>\n",
       "    <tr>\n",
       "      <th>313035</th>\n",
       "      <td>0.000000</td>\n",
       "      <td>0.000000</td>\n",
       "    </tr>\n",
       "    <tr>\n",
       "      <th>313036</th>\n",
       "      <td>0.000000</td>\n",
       "      <td>0.000000</td>\n",
       "    </tr>\n",
       "    <tr>\n",
       "      <th>313037</th>\n",
       "      <td>0.000000</td>\n",
       "      <td>0.000000</td>\n",
       "    </tr>\n",
       "    <tr>\n",
       "      <th>313038</th>\n",
       "      <td>0.049654</td>\n",
       "      <td>0.024938</td>\n",
       "    </tr>\n",
       "    <tr>\n",
       "      <th>313039</th>\n",
       "      <td>0.979970</td>\n",
       "      <td>0.983695</td>\n",
       "    </tr>\n",
       "  </tbody>\n",
       "</table>\n",
       "<p>313040 rows × 2 columns</p>\n",
       "</div>"
      ],
      "text/plain": [
       "        tf_cosine_multi_keyword  tfidf_cosine_multi_keyword\n",
       "0                      0.000000                    0.000000\n",
       "1                      0.000000                    0.000000\n",
       "2                      0.000000                    0.000000\n",
       "3                      0.000000                    0.000000\n",
       "4                      0.000000                    0.000000\n",
       "...                         ...                         ...\n",
       "313035                 0.000000                    0.000000\n",
       "313036                 0.000000                    0.000000\n",
       "313037                 0.000000                    0.000000\n",
       "313038                 0.049654                    0.024938\n",
       "313039                 0.979970                    0.983695\n",
       "\n",
       "[313040 rows x 2 columns]"
      ]
     },
     "execution_count": 86,
     "metadata": {},
     "output_type": "execute_result"
    }
   ],
   "source": [
    "result_df_multi = pd.DataFrame({\"tf_cosine_multi_keyword\":tf_similarity.flatten(),\n",
    "                                \"tfidf_cosine_multi_keyword\":tfidf_similarity.flatten()})\n",
    "result_df_multi"
   ]
  },
  {
   "cell_type": "markdown",
   "id": "249e08db",
   "metadata": {},
   "source": [
    "### 用切有出現的 keywords 來做 (不重複、無計數)"
   ]
  },
  {
   "cell_type": "code",
   "execution_count": 87,
   "id": "b09b4798",
   "metadata": {},
   "outputs": [
    {
     "data": {
      "text/html": [
       "<div>\n",
       "<style scoped>\n",
       "    .dataframe tbody tr th:only-of-type {\n",
       "        vertical-align: middle;\n",
       "    }\n",
       "\n",
       "    .dataframe tbody tr th {\n",
       "        vertical-align: top;\n",
       "    }\n",
       "\n",
       "    .dataframe thead th {\n",
       "        text-align: right;\n",
       "    }\n",
       "</style>\n",
       "<table border=\"1\" class=\"dataframe\">\n",
       "  <thead>\n",
       "    <tr style=\"text-align: right;\">\n",
       "      <th></th>\n",
       "      <th>id</th>\n",
       "      <th>article</th>\n",
       "      <th>words</th>\n",
       "    </tr>\n",
       "  </thead>\n",
       "  <tbody>\n",
       "    <tr>\n",
       "      <th>1</th>\n",
       "      <td>梅雨季來臨，文旦黑點病易發生，請注意病徵，以及早加強防治措施。 5月已進入梅雨季節，近日連續...</td>\n",
       "      <td>['chem', 'crop', 'pest']</td>\n",
       "      <td>['貝芬硫可濕性粉劑', '硫水懸劑', '硫可濕性粉劑', '鋅錳乃浦', '鋅錳乃浦水懸...</td>\n",
       "    </tr>\n",
       "    <tr>\n",
       "      <th>10</th>\n",
       "      <td>天氣多變溫差大，近山區及偏施氮肥田區稻熱病發病較為嚴重，籲請農友注意防治。花蓮區農改場、防檢...</td>\n",
       "      <td>['chem', 'crop', 'pest']</td>\n",
       "      <td>['亞磷酸', '微生物製劑', '三賽唑', '三賽唑可濕性粉劑', '三賽唑水懸劑', ...</td>\n",
       "    </tr>\n",
       "    <tr>\n",
       "      <th>1000</th>\n",
       "      <td>新聞稿-稻熱病進入好發季節，防檢局籲請農友加強防範 行政院農業委員會動植物防疫檢疫局（以下簡...</td>\n",
       "      <td>['crop', 'pest']</td>\n",
       "      <td>['水稻', '稻熱病', '穗稻熱病', '葉稻熱病']</td>\n",
       "    </tr>\n",
       "    <tr>\n",
       "      <th>1005</th>\n",
       "      <td>稻熱病進入好發季節，防檢局籲請農友加強防治 農委會防檢局表示，自3月起全國各地水稻生長陸續進...</td>\n",
       "      <td>['crop', 'pest']</td>\n",
       "      <td>['水稻', '稻熱病', '穗稻熱病', '葉稻熱病']</td>\n",
       "    </tr>\n",
       "    <tr>\n",
       "      <th>1007</th>\n",
       "      <td>乍暖還寒，防檢局籲請農友加強防治稻熱病 農委會防檢局表示，全國各地水稻生長陸續進入分蘗期，因...</td>\n",
       "      <td>['crop', 'pest']</td>\n",
       "      <td>['水稻', '稻熱病', '葉稻熱病']</td>\n",
       "    </tr>\n",
       "    <tr>\n",
       "      <th>...</th>\n",
       "      <td>...</td>\n",
       "      <td>...</td>\n",
       "      <td>...</td>\n",
       "    </tr>\n",
       "    <tr>\n",
       "      <th>986</th>\n",
       "      <td>苗栗區農業改良場發佈水稻白葉枯病警報 糧食作物病蟲害發生警報中華民國90年9月21日發佈第3...</td>\n",
       "      <td>['chem', 'crop', 'pest']</td>\n",
       "      <td>['三賽唑', '三賽唑可濕性粉劑', '三賽唑可濕性粉', '賽唑可濕性粉劑', '撲殺熱...</td>\n",
       "    </tr>\n",
       "    <tr>\n",
       "      <th>988</th>\n",
       "      <td>雨後適合稻熱病發生，請持續進行監測並指導農民防治 依據氣象預報，今年自五月中旬起，臺灣地區即...</td>\n",
       "      <td>['crop', 'pest']</td>\n",
       "      <td>['水稻', '梅', '稻熱病']</td>\n",
       "    </tr>\n",
       "    <tr>\n",
       "      <th>992</th>\n",
       "      <td>新入侵果實蠅緊急撲滅模擬演習  新聞稿 新入侵植物害蟲緊急撲滅演習產官學總動員嚴防外來疫病蟲...</td>\n",
       "      <td>['crop', 'pest']</td>\n",
       "      <td>['梨', '果樹', '桃', '柑桔', '疫病', '果實蠅', '地中海果實蠅']</td>\n",
       "    </tr>\n",
       "    <tr>\n",
       "      <th>997</th>\n",
       "      <td>梨木蝨危害，請農友注意防範 梨木蝨危害，請農友注意防範行政院農業委員會動植物防疫檢疫局(以下...</td>\n",
       "      <td>['chem', 'crop', 'pest']</td>\n",
       "      <td>['益達胺', '益達胺溶液', '亞滅培', '亞滅培可溶性粉劑', '梨', '梨木蝨'...</td>\n",
       "    </tr>\n",
       "    <tr>\n",
       "      <th>998</th>\n",
       "      <td>防範梨木蝨危害，請農友配合實施共同防治 行政院農業委員會動植物防疫檢疫局表示，為有效控制中部...</td>\n",
       "      <td>['chem', 'crop', 'pest']</td>\n",
       "      <td>['益達胺', '益達胺溶液', '亞滅培', '亞滅培可溶性粉劑', '梨', '高接梨'...</td>\n",
       "    </tr>\n",
       "  </tbody>\n",
       "</table>\n",
       "<p>560 rows × 3 columns</p>\n",
       "</div>"
      ],
      "text/plain": [
       "                                                     id  \\\n",
       "1     梅雨季來臨，文旦黑點病易發生，請注意病徵，以及早加強防治措施。 5月已進入梅雨季節，近日連續...   \n",
       "10    天氣多變溫差大，近山區及偏施氮肥田區稻熱病發病較為嚴重，籲請農友注意防治。花蓮區農改場、防檢...   \n",
       "1000  新聞稿-稻熱病進入好發季節，防檢局籲請農友加強防範 行政院農業委員會動植物防疫檢疫局（以下簡...   \n",
       "1005  稻熱病進入好發季節，防檢局籲請農友加強防治 農委會防檢局表示，自3月起全國各地水稻生長陸續進...   \n",
       "1007  乍暖還寒，防檢局籲請農友加強防治稻熱病 農委會防檢局表示，全國各地水稻生長陸續進入分蘗期，因...   \n",
       "...                                                 ...   \n",
       "986   苗栗區農業改良場發佈水稻白葉枯病警報 糧食作物病蟲害發生警報中華民國90年9月21日發佈第3...   \n",
       "988   雨後適合稻熱病發生，請持續進行監測並指導農民防治 依據氣象預報，今年自五月中旬起，臺灣地區即...   \n",
       "992   新入侵果實蠅緊急撲滅模擬演習  新聞稿 新入侵植物害蟲緊急撲滅演習產官學總動員嚴防外來疫病蟲...   \n",
       "997   梨木蝨危害，請農友注意防範 梨木蝨危害，請農友注意防範行政院農業委員會動植物防疫檢疫局(以下...   \n",
       "998   防範梨木蝨危害，請農友配合實施共同防治 行政院農業委員會動植物防疫檢疫局表示，為有效控制中部...   \n",
       "\n",
       "                       article  \\\n",
       "1     ['chem', 'crop', 'pest']   \n",
       "10    ['chem', 'crop', 'pest']   \n",
       "1000          ['crop', 'pest']   \n",
       "1005          ['crop', 'pest']   \n",
       "1007          ['crop', 'pest']   \n",
       "...                        ...   \n",
       "986   ['chem', 'crop', 'pest']   \n",
       "988           ['crop', 'pest']   \n",
       "992           ['crop', 'pest']   \n",
       "997   ['chem', 'crop', 'pest']   \n",
       "998   ['chem', 'crop', 'pest']   \n",
       "\n",
       "                                                  words  \n",
       "1     ['貝芬硫可濕性粉劑', '硫水懸劑', '硫可濕性粉劑', '鋅錳乃浦', '鋅錳乃浦水懸...  \n",
       "10    ['亞磷酸', '微生物製劑', '三賽唑', '三賽唑可濕性粉劑', '三賽唑水懸劑', ...  \n",
       "1000                      ['水稻', '稻熱病', '穗稻熱病', '葉稻熱病']  \n",
       "1005                      ['水稻', '稻熱病', '穗稻熱病', '葉稻熱病']  \n",
       "1007                              ['水稻', '稻熱病', '葉稻熱病']  \n",
       "...                                                 ...  \n",
       "986   ['三賽唑', '三賽唑可濕性粉劑', '三賽唑可濕性粉', '賽唑可濕性粉劑', '撲殺熱...  \n",
       "988                                  ['水稻', '梅', '稻熱病']  \n",
       "992       ['梨', '果樹', '桃', '柑桔', '疫病', '果實蠅', '地中海果實蠅']  \n",
       "997   ['益達胺', '益達胺溶液', '亞滅培', '亞滅培可溶性粉劑', '梨', '梨木蝨'...  \n",
       "998   ['益達胺', '益達胺溶液', '亞滅培', '亞滅培可溶性粉劑', '梨', '高接梨'...  \n",
       "\n",
       "[560 rows x 3 columns]"
      ]
     },
     "execution_count": 87,
     "metadata": {},
     "output_type": "execute_result"
    }
   ],
   "source": [
    "# read article \n",
    "df_all = pd.read_csv('../../input/test3.csv', header = 0, names=[\"id\", \"article\", \"words\"])\n",
    "# df_all = pd.read_csv('../../input/stage2.csv', header = 0, names=[\"id\", \"article\", \"words\"])\n",
    "# df_all = df_all[0:5]\n",
    "df_all"
   ]
  },
  {
   "cell_type": "code",
   "execution_count": 88,
   "id": "51b77a1b",
   "metadata": {},
   "outputs": [
    {
     "data": {
      "text/plain": [
       "array([[0, 0, 0, ..., 0, 0, 0],\n",
       "       [0, 0, 0, ..., 0, 0, 0],\n",
       "       [0, 0, 0, ..., 0, 0, 0],\n",
       "       ...,\n",
       "       [0, 0, 0, ..., 0, 0, 0],\n",
       "       [0, 0, 0, ..., 0, 0, 0],\n",
       "       [0, 0, 0, ..., 0, 0, 0]], dtype=int64)"
      ]
     },
     "execution_count": 88,
     "metadata": {},
     "output_type": "execute_result"
    }
   ],
   "source": [
    "# compute tf\n",
    "vectorizer = CountVectorizer() \n",
    "text_count_vector = vectorizer.fit_transform(df_all.words)\n",
    "tf_vector = text_count_vector.toarray()\n",
    "tf_vector"
   ]
  },
  {
   "cell_type": "code",
   "execution_count": 89,
   "id": "c885f774",
   "metadata": {},
   "outputs": [
    {
     "data": {
      "text/plain": [
       "array([[0., 0., 0., ..., 0., 0., 0.],\n",
       "       [0., 0., 0., ..., 0., 0., 0.],\n",
       "       [0., 0., 0., ..., 0., 0., 0.],\n",
       "       ...,\n",
       "       [0., 0., 0., ..., 0., 0., 0.],\n",
       "       [0., 0., 0., ..., 0., 0., 0.],\n",
       "       [0., 0., 0., ..., 0., 0., 0.]])"
      ]
     },
     "execution_count": 89,
     "metadata": {},
     "output_type": "execute_result"
    }
   ],
   "source": [
    "# compute tf-idf\n",
    "tfidf_transfomer = TfidfTransformer()\n",
    "docs_tfidf = tfidf_transfomer.fit_transform(text_count_vector)\n",
    "tfidf_vector = docs_tfidf.toarray()\n",
    "tfidf_vector"
   ]
  },
  {
   "cell_type": "code",
   "execution_count": 90,
   "id": "870b1a3e",
   "metadata": {},
   "outputs": [
    {
     "data": {
      "text/plain": [
       "array([0.        , 0.        , 0.        , ..., 0.        , 0.15811388,\n",
       "       0.80178373])"
      ]
     },
     "execution_count": 90,
     "metadata": {},
     "output_type": "execute_result"
    }
   ],
   "source": [
    "tf_similarity = cosine_similarity(tf_vector, tf_vector)\n",
    "\n",
    "# 删除對角線元素(自己對自己)\n",
    "tf_similarity = tf_similarity[~np.eye(tf_similarity.shape[0],dtype=bool)].reshape(tf_similarity.shape[0],-1)\n",
    "tf_similarity.flatten()"
   ]
  },
  {
   "cell_type": "code",
   "execution_count": 91,
   "id": "9eed92f0",
   "metadata": {},
   "outputs": [
    {
     "data": {
      "text/plain": [
       "array([0.        , 0.        , 0.        , ..., 0.        , 0.09612135,\n",
       "       0.79013767])"
      ]
     },
     "execution_count": 91,
     "metadata": {},
     "output_type": "execute_result"
    }
   ],
   "source": [
    "tfidf_similarity = cosine_similarity(tfidf_vector, tfidf_vector)\n",
    "\n",
    "# 删除對角線元素(自己對自己)\n",
    "tfidf_similarity = tfidf_similarity[~np.eye(tfidf_similarity.shape[0],dtype=bool)].reshape(tfidf_similarity.shape[0],-1)\n",
    "tfidf_similarity.flatten()"
   ]
  },
  {
   "cell_type": "code",
   "execution_count": 92,
   "id": "a917e48e",
   "metadata": {},
   "outputs": [
    {
     "data": {
      "text/html": [
       "<div>\n",
       "<style scoped>\n",
       "    .dataframe tbody tr th:only-of-type {\n",
       "        vertical-align: middle;\n",
       "    }\n",
       "\n",
       "    .dataframe tbody tr th {\n",
       "        vertical-align: top;\n",
       "    }\n",
       "\n",
       "    .dataframe thead th {\n",
       "        text-align: right;\n",
       "    }\n",
       "</style>\n",
       "<table border=\"1\" class=\"dataframe\">\n",
       "  <thead>\n",
       "    <tr style=\"text-align: right;\">\n",
       "      <th></th>\n",
       "      <th>tf_cosine_once_keyword</th>\n",
       "      <th>tfidf_cosine_once_keyword</th>\n",
       "    </tr>\n",
       "  </thead>\n",
       "  <tbody>\n",
       "    <tr>\n",
       "      <th>0</th>\n",
       "      <td>0.000000</td>\n",
       "      <td>0.000000</td>\n",
       "    </tr>\n",
       "    <tr>\n",
       "      <th>1</th>\n",
       "      <td>0.000000</td>\n",
       "      <td>0.000000</td>\n",
       "    </tr>\n",
       "    <tr>\n",
       "      <th>2</th>\n",
       "      <td>0.000000</td>\n",
       "      <td>0.000000</td>\n",
       "    </tr>\n",
       "    <tr>\n",
       "      <th>3</th>\n",
       "      <td>0.000000</td>\n",
       "      <td>0.000000</td>\n",
       "    </tr>\n",
       "    <tr>\n",
       "      <th>4</th>\n",
       "      <td>0.000000</td>\n",
       "      <td>0.000000</td>\n",
       "    </tr>\n",
       "    <tr>\n",
       "      <th>...</th>\n",
       "      <td>...</td>\n",
       "      <td>...</td>\n",
       "    </tr>\n",
       "    <tr>\n",
       "      <th>313035</th>\n",
       "      <td>0.000000</td>\n",
       "      <td>0.000000</td>\n",
       "    </tr>\n",
       "    <tr>\n",
       "      <th>313036</th>\n",
       "      <td>0.000000</td>\n",
       "      <td>0.000000</td>\n",
       "    </tr>\n",
       "    <tr>\n",
       "      <th>313037</th>\n",
       "      <td>0.000000</td>\n",
       "      <td>0.000000</td>\n",
       "    </tr>\n",
       "    <tr>\n",
       "      <th>313038</th>\n",
       "      <td>0.158114</td>\n",
       "      <td>0.096121</td>\n",
       "    </tr>\n",
       "    <tr>\n",
       "      <th>313039</th>\n",
       "      <td>0.801784</td>\n",
       "      <td>0.790138</td>\n",
       "    </tr>\n",
       "  </tbody>\n",
       "</table>\n",
       "<p>313040 rows × 2 columns</p>\n",
       "</div>"
      ],
      "text/plain": [
       "        tf_cosine_once_keyword  tfidf_cosine_once_keyword\n",
       "0                     0.000000                   0.000000\n",
       "1                     0.000000                   0.000000\n",
       "2                     0.000000                   0.000000\n",
       "3                     0.000000                   0.000000\n",
       "4                     0.000000                   0.000000\n",
       "...                        ...                        ...\n",
       "313035                0.000000                   0.000000\n",
       "313036                0.000000                   0.000000\n",
       "313037                0.000000                   0.000000\n",
       "313038                0.158114                   0.096121\n",
       "313039                0.801784                   0.790138\n",
       "\n",
       "[313040 rows x 2 columns]"
      ]
     },
     "execution_count": 92,
     "metadata": {},
     "output_type": "execute_result"
    }
   ],
   "source": [
    "result_df_once = pd.DataFrame({\"tf_cosine_once_keyword\":tf_similarity.flatten(),\n",
    "                               \"tfidf_cosine_once_keyword\":tfidf_similarity.flatten()})\n",
    "result_df_once"
   ]
  },
  {
   "cell_type": "markdown",
   "id": "f1afa34a",
   "metadata": {},
   "source": [
    "### 輸出合併結果"
   ]
  },
  {
   "cell_type": "code",
   "execution_count": 93,
   "id": "b99b516f",
   "metadata": {
    "scrolled": false
   },
   "outputs": [],
   "source": [
    "# combine_result = pd.concat([result_all_df,result_df], axis=1)\n",
    "# combine_result"
   ]
  },
  {
   "cell_type": "code",
   "execution_count": 97,
   "id": "08e31a3e",
   "metadata": {},
   "outputs": [
    {
     "data": {
      "text/html": [
       "<div>\n",
       "<style scoped>\n",
       "    .dataframe tbody tr th:only-of-type {\n",
       "        vertical-align: middle;\n",
       "    }\n",
       "\n",
       "    .dataframe tbody tr th {\n",
       "        vertical-align: top;\n",
       "    }\n",
       "\n",
       "    .dataframe thead th {\n",
       "        text-align: right;\n",
       "    }\n",
       "</style>\n",
       "<table border=\"1\" class=\"dataframe\">\n",
       "  <thead>\n",
       "    <tr style=\"text-align: right;\">\n",
       "      <th></th>\n",
       "      <th>tf_cosine_once_keyword</th>\n",
       "      <th>tfidf_cosine_once_keyword</th>\n",
       "      <th>tf_cosine_multi_keyword</th>\n",
       "      <th>tfidf_cosine_multi_keyword</th>\n",
       "    </tr>\n",
       "  </thead>\n",
       "  <tbody>\n",
       "    <tr>\n",
       "      <th>0</th>\n",
       "      <td>0.000000</td>\n",
       "      <td>0.000000</td>\n",
       "      <td>0.000000</td>\n",
       "      <td>0.000000</td>\n",
       "    </tr>\n",
       "    <tr>\n",
       "      <th>1</th>\n",
       "      <td>0.000000</td>\n",
       "      <td>0.000000</td>\n",
       "      <td>0.000000</td>\n",
       "      <td>0.000000</td>\n",
       "    </tr>\n",
       "    <tr>\n",
       "      <th>2</th>\n",
       "      <td>0.000000</td>\n",
       "      <td>0.000000</td>\n",
       "      <td>0.000000</td>\n",
       "      <td>0.000000</td>\n",
       "    </tr>\n",
       "    <tr>\n",
       "      <th>3</th>\n",
       "      <td>0.000000</td>\n",
       "      <td>0.000000</td>\n",
       "      <td>0.000000</td>\n",
       "      <td>0.000000</td>\n",
       "    </tr>\n",
       "    <tr>\n",
       "      <th>4</th>\n",
       "      <td>0.000000</td>\n",
       "      <td>0.000000</td>\n",
       "      <td>0.000000</td>\n",
       "      <td>0.000000</td>\n",
       "    </tr>\n",
       "    <tr>\n",
       "      <th>...</th>\n",
       "      <td>...</td>\n",
       "      <td>...</td>\n",
       "      <td>...</td>\n",
       "      <td>...</td>\n",
       "    </tr>\n",
       "    <tr>\n",
       "      <th>313035</th>\n",
       "      <td>0.000000</td>\n",
       "      <td>0.000000</td>\n",
       "      <td>0.000000</td>\n",
       "      <td>0.000000</td>\n",
       "    </tr>\n",
       "    <tr>\n",
       "      <th>313036</th>\n",
       "      <td>0.000000</td>\n",
       "      <td>0.000000</td>\n",
       "      <td>0.000000</td>\n",
       "      <td>0.000000</td>\n",
       "    </tr>\n",
       "    <tr>\n",
       "      <th>313037</th>\n",
       "      <td>0.000000</td>\n",
       "      <td>0.000000</td>\n",
       "      <td>0.000000</td>\n",
       "      <td>0.000000</td>\n",
       "    </tr>\n",
       "    <tr>\n",
       "      <th>313038</th>\n",
       "      <td>0.158114</td>\n",
       "      <td>0.096121</td>\n",
       "      <td>0.049654</td>\n",
       "      <td>0.024938</td>\n",
       "    </tr>\n",
       "    <tr>\n",
       "      <th>313039</th>\n",
       "      <td>0.801784</td>\n",
       "      <td>0.790138</td>\n",
       "      <td>0.979970</td>\n",
       "      <td>0.983695</td>\n",
       "    </tr>\n",
       "  </tbody>\n",
       "</table>\n",
       "<p>313040 rows × 4 columns</p>\n",
       "</div>"
      ],
      "text/plain": [
       "        tf_cosine_once_keyword  tfidf_cosine_once_keyword  \\\n",
       "0                     0.000000                   0.000000   \n",
       "1                     0.000000                   0.000000   \n",
       "2                     0.000000                   0.000000   \n",
       "3                     0.000000                   0.000000   \n",
       "4                     0.000000                   0.000000   \n",
       "...                        ...                        ...   \n",
       "313035                0.000000                   0.000000   \n",
       "313036                0.000000                   0.000000   \n",
       "313037                0.000000                   0.000000   \n",
       "313038                0.158114                   0.096121   \n",
       "313039                0.801784                   0.790138   \n",
       "\n",
       "        tf_cosine_multi_keyword  tfidf_cosine_multi_keyword  \n",
       "0                      0.000000                    0.000000  \n",
       "1                      0.000000                    0.000000  \n",
       "2                      0.000000                    0.000000  \n",
       "3                      0.000000                    0.000000  \n",
       "4                      0.000000                    0.000000  \n",
       "...                         ...                         ...  \n",
       "313035                 0.000000                    0.000000  \n",
       "313036                 0.000000                    0.000000  \n",
       "313037                 0.000000                    0.000000  \n",
       "313038                 0.049654                    0.024938  \n",
       "313039                 0.979970                    0.983695  \n",
       "\n",
       "[313040 rows x 4 columns]"
      ]
     },
     "execution_count": 97,
     "metadata": {},
     "output_type": "execute_result"
    }
   ],
   "source": [
    "result_df = pd.concat([result_df_once, result_df_multi],axis=1)\n",
    "result_df"
   ]
  },
  {
   "cell_type": "code",
   "execution_count": 95,
   "id": "6381b85c",
   "metadata": {},
   "outputs": [],
   "source": [
    "# combine_result.to_csv(\"../../output/results_similarity_jac_cos_stage1.csv\", index= False)\n",
    "result_df.to_csv(\"../../output/results_cos_keywords_stage1.csv\", index= False)\n",
    "# combine_result.to_csv(\"../../output/results_simi_cosSimi_stage2.csv\", index= False)"
   ]
  },
  {
   "cell_type": "code",
   "execution_count": 96,
   "id": "d9b8a444",
   "metadata": {},
   "outputs": [],
   "source": [
    "# End of file"
   ]
  }
 ],
 "metadata": {
  "kernelspec": {
   "display_name": "Python 3",
   "language": "python",
   "name": "python3"
  },
  "language_info": {
   "codemirror_mode": {
    "name": "ipython",
    "version": 3
   },
   "file_extension": ".py",
   "mimetype": "text/x-python",
   "name": "python",
   "nbconvert_exporter": "python",
   "pygments_lexer": "ipython3",
   "version": "3.8.8"
  }
 },
 "nbformat": 4,
 "nbformat_minor": 5
}
