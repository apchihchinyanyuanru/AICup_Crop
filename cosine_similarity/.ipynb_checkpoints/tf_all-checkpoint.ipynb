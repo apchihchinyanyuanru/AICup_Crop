{
 "cells": [
  {
   "cell_type": "code",
   "execution_count": 48,
   "id": "289c822b",
   "metadata": {},
   "outputs": [],
   "source": [
    "# load package\n",
    "import pandas as pd\n",
    "import numpy as np\n",
    "import matplotlib.pyplot as plt\n",
    "from sklearn.feature_extraction.text import CountVectorizer"
   ]
  },
  {
   "cell_type": "markdown",
   "id": "fd840ebc",
   "metadata": {},
   "source": [
    "# Unigram"
   ]
  },
  {
   "cell_type": "code",
   "execution_count": 49,
   "id": "45703483",
   "metadata": {
    "scrolled": false
   },
   "outputs": [
    {
     "data": {
      "text/html": [
       "<div>\n",
       "<style scoped>\n",
       "    .dataframe tbody tr th:only-of-type {\n",
       "        vertical-align: middle;\n",
       "    }\n",
       "\n",
       "    .dataframe tbody tr th {\n",
       "        vertical-align: top;\n",
       "    }\n",
       "\n",
       "    .dataframe thead th {\n",
       "        text-align: right;\n",
       "    }\n",
       "</style>\n",
       "<table border=\"1\" class=\"dataframe\">\n",
       "  <thead>\n",
       "    <tr style=\"text-align: right;\">\n",
       "      <th></th>\n",
       "      <th>id</th>\n",
       "      <th>article</th>\n",
       "      <th>words</th>\n",
       "    </tr>\n",
       "  </thead>\n",
       "  <tbody>\n",
       "    <tr>\n",
       "      <th>0</th>\n",
       "      <td>1</td>\n",
       "      <td>梅雨季來臨，文旦黑點病易發生，請注意病徵，以及早加強防治措施。 5月已進入梅雨季節，近日連續...</td>\n",
       "      <td>['梅雨季', '來臨', '文旦', '黑點病', '易_發生', '請', '注意', ...</td>\n",
       "    </tr>\n",
       "    <tr>\n",
       "      <th>1</th>\n",
       "      <td>10</td>\n",
       "      <td>天氣多變溫差大，近山區及偏施氮肥田區稻熱病發病較為嚴重，籲請農友注意防治。花蓮區農改場、防檢...</td>\n",
       "      <td>['天氣', '多變', '溫差', '山區', '偏施_氮肥', '田區', '稻熱病',...</td>\n",
       "    </tr>\n",
       "    <tr>\n",
       "      <th>2</th>\n",
       "      <td>1000</td>\n",
       "      <td>新聞稿-稻熱病進入好發季節，防檢局籲請農友加強防範 行政院農業委員會動植物防疫檢疫局（以下簡...</td>\n",
       "      <td>['新聞稿', '稻熱病', '進入', '好發_季節', '防檢局', '籲請_農友', ...</td>\n",
       "    </tr>\n",
       "    <tr>\n",
       "      <th>3</th>\n",
       "      <td>1005</td>\n",
       "      <td>稻熱病進入好發季節，防檢局籲請農友加強防治 農委會防檢局表示，自3月起全國各地水稻生長陸續進...</td>\n",
       "      <td>['稻熱病', '進入', '好發_季節', '防檢局', '籲請_農友_加強', '防治'...</td>\n",
       "    </tr>\n",
       "    <tr>\n",
       "      <th>4</th>\n",
       "      <td>1007</td>\n",
       "      <td>乍暖還寒，防檢局籲請農友加強防治稻熱病 農委會防檢局表示，全國各地水稻生長陸續進入分蘗期，因...</td>\n",
       "      <td>['乍暖還寒', '防檢局', '籲請_農友_加強', '防治', '稻熱病', '農委會'...</td>\n",
       "    </tr>\n",
       "  </tbody>\n",
       "</table>\n",
       "</div>"
      ],
      "text/plain": [
       "     id                                            article  \\\n",
       "0     1  梅雨季來臨，文旦黑點病易發生，請注意病徵，以及早加強防治措施。 5月已進入梅雨季節，近日連續...   \n",
       "1    10  天氣多變溫差大，近山區及偏施氮肥田區稻熱病發病較為嚴重，籲請農友注意防治。花蓮區農改場、防檢...   \n",
       "2  1000  新聞稿-稻熱病進入好發季節，防檢局籲請農友加強防範 行政院農業委員會動植物防疫檢疫局（以下簡...   \n",
       "3  1005  稻熱病進入好發季節，防檢局籲請農友加強防治 農委會防檢局表示，自3月起全國各地水稻生長陸續進...   \n",
       "4  1007  乍暖還寒，防檢局籲請農友加強防治稻熱病 農委會防檢局表示，全國各地水稻生長陸續進入分蘗期，因...   \n",
       "\n",
       "                                               words  \n",
       "0  ['梅雨季', '來臨', '文旦', '黑點病', '易_發生', '請', '注意', ...  \n",
       "1  ['天氣', '多變', '溫差', '山區', '偏施_氮肥', '田區', '稻熱病',...  \n",
       "2  ['新聞稿', '稻熱病', '進入', '好發_季節', '防檢局', '籲請_農友', ...  \n",
       "3  ['稻熱病', '進入', '好發_季節', '防檢局', '籲請_農友_加強', '防治'...  \n",
       "4  ['乍暖還寒', '防檢局', '籲請_農友_加強', '防治', '稻熱病', '農委會'...  "
      ]
     },
     "execution_count": 49,
     "metadata": {},
     "output_type": "execute_result"
    }
   ],
   "source": [
    "# read data unigram\n",
    "df_unigram = pd.read_csv('../../input/stage1_unigram.csv', header = 0, names=[\"id\", \"article\", \"words\"])\n",
    "df_unigram = df_unigram[0:5]\n",
    "df_unigram"
   ]
  },
  {
   "cell_type": "code",
   "execution_count": 50,
   "id": "0354d8a6",
   "metadata": {},
   "outputs": [
    {
     "data": {
      "text/plain": [
       "array([[0, 0, 0, ..., 0, 0, 2],\n",
       "       [4, 2, 0, ..., 1, 1, 0],\n",
       "       [0, 0, 0, ..., 0, 0, 0],\n",
       "       [0, 0, 1, ..., 0, 0, 0],\n",
       "       [0, 0, 1, ..., 0, 0, 0]], dtype=int64)"
      ]
     },
     "execution_count": 50,
     "metadata": {},
     "output_type": "execute_result"
    }
   ],
   "source": [
    "# compute tf unigram\n",
    "vectorizer = CountVectorizer() \n",
    "unigram_cv = vectorizer.fit_transform(df_unigram.words)\n",
    "unigram_tf_vector = unigram_cv.toarray()\n",
    "unigram_tf_vector"
   ]
  },
  {
   "cell_type": "markdown",
   "id": "17ea24e1",
   "metadata": {},
   "source": [
    "# Once Keyword"
   ]
  },
  {
   "cell_type": "code",
   "execution_count": 51,
   "id": "142ac71d",
   "metadata": {},
   "outputs": [
    {
     "data": {
      "text/html": [
       "<div>\n",
       "<style scoped>\n",
       "    .dataframe tbody tr th:only-of-type {\n",
       "        vertical-align: middle;\n",
       "    }\n",
       "\n",
       "    .dataframe tbody tr th {\n",
       "        vertical-align: top;\n",
       "    }\n",
       "\n",
       "    .dataframe thead th {\n",
       "        text-align: right;\n",
       "    }\n",
       "</style>\n",
       "<table border=\"1\" class=\"dataframe\">\n",
       "  <thead>\n",
       "    <tr style=\"text-align: right;\">\n",
       "      <th></th>\n",
       "      <th>id</th>\n",
       "      <th>article</th>\n",
       "      <th>words</th>\n",
       "    </tr>\n",
       "  </thead>\n",
       "  <tbody>\n",
       "    <tr>\n",
       "      <th>0</th>\n",
       "      <td>1</td>\n",
       "      <td>梅雨季來臨，文旦黑點病易發生，請注意病徵，以及早加強防治措施。 5月已進入梅雨季節，近日連續...</td>\n",
       "      <td>['鋅錳乃浦', '鋅錳乃浦水懸劑', '鋅錳乃浦可濕性粉劑', '錳乃浦', '錳乃浦可濕...</td>\n",
       "    </tr>\n",
       "    <tr>\n",
       "      <th>1</th>\n",
       "      <td>10</td>\n",
       "      <td>天氣多變溫差大，近山區及偏施氮肥田區稻熱病發病較為嚴重，籲請農友注意防治。花蓮區農改場、防檢...</td>\n",
       "      <td>['亞磷酸', '微生物製劑', '三賽唑', '三賽唑可濕性粉劑', '三賽唑水懸劑', ...</td>\n",
       "    </tr>\n",
       "    <tr>\n",
       "      <th>2</th>\n",
       "      <td>1000</td>\n",
       "      <td>新聞稿-稻熱病進入好發季節，防檢局籲請農友加強防範 行政院農業委員會動植物防疫檢疫局（以下簡...</td>\n",
       "      <td>['水稻', '稻熱病', '穗稻熱病', '葉稻熱病']</td>\n",
       "    </tr>\n",
       "    <tr>\n",
       "      <th>3</th>\n",
       "      <td>1005</td>\n",
       "      <td>稻熱病進入好發季節，防檢局籲請農友加強防治 農委會防檢局表示，自3月起全國各地水稻生長陸續進...</td>\n",
       "      <td>['水稻', '稻熱病', '穗稻熱病', '葉稻熱病']</td>\n",
       "    </tr>\n",
       "    <tr>\n",
       "      <th>4</th>\n",
       "      <td>1007</td>\n",
       "      <td>乍暖還寒，防檢局籲請農友加強防治稻熱病 農委會防檢局表示，全國各地水稻生長陸續進入分蘗期，因...</td>\n",
       "      <td>['水稻', '稻熱病', '葉稻熱病']</td>\n",
       "    </tr>\n",
       "  </tbody>\n",
       "</table>\n",
       "</div>"
      ],
      "text/plain": [
       "     id                                            article  \\\n",
       "0     1  梅雨季來臨，文旦黑點病易發生，請注意病徵，以及早加強防治措施。 5月已進入梅雨季節，近日連續...   \n",
       "1    10  天氣多變溫差大，近山區及偏施氮肥田區稻熱病發病較為嚴重，籲請農友注意防治。花蓮區農改場、防檢...   \n",
       "2  1000  新聞稿-稻熱病進入好發季節，防檢局籲請農友加強防範 行政院農業委員會動植物防疫檢疫局（以下簡...   \n",
       "3  1005  稻熱病進入好發季節，防檢局籲請農友加強防治 農委會防檢局表示，自3月起全國各地水稻生長陸續進...   \n",
       "4  1007  乍暖還寒，防檢局籲請農友加強防治稻熱病 農委會防檢局表示，全國各地水稻生長陸續進入分蘗期，因...   \n",
       "\n",
       "                                               words  \n",
       "0  ['鋅錳乃浦', '鋅錳乃浦水懸劑', '鋅錳乃浦可濕性粉劑', '錳乃浦', '錳乃浦可濕...  \n",
       "1  ['亞磷酸', '微生物製劑', '三賽唑', '三賽唑可濕性粉劑', '三賽唑水懸劑', ...  \n",
       "2                      ['水稻', '稻熱病', '穗稻熱病', '葉稻熱病']  \n",
       "3                      ['水稻', '稻熱病', '穗稻熱病', '葉稻熱病']  \n",
       "4                              ['水稻', '稻熱病', '葉稻熱病']  "
      ]
     },
     "execution_count": 51,
     "metadata": {},
     "output_type": "execute_result"
    }
   ],
   "source": [
    "# read data once_keyword\n",
    "df_once_keyword = pd.read_csv('../../input/stage1_only_keyword.csv', header = 0, names=[\"id\", \"article\", \"words\"])\n",
    "df_once_keyword = df_once_keyword[0:5]\n",
    "df_once_keyword"
   ]
  },
  {
   "cell_type": "code",
   "execution_count": 52,
   "id": "036a6458",
   "metadata": {},
   "outputs": [
    {
     "data": {
      "text/plain": [
       "array([[0, 0, 0, 0, 0, 0, 0, 0, 0, 0, 0, 0, 1, 0, 0, 0, 0, 0, 0, 0, 1, 1,\n",
       "        1, 1, 1, 1],\n",
       "       [1, 1, 1, 1, 1, 1, 1, 1, 1, 1, 1, 1, 0, 1, 1, 0, 1, 1, 1, 1, 0, 0,\n",
       "        0, 0, 0, 0],\n",
       "       [0, 0, 0, 0, 0, 0, 0, 0, 0, 0, 0, 0, 0, 1, 1, 1, 1, 0, 0, 0, 0, 0,\n",
       "        0, 0, 0, 0],\n",
       "       [0, 0, 0, 0, 0, 0, 0, 0, 0, 0, 0, 0, 0, 1, 1, 1, 1, 0, 0, 0, 0, 0,\n",
       "        0, 0, 0, 0],\n",
       "       [0, 0, 0, 0, 0, 0, 0, 0, 0, 0, 0, 0, 0, 1, 1, 0, 1, 0, 0, 0, 0, 0,\n",
       "        0, 0, 0, 0]], dtype=int64)"
      ]
     },
     "execution_count": 52,
     "metadata": {},
     "output_type": "execute_result"
    }
   ],
   "source": [
    "# compute tf once_keyword\n",
    "vectorizer = CountVectorizer() \n",
    "once_keyword_cv = vectorizer.fit_transform(df_once_keyword.words)\n",
    "once_keyword_tf_vector = once_keyword_cv.toarray()\n",
    "once_keyword_tf_vector"
   ]
  },
  {
   "cell_type": "markdown",
   "id": "a04c6e95",
   "metadata": {},
   "source": [
    "# Multi Keyword"
   ]
  },
  {
   "cell_type": "code",
   "execution_count": 53,
   "id": "c5b09292",
   "metadata": {},
   "outputs": [
    {
     "data": {
      "text/html": [
       "<div>\n",
       "<style scoped>\n",
       "    .dataframe tbody tr th:only-of-type {\n",
       "        vertical-align: middle;\n",
       "    }\n",
       "\n",
       "    .dataframe tbody tr th {\n",
       "        vertical-align: top;\n",
       "    }\n",
       "\n",
       "    .dataframe thead th {\n",
       "        text-align: right;\n",
       "    }\n",
       "</style>\n",
       "<table border=\"1\" class=\"dataframe\">\n",
       "  <thead>\n",
       "    <tr style=\"text-align: right;\">\n",
       "      <th></th>\n",
       "      <th>id</th>\n",
       "      <th>article</th>\n",
       "      <th>key</th>\n",
       "      <th>words</th>\n",
       "    </tr>\n",
       "  </thead>\n",
       "  <tbody>\n",
       "    <tr>\n",
       "      <th>0</th>\n",
       "      <td>1</td>\n",
       "      <td>梅雨季來臨，文旦黑點病易發生，請注意病徵，以及早加強防治措施。 5月已進入梅雨季節，近日連續...</td>\n",
       "      <td>['chem', 'crop', 'pest']</td>\n",
       "      <td>['鋅錳乃浦', '鋅錳乃浦', '鋅錳乃浦水懸劑', '鋅錳乃浦可濕性粉劑', '錳乃浦'...</td>\n",
       "    </tr>\n",
       "    <tr>\n",
       "      <th>1</th>\n",
       "      <td>10</td>\n",
       "      <td>天氣多變溫差大，近山區及偏施氮肥田區稻熱病發病較為嚴重，籲請農友注意防治。花蓮區農改場、防檢...</td>\n",
       "      <td>['chem', 'crop', 'pest']</td>\n",
       "      <td>['亞磷酸', '微生物製劑', '三賽唑', '三賽唑', '三賽唑可濕性粉劑', '三賽...</td>\n",
       "    </tr>\n",
       "    <tr>\n",
       "      <th>2</th>\n",
       "      <td>1000</td>\n",
       "      <td>新聞稿-稻熱病進入好發季節，防檢局籲請農友加強防範 行政院農業委員會動植物防疫檢疫局（以下簡...</td>\n",
       "      <td>['crop', 'pest']</td>\n",
       "      <td>['水稻', '水稻', '水稻', '水稻', '水稻', '水稻', '稻熱病', '稻...</td>\n",
       "    </tr>\n",
       "    <tr>\n",
       "      <th>3</th>\n",
       "      <td>1005</td>\n",
       "      <td>稻熱病進入好發季節，防檢局籲請農友加強防治 農委會防檢局表示，自3月起全國各地水稻生長陸續進...</td>\n",
       "      <td>['crop', 'pest']</td>\n",
       "      <td>['水稻', '水稻', '水稻', '水稻', '水稻', '水稻', '稻熱病', '稻...</td>\n",
       "    </tr>\n",
       "    <tr>\n",
       "      <th>4</th>\n",
       "      <td>1007</td>\n",
       "      <td>乍暖還寒，防檢局籲請農友加強防治稻熱病 農委會防檢局表示，全國各地水稻生長陸續進入分蘗期，因...</td>\n",
       "      <td>['crop', 'pest']</td>\n",
       "      <td>['水稻', '水稻', '水稻', '水稻', '稻熱病', '稻熱病', '稻熱病', ...</td>\n",
       "    </tr>\n",
       "    <tr>\n",
       "      <th>...</th>\n",
       "      <td>...</td>\n",
       "      <td>...</td>\n",
       "      <td>...</td>\n",
       "      <td>...</td>\n",
       "    </tr>\n",
       "    <tr>\n",
       "      <th>555</th>\n",
       "      <td>986</td>\n",
       "      <td>苗栗區農業改良場發佈水稻白葉枯病警報 糧食作物病蟲害發生警報中華民國90年9月21日發佈第3...</td>\n",
       "      <td>['chem', 'crop', 'pest']</td>\n",
       "      <td>['三賽唑', '三賽唑可濕性粉劑', '三賽唑可濕性粉', '賽唑可濕性粉劑', '撲殺熱...</td>\n",
       "    </tr>\n",
       "    <tr>\n",
       "      <th>556</th>\n",
       "      <td>988</td>\n",
       "      <td>雨後適合稻熱病發生，請持續進行監測並指導農民防治 依據氣象預報，今年自五月中旬起，臺灣地區即...</td>\n",
       "      <td>['crop', 'pest']</td>\n",
       "      <td>['水稻', '水稻', '水稻', '梅', '稻熱病', '稻熱病', '稻熱病', '...</td>\n",
       "    </tr>\n",
       "    <tr>\n",
       "      <th>557</th>\n",
       "      <td>992</td>\n",
       "      <td>新入侵果實蠅緊急撲滅模擬演習  新聞稿 新入侵植物害蟲緊急撲滅演習產官學總動員嚴防外來疫病蟲...</td>\n",
       "      <td>['crop', 'pest']</td>\n",
       "      <td>['梨', '果樹', '桃', '柑桔', '柑桔', '疫病', '疫病', '疫病',...</td>\n",
       "    </tr>\n",
       "    <tr>\n",
       "      <th>558</th>\n",
       "      <td>997</td>\n",
       "      <td>梨木蝨危害，請農友注意防範 梨木蝨危害，請農友注意防範行政院農業委員會動植物防疫檢疫局(以下...</td>\n",
       "      <td>['chem', 'crop', 'pest']</td>\n",
       "      <td>['益達胺', '益達胺溶液', '亞滅培', '亞滅培可溶性粉劑', '梨', '梨', ...</td>\n",
       "    </tr>\n",
       "    <tr>\n",
       "      <th>559</th>\n",
       "      <td>998</td>\n",
       "      <td>防範梨木蝨危害，請農友配合實施共同防治 行政院農業委員會動植物防疫檢疫局表示，為有效控制中部...</td>\n",
       "      <td>['chem', 'crop', 'pest']</td>\n",
       "      <td>['益達胺', '益達胺溶液', '亞滅培', '亞滅培可溶性粉劑', '梨', '梨', ...</td>\n",
       "    </tr>\n",
       "  </tbody>\n",
       "</table>\n",
       "<p>560 rows × 4 columns</p>\n",
       "</div>"
      ],
      "text/plain": [
       "       id                                            article  \\\n",
       "0       1  梅雨季來臨，文旦黑點病易發生，請注意病徵，以及早加強防治措施。 5月已進入梅雨季節，近日連續...   \n",
       "1      10  天氣多變溫差大，近山區及偏施氮肥田區稻熱病發病較為嚴重，籲請農友注意防治。花蓮區農改場、防檢...   \n",
       "2    1000  新聞稿-稻熱病進入好發季節，防檢局籲請農友加強防範 行政院農業委員會動植物防疫檢疫局（以下簡...   \n",
       "3    1005  稻熱病進入好發季節，防檢局籲請農友加強防治 農委會防檢局表示，自3月起全國各地水稻生長陸續進...   \n",
       "4    1007  乍暖還寒，防檢局籲請農友加強防治稻熱病 農委會防檢局表示，全國各地水稻生長陸續進入分蘗期，因...   \n",
       "..    ...                                                ...   \n",
       "555   986  苗栗區農業改良場發佈水稻白葉枯病警報 糧食作物病蟲害發生警報中華民國90年9月21日發佈第3...   \n",
       "556   988  雨後適合稻熱病發生，請持續進行監測並指導農民防治 依據氣象預報，今年自五月中旬起，臺灣地區即...   \n",
       "557   992  新入侵果實蠅緊急撲滅模擬演習  新聞稿 新入侵植物害蟲緊急撲滅演習產官學總動員嚴防外來疫病蟲...   \n",
       "558   997  梨木蝨危害，請農友注意防範 梨木蝨危害，請農友注意防範行政院農業委員會動植物防疫檢疫局(以下...   \n",
       "559   998  防範梨木蝨危害，請農友配合實施共同防治 行政院農業委員會動植物防疫檢疫局表示，為有效控制中部...   \n",
       "\n",
       "                          key  \\\n",
       "0    ['chem', 'crop', 'pest']   \n",
       "1    ['chem', 'crop', 'pest']   \n",
       "2            ['crop', 'pest']   \n",
       "3            ['crop', 'pest']   \n",
       "4            ['crop', 'pest']   \n",
       "..                        ...   \n",
       "555  ['chem', 'crop', 'pest']   \n",
       "556          ['crop', 'pest']   \n",
       "557          ['crop', 'pest']   \n",
       "558  ['chem', 'crop', 'pest']   \n",
       "559  ['chem', 'crop', 'pest']   \n",
       "\n",
       "                                                 words  \n",
       "0    ['鋅錳乃浦', '鋅錳乃浦', '鋅錳乃浦水懸劑', '鋅錳乃浦可濕性粉劑', '錳乃浦'...  \n",
       "1    ['亞磷酸', '微生物製劑', '三賽唑', '三賽唑', '三賽唑可濕性粉劑', '三賽...  \n",
       "2    ['水稻', '水稻', '水稻', '水稻', '水稻', '水稻', '稻熱病', '稻...  \n",
       "3    ['水稻', '水稻', '水稻', '水稻', '水稻', '水稻', '稻熱病', '稻...  \n",
       "4    ['水稻', '水稻', '水稻', '水稻', '稻熱病', '稻熱病', '稻熱病', ...  \n",
       "..                                                 ...  \n",
       "555  ['三賽唑', '三賽唑可濕性粉劑', '三賽唑可濕性粉', '賽唑可濕性粉劑', '撲殺熱...  \n",
       "556  ['水稻', '水稻', '水稻', '梅', '稻熱病', '稻熱病', '稻熱病', '...  \n",
       "557  ['梨', '果樹', '桃', '柑桔', '柑桔', '疫病', '疫病', '疫病',...  \n",
       "558  ['益達胺', '益達胺溶液', '亞滅培', '亞滅培可溶性粉劑', '梨', '梨', ...  \n",
       "559  ['益達胺', '益達胺溶液', '亞滅培', '亞滅培可溶性粉劑', '梨', '梨', ...  \n",
       "\n",
       "[560 rows x 4 columns]"
      ]
     },
     "execution_count": 53,
     "metadata": {},
     "output_type": "execute_result"
    }
   ],
   "source": [
    "#  read data multi_keyword\n",
    "df_multi_keyword = pd.read_csv('../../input/stage1_keyword.csv', header = 0, names=[\"id\", \"article\", \"key\", \"words\"])\n",
    "# df_multi_keyword = pd.read_csv('../../input/stage2_keyword.csv', header = 0, names=[\"id\", \"article\", \"key\", \"words\"])\n",
    "# df_multi_keyword = df_multi_keyword[0:5]\n",
    "df_multi_keyword"
   ]
  },
  {
   "cell_type": "code",
   "execution_count": 54,
   "id": "17f347a0",
   "metadata": {},
   "outputs": [
    {
     "data": {
      "text/html": [
       "<div>\n",
       "<style scoped>\n",
       "    .dataframe tbody tr th:only-of-type {\n",
       "        vertical-align: middle;\n",
       "    }\n",
       "\n",
       "    .dataframe tbody tr th {\n",
       "        vertical-align: top;\n",
       "    }\n",
       "\n",
       "    .dataframe thead th {\n",
       "        text-align: right;\n",
       "    }\n",
       "</style>\n",
       "<table border=\"1\" class=\"dataframe\">\n",
       "  <thead>\n",
       "    <tr style=\"text-align: right;\">\n",
       "      <th></th>\n",
       "      <th>id</th>\n",
       "      <th>article</th>\n",
       "      <th>key</th>\n",
       "      <th>words</th>\n",
       "    </tr>\n",
       "  </thead>\n",
       "  <tbody>\n",
       "    <tr>\n",
       "      <th>514</th>\n",
       "      <td>887</td>\n",
       "      <td>花蓮、宜蘭地區96年4月份作物病蟲疫情發生預測 請參閱附加檔案或網站http://www.h...</td>\n",
       "      <td>[]</td>\n",
       "      <td>[]</td>\n",
       "    </tr>\n",
       "  </tbody>\n",
       "</table>\n",
       "</div>"
      ],
      "text/plain": [
       "      id                                            article key words\n",
       "514  887  花蓮、宜蘭地區96年4月份作物病蟲疫情發生預測 請參閱附加檔案或網站http://www.h...  []    []"
      ]
     },
     "execution_count": 54,
     "metadata": {},
     "output_type": "execute_result"
    }
   ],
   "source": [
    "# Check stage 1 record 887 trash's location\n",
    "df_multi_keyword[df_multi_keyword[\"id\"] == 887]"
   ]
  },
  {
   "cell_type": "code",
   "execution_count": 55,
   "id": "98b500be",
   "metadata": {},
   "outputs": [
    {
     "data": {
      "text/plain": [
       "560"
      ]
     },
     "execution_count": 55,
     "metadata": {},
     "output_type": "execute_result"
    }
   ],
   "source": [
    "# compute tf multi_keyword\n",
    "vectorizer = CountVectorizer() \n",
    "multi_keyword_cv = vectorizer.fit_transform(df_multi_keyword.words)\n",
    "multi_keyword_tf_vector = multi_keyword_cv.toarray()\n",
    "len(multi_keyword_tf_vector)"
   ]
  },
  {
   "cell_type": "code",
   "execution_count": 56,
   "id": "96bcd5d4",
   "metadata": {},
   "outputs": [
    {
     "data": {
      "text/plain": [
       "559"
      ]
     },
     "execution_count": 56,
     "metadata": {},
     "output_type": "execute_result"
    }
   ],
   "source": [
    "# delte record 887 which is located at array index 514\n",
    "multi_keyword_tf_vector = np.delete(multi_keyword_tf_vector, 514, 0)\n",
    "len(multi_keyword_tf_vector)"
   ]
  },
  {
   "cell_type": "code",
   "execution_count": 57,
   "id": "3185aeb1",
   "metadata": {},
   "outputs": [],
   "source": [
    "np.save(\"../../output/stage1_tf_vector_multi_keyword.npy\", multi_keyword_tf_vector)\n",
    "# np.save(\"../../output/stage2_tf_vector_multi_keyword.npy\", multi_keyword_tf_vector)"
   ]
  },
  {
   "cell_type": "code",
   "execution_count": null,
   "id": "035fa577",
   "metadata": {},
   "outputs": [],
   "source": [
    "# End of file"
   ]
  }
 ],
 "metadata": {
  "kernelspec": {
   "display_name": "Python 3",
   "language": "python",
   "name": "python3"
  },
  "language_info": {
   "codemirror_mode": {
    "name": "ipython",
    "version": 3
   },
   "file_extension": ".py",
   "mimetype": "text/x-python",
   "name": "python",
   "nbconvert_exporter": "python",
   "pygments_lexer": "ipython3",
   "version": "3.8.8"
  }
 },
 "nbformat": 4,
 "nbformat_minor": 5
}
